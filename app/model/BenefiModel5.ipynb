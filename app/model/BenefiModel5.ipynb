{
 "cells": [
  {
   "cell_type": "code",
   "execution_count": null,
   "metadata": {},
   "outputs": [],
   "source": []
  },
  {
   "cell_type": "markdown",
   "metadata": {},
   "source": [
    "### Import Depencencies"
   ]
  },
  {
   "cell_type": "code",
   "execution_count": 1,
   "metadata": {},
   "outputs": [],
   "source": [
    "import pandas as pd\n",
    "import numpy as np\n",
    "from sklearn.datasets import make_regression "
   ]
  },
  {
   "cell_type": "code",
   "execution_count": 2,
   "metadata": {},
   "outputs": [],
   "source": [
    "import seaborn as sns\n",
    "import plotly\n",
    "%matplotlib inline\n",
    "import chart_studio.plotly as py\n",
    "import matplotlib.pyplot as plt\n",
    "from matplotlib import style"
   ]
  },
  {
   "cell_type": "code",
   "execution_count": 3,
   "metadata": {},
   "outputs": [],
   "source": [
    "from sklearn.preprocessing import StandardScaler"
   ]
  },
  {
   "cell_type": "code",
   "execution_count": 4,
   "metadata": {},
   "outputs": [
    {
     "name": "stderr",
     "output_type": "stream",
     "text": [
      "C:\\Users\\juanp\\anaconda3\\lib\\site-packages\\sklearn\\utils\\deprecation.py:144: FutureWarning: The sklearn.metrics.scorer module is  deprecated in version 0.22 and will be removed in version 0.24. The corresponding classes / functions should instead be imported from sklearn.metrics. Anything that cannot be imported from sklearn.metrics is now part of the private API.\n",
      "  warnings.warn(message, FutureWarning)\n",
      "C:\\Users\\juanp\\anaconda3\\lib\\site-packages\\sklearn\\utils\\deprecation.py:144: FutureWarning: The sklearn.feature_selection.base module is  deprecated in version 0.22 and will be removed in version 0.24. The corresponding classes / functions should instead be imported from sklearn.feature_selection. Anything that cannot be imported from sklearn.feature_selection is now part of the private API.\n",
      "  warnings.warn(message, FutureWarning)\n"
     ]
    }
   ],
   "source": [
    "from sklearn.model_selection import cross_val_score\n",
    "from sklearn.model_selection import RepeatedKFold\n",
    "from sklearn.ensemble import GradientBoostingRegressor\n",
    "import eli5 "
   ]
  },
  {
   "cell_type": "markdown",
   "metadata": {},
   "source": [
    "## Laod the data"
   ]
  },
  {
   "cell_type": "code",
   "execution_count": 5,
   "metadata": {},
   "outputs": [
    {
     "data": {
      "text/html": [
       "<div>\n",
       "<style scoped>\n",
       "    .dataframe tbody tr th:only-of-type {\n",
       "        vertical-align: middle;\n",
       "    }\n",
       "\n",
       "    .dataframe tbody tr th {\n",
       "        vertical-align: top;\n",
       "    }\n",
       "\n",
       "    .dataframe thead th {\n",
       "        text-align: right;\n",
       "    }\n",
       "</style>\n",
       "<table border=\"1\" class=\"dataframe\">\n",
       "  <thead>\n",
       "    <tr style=\"text-align: right;\">\n",
       "      <th></th>\n",
       "      <th>Cat1</th>\n",
       "      <th>AvgS1</th>\n",
       "      <th>M1</th>\n",
       "      <th>Co1</th>\n",
       "      <th>Cat2</th>\n",
       "      <th>AvgS2</th>\n",
       "      <th>M2</th>\n",
       "      <th>Co2</th>\n",
       "      <th>Cat3</th>\n",
       "      <th>AvgS3</th>\n",
       "      <th>M3</th>\n",
       "      <th>Co3</th>\n",
       "      <th>Cat4</th>\n",
       "      <th>AvgS4</th>\n",
       "      <th>M4</th>\n",
       "      <th>Co4</th>\n",
       "      <th>NumDeg</th>\n",
       "      <th>NumCertf</th>\n",
       "      <th>NumJobs</th>\n",
       "      <th>AverageMonths</th>\n",
       "    </tr>\n",
       "  </thead>\n",
       "  <tbody>\n",
       "    <tr>\n",
       "      <th>0</th>\n",
       "      <td>IT</td>\n",
       "      <td>71779.00000</td>\n",
       "      <td>23</td>\n",
       "      <td>1</td>\n",
       "      <td>Engineering</td>\n",
       "      <td>81584.97869</td>\n",
       "      <td>13</td>\n",
       "      <td>0</td>\n",
       "      <td>Engineering</td>\n",
       "      <td>81584.97869</td>\n",
       "      <td>14</td>\n",
       "      <td>0</td>\n",
       "      <td>IT</td>\n",
       "      <td>69783.63690</td>\n",
       "      <td>4</td>\n",
       "      <td>1</td>\n",
       "      <td>3</td>\n",
       "      <td>3</td>\n",
       "      <td>4</td>\n",
       "      <td>13.50</td>\n",
       "    </tr>\n",
       "    <tr>\n",
       "      <th>1</th>\n",
       "      <td>Unemployed</td>\n",
       "      <td>0.00000</td>\n",
       "      <td>21</td>\n",
       "      <td>1</td>\n",
       "      <td>Other</td>\n",
       "      <td>53085.31717</td>\n",
       "      <td>5</td>\n",
       "      <td>1</td>\n",
       "      <td>Other</td>\n",
       "      <td>53085.31717</td>\n",
       "      <td>33</td>\n",
       "      <td>0</td>\n",
       "      <td>Service</td>\n",
       "      <td>47500.00000</td>\n",
       "      <td>6</td>\n",
       "      <td>1</td>\n",
       "      <td>3</td>\n",
       "      <td>3</td>\n",
       "      <td>4</td>\n",
       "      <td>16.25</td>\n",
       "    </tr>\n",
       "    <tr>\n",
       "      <th>2</th>\n",
       "      <td>IT</td>\n",
       "      <td>69783.63690</td>\n",
       "      <td>11</td>\n",
       "      <td>1</td>\n",
       "      <td>IT</td>\n",
       "      <td>69783.63690</td>\n",
       "      <td>2</td>\n",
       "      <td>1</td>\n",
       "      <td>Unemployed</td>\n",
       "      <td>0.00000</td>\n",
       "      <td>21</td>\n",
       "      <td>1</td>\n",
       "      <td>Other</td>\n",
       "      <td>53085.31717</td>\n",
       "      <td>6</td>\n",
       "      <td>1</td>\n",
       "      <td>3</td>\n",
       "      <td>3</td>\n",
       "      <td>4</td>\n",
       "      <td>10.00</td>\n",
       "    </tr>\n",
       "    <tr>\n",
       "      <th>3</th>\n",
       "      <td>Engineering</td>\n",
       "      <td>81584.97869</td>\n",
       "      <td>7</td>\n",
       "      <td>1</td>\n",
       "      <td>IT</td>\n",
       "      <td>69783.63690</td>\n",
       "      <td>29</td>\n",
       "      <td>1</td>\n",
       "      <td>Operations</td>\n",
       "      <td>69434.83383</td>\n",
       "      <td>37</td>\n",
       "      <td>1</td>\n",
       "      <td>Management</td>\n",
       "      <td>79819.50204</td>\n",
       "      <td>102</td>\n",
       "      <td>1</td>\n",
       "      <td>3</td>\n",
       "      <td>3</td>\n",
       "      <td>4</td>\n",
       "      <td>43.75</td>\n",
       "    </tr>\n",
       "    <tr>\n",
       "      <th>4</th>\n",
       "      <td>Service</td>\n",
       "      <td>37263.83653</td>\n",
       "      <td>190</td>\n",
       "      <td>1</td>\n",
       "      <td>Other</td>\n",
       "      <td>53085.31717</td>\n",
       "      <td>18</td>\n",
       "      <td>0</td>\n",
       "      <td>Other</td>\n",
       "      <td>53085.31717</td>\n",
       "      <td>4</td>\n",
       "      <td>0</td>\n",
       "      <td>Other</td>\n",
       "      <td>53085.31717</td>\n",
       "      <td>5</td>\n",
       "      <td>0</td>\n",
       "      <td>3</td>\n",
       "      <td>3</td>\n",
       "      <td>4</td>\n",
       "      <td>54.25</td>\n",
       "    </tr>\n",
       "  </tbody>\n",
       "</table>\n",
       "</div>"
      ],
      "text/plain": [
       "          Cat1        AvgS1   M1  Co1         Cat2        AvgS2  M2  Co2  \\\n",
       "0           IT  71779.00000   23    1  Engineering  81584.97869  13    0   \n",
       "1   Unemployed      0.00000   21    1        Other  53085.31717   5    1   \n",
       "2           IT  69783.63690   11    1           IT  69783.63690   2    1   \n",
       "3  Engineering  81584.97869    7    1           IT  69783.63690  29    1   \n",
       "4      Service  37263.83653  190    1        Other  53085.31717  18    0   \n",
       "\n",
       "          Cat3        AvgS3  M3  Co3        Cat4        AvgS4   M4  Co4  \\\n",
       "0  Engineering  81584.97869  14    0          IT  69783.63690    4    1   \n",
       "1        Other  53085.31717  33    0     Service  47500.00000    6    1   \n",
       "2   Unemployed      0.00000  21    1       Other  53085.31717    6    1   \n",
       "3   Operations  69434.83383  37    1  Management  79819.50204  102    1   \n",
       "4        Other  53085.31717   4    0       Other  53085.31717    5    0   \n",
       "\n",
       "   NumDeg  NumCertf  NumJobs  AverageMonths  \n",
       "0       3         3        4          13.50  \n",
       "1       3         3        4          16.25  \n",
       "2       3         3        4          10.00  \n",
       "3       3         3        4          43.75  \n",
       "4       3         3        4          54.25  "
      ]
     },
     "execution_count": 5,
     "metadata": {},
     "output_type": "execute_result"
    }
   ],
   "source": [
    "df = pd.read_csv('finalBenefi9.csv')\n",
    "df.head()"
   ]
  },
  {
   "cell_type": "markdown",
   "metadata": {},
   "source": [
    "## Data visualization"
   ]
  },
  {
   "cell_type": "code",
   "execution_count": 6,
   "metadata": {},
   "outputs": [
    {
     "data": {
      "text/plain": [
       "3513"
      ]
     },
     "execution_count": 6,
     "metadata": {},
     "output_type": "execute_result"
    }
   ],
   "source": [
    "len(df)"
   ]
  },
  {
   "cell_type": "code",
   "execution_count": 7,
   "metadata": {},
   "outputs": [
    {
     "name": "stdout",
     "output_type": "stream",
     "text": [
      "<class 'pandas.core.frame.DataFrame'>\n",
      "RangeIndex: 3513 entries, 0 to 3512\n",
      "Data columns (total 20 columns):\n",
      " #   Column         Non-Null Count  Dtype  \n",
      "---  ------         --------------  -----  \n",
      " 0   Cat1           3513 non-null   object \n",
      " 1   AvgS1          3513 non-null   float64\n",
      " 2   M1             3513 non-null   int64  \n",
      " 3   Co1            3513 non-null   int64  \n",
      " 4   Cat2           3513 non-null   object \n",
      " 5   AvgS2          3513 non-null   float64\n",
      " 6   M2             3513 non-null   int64  \n",
      " 7   Co2            3513 non-null   int64  \n",
      " 8   Cat3           3513 non-null   object \n",
      " 9   AvgS3          3513 non-null   float64\n",
      " 10  M3             3513 non-null   int64  \n",
      " 11  Co3            3513 non-null   int64  \n",
      " 12  Cat4           3513 non-null   object \n",
      " 13  AvgS4          3513 non-null   float64\n",
      " 14  M4             3513 non-null   int64  \n",
      " 15  Co4            3513 non-null   int64  \n",
      " 16  NumDeg         3513 non-null   int64  \n",
      " 17  NumCertf       3513 non-null   int64  \n",
      " 18  NumJobs        3513 non-null   int64  \n",
      " 19  AverageMonths  3513 non-null   float64\n",
      "dtypes: float64(5), int64(11), object(4)\n",
      "memory usage: 549.0+ KB\n"
     ]
    }
   ],
   "source": [
    "df.info()"
   ]
  },
  {
   "cell_type": "code",
   "execution_count": 8,
   "metadata": {},
   "outputs": [
    {
     "data": {
      "text/plain": [
       "count           3513\n",
       "unique            22\n",
       "top       Management\n",
       "freq             797\n",
       "Name: Cat1, dtype: object"
      ]
     },
     "execution_count": 8,
     "metadata": {},
     "output_type": "execute_result"
    }
   ],
   "source": [
    "df['Cat1'].describe(include=np.object)"
   ]
  },
  {
   "cell_type": "code",
   "execution_count": 9,
   "metadata": {},
   "outputs": [
    {
     "data": {
      "text/plain": [
       "count      3513.000000\n",
       "mean      73030.117488\n",
       "std       31189.430311\n",
       "min           0.000000\n",
       "25%       51794.608330\n",
       "50%       69783.636900\n",
       "75%       79819.502040\n",
       "max      541524.500000\n",
       "Name: AvgS1, dtype: float64"
      ]
     },
     "execution_count": 9,
     "metadata": {},
     "output_type": "execute_result"
    }
   ],
   "source": [
    "df['AvgS1'].describe(include=np.object)"
   ]
  },
  {
   "cell_type": "code",
   "execution_count": 10,
   "metadata": {},
   "outputs": [
    {
     "data": {
      "text/plain": [
       "count    3513.000000\n",
       "mean       35.630515\n",
       "std        47.387537\n",
       "min         0.000000\n",
       "25%         8.000000\n",
       "50%        19.000000\n",
       "75%        42.000000\n",
       "max       515.000000\n",
       "Name: M1, dtype: float64"
      ]
     },
     "execution_count": 10,
     "metadata": {},
     "output_type": "execute_result"
    }
   ],
   "source": [
    "df['M1'].describe(include=np.object)"
   ]
  },
  {
   "cell_type": "code",
   "execution_count": 11,
   "metadata": {},
   "outputs": [
    {
     "data": {
      "text/plain": [
       "count    3513.000000\n",
       "mean       30.739325\n",
       "std        25.166030\n",
       "min         0.500000\n",
       "25%        13.500000\n",
       "50%        23.500000\n",
       "75%        40.250000\n",
       "max       184.750000\n",
       "Name: AverageMonths, dtype: float64"
      ]
     },
     "execution_count": 11,
     "metadata": {},
     "output_type": "execute_result"
    }
   ],
   "source": [
    "df['AverageMonths'].describe(include=np.object)"
   ]
  },
  {
   "cell_type": "code",
   "execution_count": 13,
   "metadata": {},
   "outputs": [
    {
     "data": {
      "text/plain": [
       "count    3513.000000\n",
       "mean        3.675206\n",
       "std         0.698683\n",
       "min         1.000000\n",
       "25%         4.000000\n",
       "50%         4.000000\n",
       "75%         4.000000\n",
       "max         4.000000\n",
       "Name: NumJobs, dtype: float64"
      ]
     },
     "execution_count": 13,
     "metadata": {},
     "output_type": "execute_result"
    }
   ],
   "source": [
    "df['NumJobs'].describe(include=np.object)"
   ]
  },
  {
   "cell_type": "markdown",
   "metadata": {},
   "source": [
    "## Convert Coountries columns from numerical to categorical"
   ]
  },
  {
   "cell_type": "code",
   "execution_count": 14,
   "metadata": {},
   "outputs": [],
   "source": [
    "df[\"Co1\"] = df[\"Co1\"].astype('category')"
   ]
  },
  {
   "cell_type": "code",
   "execution_count": 15,
   "metadata": {},
   "outputs": [
    {
     "data": {
      "text/plain": [
       "count     3513\n",
       "unique       2\n",
       "top          1\n",
       "freq      2554\n",
       "Name: Co1, dtype: int64"
      ]
     },
     "execution_count": 15,
     "metadata": {},
     "output_type": "execute_result"
    }
   ],
   "source": [
    "df['Co1'].describe(include=np.object)"
   ]
  },
  {
   "cell_type": "code",
   "execution_count": 17,
   "metadata": {},
   "outputs": [],
   "source": [
    "df[\"Co2\"] = df[\"Co2\"].astype('category')\n",
    "df[\"Co3\"] = df[\"Co3\"].astype('category')\n",
    "df[\"Co4\"] = df[\"Co4\"].astype('category')"
   ]
  },
  {
   "cell_type": "code",
   "execution_count": 18,
   "metadata": {},
   "outputs": [],
   "source": [
    "def plotFeatures(col_list,title):\n",
    "    plt.figure(figsize=(10, 14))\n",
    "    i = 0\n",
    "    print(len(col_list))\n",
    "    for col in col_list:\n",
    "        i+=1\n",
    "        plt.subplot(12,2,i)\n",
    "        plt.plot(df[col],df[\"AverageMonths\"],marker='.',linestyle='none')\n",
    "        plt.title(title % (col))   \n",
    "        plt.tight_layout()\n",
    "\n"
   ]
  },
  {
   "cell_type": "code",
   "execution_count": 19,
   "metadata": {},
   "outputs": [
    {
     "name": "stdout",
     "output_type": "stream",
     "text": [
      "20\n"
     ]
    },
    {
     "data": {
      "image/png": "[encoded data removed]",
      "text/plain": [
       "<Figure size 720x1008 with 20 Axes>"
      ]
     },
     "metadata": {
      "needs_background": "light"
     },
     "output_type": "display_data"
    }
   ],
   "source": [
    "colnames = ['Cat1', 'AvgS1', 'M1', 'Co1', 'Cat2', 'AvgS2', 'M2', 'Co2', 'Cat3', 'AvgS3', 'M3', 'Co3', 'Cat4', 'AvgS4', 'M4', 'Co4', 'NumDeg', 'NumCertf', 'NumJobs', 'AverageMonths']\n",
    "plotFeatures(colnames,\"Relationship bw %s and MonthAverage\")"
   ]
  },
  {
   "cell_type": "markdown",
   "metadata": {},
   "source": [
    "## Create dummy variables for jobs categories"
   ]
  },
  {
   "cell_type": "code",
   "execution_count": 20,
   "metadata": {},
   "outputs": [],
   "source": [
    "dummy=pd.get_dummies(df, columns=[\"Cat1\", \"Cat2\", \"Cat3\", \"Cat4\"], prefix=[\"Cat1\", \"Cat2\", \"Cat3\", \"Cat4\"])"
   ]
  },
  {
   "cell_type": "code",
   "execution_count": 21,
   "metadata": {},
   "outputs": [
    {
     "data": {
      "text/html": [
       "<div>\n",
       "<style scoped>\n",
       "    .dataframe tbody tr th:only-of-type {\n",
       "        vertical-align: middle;\n",
       "    }\n",
       "\n",
       "    .dataframe tbody tr th {\n",
       "        vertical-align: top;\n",
       "    }\n",
       "\n",
       "    .dataframe thead th {\n",
       "        text-align: right;\n",
       "    }\n",
       "</style>\n",
       "<table border=\"1\" class=\"dataframe\">\n",
       "  <thead>\n",
       "    <tr style=\"text-align: right;\">\n",
       "      <th></th>\n",
       "      <th>AvgS1</th>\n",
       "      <th>M1</th>\n",
       "      <th>Co1</th>\n",
       "      <th>AvgS2</th>\n",
       "      <th>M2</th>\n",
       "      <th>Co2</th>\n",
       "      <th>AvgS3</th>\n",
       "      <th>M3</th>\n",
       "      <th>Co3</th>\n",
       "      <th>AvgS4</th>\n",
       "      <th>...</th>\n",
       "      <th>Cat4_Government</th>\n",
       "      <th>Cat4_HR</th>\n",
       "      <th>Cat4_IT</th>\n",
       "      <th>Cat4_Management</th>\n",
       "      <th>Cat4_Marketing</th>\n",
       "      <th>Cat4_Operations</th>\n",
       "      <th>Cat4_Other</th>\n",
       "      <th>Cat4_Sales</th>\n",
       "      <th>Cat4_Service</th>\n",
       "      <th>Cat4_Unemployed</th>\n",
       "    </tr>\n",
       "  </thead>\n",
       "  <tbody>\n",
       "    <tr>\n",
       "      <th>0</th>\n",
       "      <td>71779.00000</td>\n",
       "      <td>23</td>\n",
       "      <td>1</td>\n",
       "      <td>81584.97869</td>\n",
       "      <td>13</td>\n",
       "      <td>0</td>\n",
       "      <td>81584.97869</td>\n",
       "      <td>14</td>\n",
       "      <td>0</td>\n",
       "      <td>69783.63690</td>\n",
       "      <td>...</td>\n",
       "      <td>0</td>\n",
       "      <td>0</td>\n",
       "      <td>1</td>\n",
       "      <td>0</td>\n",
       "      <td>0</td>\n",
       "      <td>0</td>\n",
       "      <td>0</td>\n",
       "      <td>0</td>\n",
       "      <td>0</td>\n",
       "      <td>0</td>\n",
       "    </tr>\n",
       "    <tr>\n",
       "      <th>1</th>\n",
       "      <td>0.00000</td>\n",
       "      <td>21</td>\n",
       "      <td>1</td>\n",
       "      <td>53085.31717</td>\n",
       "      <td>5</td>\n",
       "      <td>1</td>\n",
       "      <td>53085.31717</td>\n",
       "      <td>33</td>\n",
       "      <td>0</td>\n",
       "      <td>47500.00000</td>\n",
       "      <td>...</td>\n",
       "      <td>0</td>\n",
       "      <td>0</td>\n",
       "      <td>0</td>\n",
       "      <td>0</td>\n",
       "      <td>0</td>\n",
       "      <td>0</td>\n",
       "      <td>0</td>\n",
       "      <td>0</td>\n",
       "      <td>1</td>\n",
       "      <td>0</td>\n",
       "    </tr>\n",
       "    <tr>\n",
       "      <th>2</th>\n",
       "      <td>69783.63690</td>\n",
       "      <td>11</td>\n",
       "      <td>1</td>\n",
       "      <td>69783.63690</td>\n",
       "      <td>2</td>\n",
       "      <td>1</td>\n",
       "      <td>0.00000</td>\n",
       "      <td>21</td>\n",
       "      <td>1</td>\n",
       "      <td>53085.31717</td>\n",
       "      <td>...</td>\n",
       "      <td>0</td>\n",
       "      <td>0</td>\n",
       "      <td>0</td>\n",
       "      <td>0</td>\n",
       "      <td>0</td>\n",
       "      <td>0</td>\n",
       "      <td>1</td>\n",
       "      <td>0</td>\n",
       "      <td>0</td>\n",
       "      <td>0</td>\n",
       "    </tr>\n",
       "    <tr>\n",
       "      <th>3</th>\n",
       "      <td>81584.97869</td>\n",
       "      <td>7</td>\n",
       "      <td>1</td>\n",
       "      <td>69783.63690</td>\n",
       "      <td>29</td>\n",
       "      <td>1</td>\n",
       "      <td>69434.83383</td>\n",
       "      <td>37</td>\n",
       "      <td>1</td>\n",
       "      <td>79819.50204</td>\n",
       "      <td>...</td>\n",
       "      <td>0</td>\n",
       "      <td>0</td>\n",
       "      <td>0</td>\n",
       "      <td>1</td>\n",
       "      <td>0</td>\n",
       "      <td>0</td>\n",
       "      <td>0</td>\n",
       "      <td>0</td>\n",
       "      <td>0</td>\n",
       "      <td>0</td>\n",
       "    </tr>\n",
       "    <tr>\n",
       "      <th>4</th>\n",
       "      <td>37263.83653</td>\n",
       "      <td>190</td>\n",
       "      <td>1</td>\n",
       "      <td>53085.31717</td>\n",
       "      <td>18</td>\n",
       "      <td>0</td>\n",
       "      <td>53085.31717</td>\n",
       "      <td>4</td>\n",
       "      <td>0</td>\n",
       "      <td>53085.31717</td>\n",
       "      <td>...</td>\n",
       "      <td>0</td>\n",
       "      <td>0</td>\n",
       "      <td>0</td>\n",
       "      <td>0</td>\n",
       "      <td>0</td>\n",
       "      <td>0</td>\n",
       "      <td>1</td>\n",
       "      <td>0</td>\n",
       "      <td>0</td>\n",
       "      <td>0</td>\n",
       "    </tr>\n",
       "  </tbody>\n",
       "</table>\n",
       "<p>5 rows × 88 columns</p>\n",
       "</div>"
      ],
      "text/plain": [
       "         AvgS1   M1 Co1        AvgS2  M2 Co2        AvgS3  M3 Co3  \\\n",
       "0  71779.00000   23   1  81584.97869  13   0  81584.97869  14   0   \n",
       "1      0.00000   21   1  53085.31717   5   1  53085.31717  33   0   \n",
       "2  69783.63690   11   1  69783.63690   2   1      0.00000  21   1   \n",
       "3  81584.97869    7   1  69783.63690  29   1  69434.83383  37   1   \n",
       "4  37263.83653  190   1  53085.31717  18   0  53085.31717   4   0   \n",
       "\n",
       "         AvgS4  ...  Cat4_Government Cat4_HR  Cat4_IT  Cat4_Management  \\\n",
       "0  69783.63690  ...                0       0        1                0   \n",
       "1  47500.00000  ...                0       0        0                0   \n",
       "2  53085.31717  ...                0       0        0                0   \n",
       "3  79819.50204  ...                0       0        0                1   \n",
       "4  53085.31717  ...                0       0        0                0   \n",
       "\n",
       "   Cat4_Marketing  Cat4_Operations  Cat4_Other  Cat4_Sales  Cat4_Service  \\\n",
       "0               0                0           0           0             0   \n",
       "1               0                0           0           0             1   \n",
       "2               0                0           1           0             0   \n",
       "3               0                0           0           0             0   \n",
       "4               0                0           1           0             0   \n",
       "\n",
       "   Cat4_Unemployed  \n",
       "0                0  \n",
       "1                0  \n",
       "2                0  \n",
       "3                0  \n",
       "4                0  \n",
       "\n",
       "[5 rows x 88 columns]"
      ]
     },
     "execution_count": 21,
     "metadata": {},
     "output_type": "execute_result"
    }
   ],
   "source": [
    "dummy.head()"
   ]
  },
  {
   "cell_type": "code",
   "execution_count": 22,
   "metadata": {},
   "outputs": [
    {
     "name": "stdout",
     "output_type": "stream",
     "text": [
      "<class 'pandas.core.frame.DataFrame'>\n",
      "RangeIndex: 3513 entries, 0 to 3512\n",
      "Data columns (total 88 columns):\n",
      " #   Column              Non-Null Count  Dtype   \n",
      "---  ------              --------------  -----   \n",
      " 0   AvgS1               3513 non-null   float64 \n",
      " 1   M1                  3513 non-null   int64   \n",
      " 2   Co1                 3513 non-null   category\n",
      " 3   AvgS2               3513 non-null   float64 \n",
      " 4   M2                  3513 non-null   int64   \n",
      " 5   Co2                 3513 non-null   category\n",
      " 6   AvgS3               3513 non-null   float64 \n",
      " 7   M3                  3513 non-null   int64   \n",
      " 8   Co3                 3513 non-null   category\n",
      " 9   AvgS4               3513 non-null   float64 \n",
      " 10  M4                  3513 non-null   int64   \n",
      " 11  Co4                 3513 non-null   category\n",
      " 12  NumDeg              3513 non-null   int64   \n",
      " 13  NumCertf            3513 non-null   int64   \n",
      " 14  NumJobs             3513 non-null   int64   \n",
      " 15  AverageMonths       3513 non-null   float64 \n",
      " 16  Cat1_Academia       3513 non-null   uint8   \n",
      " 17  Cat1_Admin          3513 non-null   uint8   \n",
      " 18  Cat1_Consultant     3513 non-null   uint8   \n",
      " 19  Cat1_Consultant     3513 non-null   uint8   \n",
      " 20  Cat1_Engineering    3513 non-null   uint8   \n",
      " 21  Cat1_Entertainment  3513 non-null   uint8   \n",
      " 22  Cat1_Executive      3513 non-null   uint8   \n",
      " 23  Cat1_Finance        3513 non-null   uint8   \n",
      " 24  Cat1_Government     3513 non-null   uint8   \n",
      " 25  Cat1_HR             3513 non-null   uint8   \n",
      " 26  Cat1_Health         3513 non-null   uint8   \n",
      " 27  Cat1_IT             3513 non-null   uint8   \n",
      " 28  Cat1_IT             3513 non-null   uint8   \n",
      " 29  Cat1_It             3513 non-null   uint8   \n",
      " 30  Cat1_Law            3513 non-null   uint8   \n",
      " 31  Cat1_Management     3513 non-null   uint8   \n",
      " 32  Cat1_Marketing      3513 non-null   uint8   \n",
      " 33  Cat1_Operations     3513 non-null   uint8   \n",
      " 34  Cat1_Other          3513 non-null   uint8   \n",
      " 35  Cat1_Sales          3513 non-null   uint8   \n",
      " 36  Cat1_Service        3513 non-null   uint8   \n",
      " 37  Cat1_Unemployed     3513 non-null   uint8   \n",
      " 38  Cat2_Academia       3513 non-null   uint8   \n",
      " 39  Cat2_Admin          3513 non-null   uint8   \n",
      " 40  Cat2_Consultant     3513 non-null   uint8   \n",
      " 41  Cat2_Engineering    3513 non-null   uint8   \n",
      " 42  Cat2_Executive      3513 non-null   uint8   \n",
      " 43  Cat2_Finance        3513 non-null   uint8   \n",
      " 44  Cat2_Government     3513 non-null   uint8   \n",
      " 45  Cat2_HR             3513 non-null   uint8   \n",
      " 46  Cat2_Hr             3513 non-null   uint8   \n",
      " 47  Cat2_IT             3513 non-null   uint8   \n",
      " 48  Cat2_It             3513 non-null   uint8   \n",
      " 49  Cat2_Management     3513 non-null   uint8   \n",
      " 50  Cat2_Marketing      3513 non-null   uint8   \n",
      " 51  Cat2_Operations     3513 non-null   uint8   \n",
      " 52  Cat2_Other          3513 non-null   uint8   \n",
      " 53  Cat2_Sales          3513 non-null   uint8   \n",
      " 54  Cat2_Service        3513 non-null   uint8   \n",
      " 55  Cat2_Unemployed     3513 non-null   uint8   \n",
      " 56  Cat3_Academia       3513 non-null   uint8   \n",
      " 57  Cat3_Admin          3513 non-null   uint8   \n",
      " 58  Cat3_Consultant     3513 non-null   uint8   \n",
      " 59  Cat3_Engineering    3513 non-null   uint8   \n",
      " 60  Cat3_Executive      3513 non-null   uint8   \n",
      " 61  Cat3_Finance        3513 non-null   uint8   \n",
      " 62  Cat3_Government     3513 non-null   uint8   \n",
      " 63  Cat3_HR             3513 non-null   uint8   \n",
      " 64  Cat3_IT             3513 non-null   uint8   \n",
      " 65  Cat3_Management     3513 non-null   uint8   \n",
      " 66  Cat3_Marketing      3513 non-null   uint8   \n",
      " 67  Cat3_Operations     3513 non-null   uint8   \n",
      " 68  Cat3_Other          3513 non-null   uint8   \n",
      " 69  Cat3_Sales          3513 non-null   uint8   \n",
      " 70  Cat3_Service        3513 non-null   uint8   \n",
      " 71  Cat3_Unemployed     3513 non-null   uint8   \n",
      " 72  Cat4_Academia       3513 non-null   uint8   \n",
      " 73  Cat4_Admin          3513 non-null   uint8   \n",
      " 74  Cat4_Consultant     3513 non-null   uint8   \n",
      " 75  Cat4_Engineering    3513 non-null   uint8   \n",
      " 76  Cat4_Executive      3513 non-null   uint8   \n",
      " 77  Cat4_Finance        3513 non-null   uint8   \n",
      " 78  Cat4_Government     3513 non-null   uint8   \n",
      " 79  Cat4_HR             3513 non-null   uint8   \n",
      " 80  Cat4_IT             3513 non-null   uint8   \n",
      " 81  Cat4_Management     3513 non-null   uint8   \n",
      " 82  Cat4_Marketing      3513 non-null   uint8   \n",
      " 83  Cat4_Operations     3513 non-null   uint8   \n",
      " 84  Cat4_Other          3513 non-null   uint8   \n",
      " 85  Cat4_Sales          3513 non-null   uint8   \n",
      " 86  Cat4_Service        3513 non-null   uint8   \n",
      " 87  Cat4_Unemployed     3513 non-null   uint8   \n",
      "dtypes: category(4), float64(5), int64(7), uint8(72)\n",
      "memory usage: 590.6 KB\n"
     ]
    }
   ],
   "source": [
    "dummy.info()"
   ]
  },
  {
   "cell_type": "markdown",
   "metadata": {},
   "source": [
    "## Show Average salaries histogrmas"
   ]
  },
  {
   "cell_type": "code",
   "execution_count": 23,
   "metadata": {},
   "outputs": [
    {
     "data": {
      "text/plain": [
       "array([[<matplotlib.axes._subplots.AxesSubplot object at 0x000001B613B55B48>]],\n",
       "      dtype=object)"
      ]
     },
     "execution_count": 23,
     "metadata": {},
     "output_type": "execute_result"
    },
    {
     "data": {
      "image/png": "[encoded data removed]",
      "text/plain": [
       "<Figure size 432x288 with 1 Axes>"
      ]
     },
     "metadata": {
      "needs_background": "light"
     },
     "output_type": "display_data"
    }
   ],
   "source": [
    "dummy.hist(column='AvgS1')"
   ]
  },
  {
   "cell_type": "code",
   "execution_count": 24,
   "metadata": {},
   "outputs": [
    {
     "data": {
      "text/plain": [
       "array([[<matplotlib.axes._subplots.AxesSubplot object at 0x000001B613198148>]],\n",
       "      dtype=object)"
      ]
     },
     "execution_count": 24,
     "metadata": {},
     "output_type": "execute_result"
    },
    {
     "data": {
      "image/png": "[encoded data removed]",
      "text/plain": [
       "<Figure size 432x288 with 1 Axes>"
      ]
     },
     "metadata": {
      "needs_background": "light"
     },
     "output_type": "display_data"
    }
   ],
   "source": [
    "dummy.hist(column='AvgS2')"
   ]
  },
  {
   "cell_type": "code",
   "execution_count": 25,
   "metadata": {},
   "outputs": [
    {
     "data": {
      "text/plain": [
       "array([[<matplotlib.axes._subplots.AxesSubplot object at 0x000001B61383DB48>]],\n",
       "      dtype=object)"
      ]
     },
     "execution_count": 25,
     "metadata": {},
     "output_type": "execute_result"
    },
    {
     "data": {
      "image/png": "[encoded data removed]",
      "text/plain": [
       "<Figure size 432x288 with 1 Axes>"
      ]
     },
     "metadata": {
      "needs_background": "light"
     },
     "output_type": "display_data"
    }
   ],
   "source": [
    "dummy.hist(column='AvgS3')"
   ]
  },
  {
   "cell_type": "code",
   "execution_count": 26,
   "metadata": {},
   "outputs": [
    {
     "data": {
      "text/plain": [
       "array([[<matplotlib.axes._subplots.AxesSubplot object at 0x000001B6136D4BC8>]],\n",
       "      dtype=object)"
      ]
     },
     "execution_count": 26,
     "metadata": {},
     "output_type": "execute_result"
    },
    {
     "data": {
      "image/png": "[encoded data removed]",
      "text/plain": [
       "<Figure size 432x288 with 1 Axes>"
      ]
     },
     "metadata": {
      "needs_background": "light"
     },
     "output_type": "display_data"
    }
   ],
   "source": [
    "dummy.hist(column='AvgS4')"
   ]
  },
  {
   "cell_type": "markdown",
   "metadata": {},
   "source": [
    "## Show Months of experience histograms"
   ]
  },
  {
   "cell_type": "code",
   "execution_count": 27,
   "metadata": {},
   "outputs": [
    {
     "data": {
      "text/plain": [
       "array([[<matplotlib.axes._subplots.AxesSubplot object at 0x000001B61350E848>]],\n",
       "      dtype=object)"
      ]
     },
     "execution_count": 27,
     "metadata": {},
     "output_type": "execute_result"
    },
    {
     "data": {
      "image/png": "[encoded data removed]",
      "text/plain": [
       "<Figure size 432x288 with 1 Axes>"
      ]
     },
     "metadata": {
      "needs_background": "light"
     },
     "output_type": "display_data"
    }
   ],
   "source": [
    "dummy.hist(column='M1')"
   ]
  },
  {
   "cell_type": "code",
   "execution_count": 28,
   "metadata": {},
   "outputs": [
    {
     "data": {
      "text/plain": [
       "array([[<matplotlib.axes._subplots.AxesSubplot object at 0x000001B6139FBB88>]],\n",
       "      dtype=object)"
      ]
     },
     "execution_count": 28,
     "metadata": {},
     "output_type": "execute_result"
    },
    {
     "data": {
      "image/png": "[encoded data removed]",
      "text/plain": [
       "<Figure size 432x288 with 1 Axes>"
      ]
     },
     "metadata": {
      "needs_background": "light"
     },
     "output_type": "display_data"
    }
   ],
   "source": [
    "dummy.hist(column='M2')"
   ]
  },
  {
   "cell_type": "code",
   "execution_count": 29,
   "metadata": {},
   "outputs": [
    {
     "data": {
      "text/plain": [
       "array([[<matplotlib.axes._subplots.AxesSubplot object at 0x000001B613A33288>]],\n",
       "      dtype=object)"
      ]
     },
     "execution_count": 29,
     "metadata": {},
     "output_type": "execute_result"
    },
    {
     "data": {
      "image/png": "[encoded data removed]",
      "text/plain": [
       "<Figure size 432x288 with 1 Axes>"
      ]
     },
     "metadata": {
      "needs_background": "light"
     },
     "output_type": "display_data"
    }
   ],
   "source": [
    "dummy.hist(column='M3')"
   ]
  },
  {
   "cell_type": "code",
   "execution_count": 30,
   "metadata": {},
   "outputs": [
    {
     "data": {
      "text/plain": [
       "array([[<matplotlib.axes._subplots.AxesSubplot object at 0x000001B61390A288>]],\n",
       "      dtype=object)"
      ]
     },
     "execution_count": 30,
     "metadata": {},
     "output_type": "execute_result"
    },
    {
     "data": {
      "image/png": "[encoded data removed]",
      "text/plain": [
       "<Figure size 432x288 with 1 Axes>"
      ]
     },
     "metadata": {
      "needs_background": "light"
     },
     "output_type": "display_data"
    }
   ],
   "source": [
    "dummy.hist(column='M4')"
   ]
  },
  {
   "cell_type": "markdown",
   "metadata": {},
   "source": [
    "## Number of jobs histogram"
   ]
  },
  {
   "cell_type": "code",
   "execution_count": 31,
   "metadata": {},
   "outputs": [
    {
     "data": {
      "text/plain": [
       "array([[<matplotlib.axes._subplots.AxesSubplot object at 0x000001B6139CA8C8>]],\n",
       "      dtype=object)"
      ]
     },
     "execution_count": 31,
     "metadata": {},
     "output_type": "execute_result"
    },
    {
     "data": {
      "image/png": "[encoded data removed]",
      "text/plain": [
       "<Figure size 432x288 with 1 Axes>"
      ]
     },
     "metadata": {
      "needs_background": "light"
     },
     "output_type": "display_data"
    }
   ],
   "source": [
    "dummy.hist(column='NumJobs')"
   ]
  },
  {
   "cell_type": "markdown",
   "metadata": {},
   "source": [
    "## Average months of experience "
   ]
  },
  {
   "cell_type": "code",
   "execution_count": 32,
   "metadata": {},
   "outputs": [
    {
     "data": {
      "text/plain": [
       "array([[<matplotlib.axes._subplots.AxesSubplot object at 0x000001B613805FC8>]],\n",
       "      dtype=object)"
      ]
     },
     "execution_count": 32,
     "metadata": {},
     "output_type": "execute_result"
    },
    {
     "data": {
      "image/png": "[encoded data removed]",
      "text/plain": [
       "<Figure size 432x288 with 1 Axes>"
      ]
     },
     "metadata": {
      "needs_background": "light"
     },
     "output_type": "display_data"
    }
   ],
   "source": [
    "dummy.hist(column='AverageMonths')"
   ]
  },
  {
   "cell_type": "markdown",
   "metadata": {},
   "source": [
    "# Could be useful to standarize target variable using log function"
   ]
  },
  {
   "cell_type": "code",
   "execution_count": 33,
   "metadata": {},
   "outputs": [
    {
     "data": {
      "image/png": "[encoded data removed]",
      "text/plain": [
       "<Figure size 432x288 with 1 Axes>"
      ]
     },
     "metadata": {
      "needs_background": "light"
     },
     "output_type": "display_data"
    }
   ],
   "source": [
    "dummy[\"AverageMonths\"].apply(np.log).hist()\n",
    "plt.show()"
   ]
  },
  {
   "cell_type": "code",
   "execution_count": 34,
   "metadata": {},
   "outputs": [],
   "source": [
    "dummy['logAvgM']=np.log(dummy['AverageMonths'])"
   ]
  },
  {
   "cell_type": "code",
   "execution_count": 35,
   "metadata": {},
   "outputs": [
    {
     "data": {
      "text/html": [
       "<div>\n",
       "<style scoped>\n",
       "    .dataframe tbody tr th:only-of-type {\n",
       "        vertical-align: middle;\n",
       "    }\n",
       "\n",
       "    .dataframe tbody tr th {\n",
       "        vertical-align: top;\n",
       "    }\n",
       "\n",
       "    .dataframe thead th {\n",
       "        text-align: right;\n",
       "    }\n",
       "</style>\n",
       "<table border=\"1\" class=\"dataframe\">\n",
       "  <thead>\n",
       "    <tr style=\"text-align: right;\">\n",
       "      <th></th>\n",
       "      <th>AvgS1</th>\n",
       "      <th>M1</th>\n",
       "      <th>Co1</th>\n",
       "      <th>AvgS2</th>\n",
       "      <th>M2</th>\n",
       "      <th>Co2</th>\n",
       "      <th>AvgS3</th>\n",
       "      <th>M3</th>\n",
       "      <th>Co3</th>\n",
       "      <th>AvgS4</th>\n",
       "      <th>...</th>\n",
       "      <th>Cat4_HR</th>\n",
       "      <th>Cat4_IT</th>\n",
       "      <th>Cat4_Management</th>\n",
       "      <th>Cat4_Marketing</th>\n",
       "      <th>Cat4_Operations</th>\n",
       "      <th>Cat4_Other</th>\n",
       "      <th>Cat4_Sales</th>\n",
       "      <th>Cat4_Service</th>\n",
       "      <th>Cat4_Unemployed</th>\n",
       "      <th>logAvgM</th>\n",
       "    </tr>\n",
       "  </thead>\n",
       "  <tbody>\n",
       "    <tr>\n",
       "      <th>0</th>\n",
       "      <td>71779.00000</td>\n",
       "      <td>23</td>\n",
       "      <td>1</td>\n",
       "      <td>81584.97869</td>\n",
       "      <td>13</td>\n",
       "      <td>0</td>\n",
       "      <td>81584.97869</td>\n",
       "      <td>14</td>\n",
       "      <td>0</td>\n",
       "      <td>69783.63690</td>\n",
       "      <td>...</td>\n",
       "      <td>0</td>\n",
       "      <td>1</td>\n",
       "      <td>0</td>\n",
       "      <td>0</td>\n",
       "      <td>0</td>\n",
       "      <td>0</td>\n",
       "      <td>0</td>\n",
       "      <td>0</td>\n",
       "      <td>0</td>\n",
       "      <td>2.602690</td>\n",
       "    </tr>\n",
       "    <tr>\n",
       "      <th>1</th>\n",
       "      <td>0.00000</td>\n",
       "      <td>21</td>\n",
       "      <td>1</td>\n",
       "      <td>53085.31717</td>\n",
       "      <td>5</td>\n",
       "      <td>1</td>\n",
       "      <td>53085.31717</td>\n",
       "      <td>33</td>\n",
       "      <td>0</td>\n",
       "      <td>47500.00000</td>\n",
       "      <td>...</td>\n",
       "      <td>0</td>\n",
       "      <td>0</td>\n",
       "      <td>0</td>\n",
       "      <td>0</td>\n",
       "      <td>0</td>\n",
       "      <td>0</td>\n",
       "      <td>0</td>\n",
       "      <td>1</td>\n",
       "      <td>0</td>\n",
       "      <td>2.788093</td>\n",
       "    </tr>\n",
       "    <tr>\n",
       "      <th>2</th>\n",
       "      <td>69783.63690</td>\n",
       "      <td>11</td>\n",
       "      <td>1</td>\n",
       "      <td>69783.63690</td>\n",
       "      <td>2</td>\n",
       "      <td>1</td>\n",
       "      <td>0.00000</td>\n",
       "      <td>21</td>\n",
       "      <td>1</td>\n",
       "      <td>53085.31717</td>\n",
       "      <td>...</td>\n",
       "      <td>0</td>\n",
       "      <td>0</td>\n",
       "      <td>0</td>\n",
       "      <td>0</td>\n",
       "      <td>0</td>\n",
       "      <td>1</td>\n",
       "      <td>0</td>\n",
       "      <td>0</td>\n",
       "      <td>0</td>\n",
       "      <td>2.302585</td>\n",
       "    </tr>\n",
       "    <tr>\n",
       "      <th>3</th>\n",
       "      <td>81584.97869</td>\n",
       "      <td>7</td>\n",
       "      <td>1</td>\n",
       "      <td>69783.63690</td>\n",
       "      <td>29</td>\n",
       "      <td>1</td>\n",
       "      <td>69434.83383</td>\n",
       "      <td>37</td>\n",
       "      <td>1</td>\n",
       "      <td>79819.50204</td>\n",
       "      <td>...</td>\n",
       "      <td>0</td>\n",
       "      <td>0</td>\n",
       "      <td>1</td>\n",
       "      <td>0</td>\n",
       "      <td>0</td>\n",
       "      <td>0</td>\n",
       "      <td>0</td>\n",
       "      <td>0</td>\n",
       "      <td>0</td>\n",
       "      <td>3.778492</td>\n",
       "    </tr>\n",
       "    <tr>\n",
       "      <th>4</th>\n",
       "      <td>37263.83653</td>\n",
       "      <td>190</td>\n",
       "      <td>1</td>\n",
       "      <td>53085.31717</td>\n",
       "      <td>18</td>\n",
       "      <td>0</td>\n",
       "      <td>53085.31717</td>\n",
       "      <td>4</td>\n",
       "      <td>0</td>\n",
       "      <td>53085.31717</td>\n",
       "      <td>...</td>\n",
       "      <td>0</td>\n",
       "      <td>0</td>\n",
       "      <td>0</td>\n",
       "      <td>0</td>\n",
       "      <td>0</td>\n",
       "      <td>1</td>\n",
       "      <td>0</td>\n",
       "      <td>0</td>\n",
       "      <td>0</td>\n",
       "      <td>3.993603</td>\n",
       "    </tr>\n",
       "  </tbody>\n",
       "</table>\n",
       "<p>5 rows × 89 columns</p>\n",
       "</div>"
      ],
      "text/plain": [
       "         AvgS1   M1 Co1        AvgS2  M2 Co2        AvgS3  M3 Co3  \\\n",
       "0  71779.00000   23   1  81584.97869  13   0  81584.97869  14   0   \n",
       "1      0.00000   21   1  53085.31717   5   1  53085.31717  33   0   \n",
       "2  69783.63690   11   1  69783.63690   2   1      0.00000  21   1   \n",
       "3  81584.97869    7   1  69783.63690  29   1  69434.83383  37   1   \n",
       "4  37263.83653  190   1  53085.31717  18   0  53085.31717   4   0   \n",
       "\n",
       "         AvgS4  ...  Cat4_HR Cat4_IT  Cat4_Management  Cat4_Marketing  \\\n",
       "0  69783.63690  ...        0       1                0               0   \n",
       "1  47500.00000  ...        0       0                0               0   \n",
       "2  53085.31717  ...        0       0                0               0   \n",
       "3  79819.50204  ...        0       0                1               0   \n",
       "4  53085.31717  ...        0       0                0               0   \n",
       "\n",
       "   Cat4_Operations  Cat4_Other  Cat4_Sales  Cat4_Service  Cat4_Unemployed  \\\n",
       "0                0           0           0             0                0   \n",
       "1                0           0           0             1                0   \n",
       "2                0           1           0             0                0   \n",
       "3                0           0           0             0                0   \n",
       "4                0           1           0             0                0   \n",
       "\n",
       "    logAvgM  \n",
       "0  2.602690  \n",
       "1  2.788093  \n",
       "2  2.302585  \n",
       "3  3.778492  \n",
       "4  3.993603  \n",
       "\n",
       "[5 rows x 89 columns]"
      ]
     },
     "execution_count": 35,
     "metadata": {},
     "output_type": "execute_result"
    }
   ],
   "source": [
    "dummy.head()"
   ]
  },
  {
   "cell_type": "code",
   "execution_count": 36,
   "metadata": {},
   "outputs": [
    {
     "data": {
      "text/plain": [
       "count    3513.000000\n",
       "mean        3.111935\n",
       "std         0.836546\n",
       "min        -0.693147\n",
       "25%         2.602690\n",
       "50%         3.157000\n",
       "75%         3.695110\n",
       "max         5.219004\n",
       "Name: logAvgM, dtype: float64"
      ]
     },
     "execution_count": 36,
     "metadata": {},
     "output_type": "execute_result"
    }
   ],
   "source": [
    "dummy['logAvgM'].describe(include=np.object)"
   ]
  },
  {
   "cell_type": "markdown",
   "metadata": {},
   "source": [
    "## Standarize average salary, number of jobs, number of degrees, number of certification and average months of experience columns "
   ]
  },
  {
   "cell_type": "code",
   "execution_count": 37,
   "metadata": {},
   "outputs": [],
   "source": [
    "scaler = StandardScaler()\n",
    "cols_to_norm = ['AvgS1','AvgS2','AvgS3','AvgS4', 'M1', 'M2','M3','M4','NumJobs','NumDeg','NumCertf','AverageMonths']\n",
    "dummy[cols_to_norm] = StandardScaler().fit_transform(dummy[cols_to_norm])"
   ]
  },
  {
   "cell_type": "code",
   "execution_count": 38,
   "metadata": {},
   "outputs": [
    {
     "data": {
      "text/html": [
       "<div>\n",
       "<style scoped>\n",
       "    .dataframe tbody tr th:only-of-type {\n",
       "        vertical-align: middle;\n",
       "    }\n",
       "\n",
       "    .dataframe tbody tr th {\n",
       "        vertical-align: top;\n",
       "    }\n",
       "\n",
       "    .dataframe thead th {\n",
       "        text-align: right;\n",
       "    }\n",
       "</style>\n",
       "<table border=\"1\" class=\"dataframe\">\n",
       "  <thead>\n",
       "    <tr style=\"text-align: right;\">\n",
       "      <th></th>\n",
       "      <th>AvgS1</th>\n",
       "      <th>M1</th>\n",
       "      <th>Co1</th>\n",
       "      <th>AvgS2</th>\n",
       "      <th>M2</th>\n",
       "      <th>Co2</th>\n",
       "      <th>AvgS3</th>\n",
       "      <th>M3</th>\n",
       "      <th>Co3</th>\n",
       "      <th>AvgS4</th>\n",
       "      <th>...</th>\n",
       "      <th>Cat4_HR</th>\n",
       "      <th>Cat4_IT</th>\n",
       "      <th>Cat4_Management</th>\n",
       "      <th>Cat4_Marketing</th>\n",
       "      <th>Cat4_Operations</th>\n",
       "      <th>Cat4_Other</th>\n",
       "      <th>Cat4_Sales</th>\n",
       "      <th>Cat4_Service</th>\n",
       "      <th>Cat4_Unemployed</th>\n",
       "      <th>logAvgM</th>\n",
       "    </tr>\n",
       "  </thead>\n",
       "  <tbody>\n",
       "    <tr>\n",
       "      <th>0</th>\n",
       "      <td>-0.040119</td>\n",
       "      <td>-0.266575</td>\n",
       "      <td>1</td>\n",
       "      <td>0.356382</td>\n",
       "      <td>-0.496234</td>\n",
       "      <td>0</td>\n",
       "      <td>0.732638</td>\n",
       "      <td>-0.374586</td>\n",
       "      <td>0</td>\n",
       "      <td>0.448848</td>\n",
       "      <td>...</td>\n",
       "      <td>0</td>\n",
       "      <td>1</td>\n",
       "      <td>0</td>\n",
       "      <td>0</td>\n",
       "      <td>0</td>\n",
       "      <td>0</td>\n",
       "      <td>0</td>\n",
       "      <td>0</td>\n",
       "      <td>0</td>\n",
       "      <td>2.602690</td>\n",
       "    </tr>\n",
       "    <tr>\n",
       "      <th>1</th>\n",
       "      <td>-2.341835</td>\n",
       "      <td>-0.308786</td>\n",
       "      <td>1</td>\n",
       "      <td>-0.465826</td>\n",
       "      <td>-0.681189</td>\n",
       "      <td>1</td>\n",
       "      <td>-0.237360</td>\n",
       "      <td>0.098301</td>\n",
       "      <td>0</td>\n",
       "      <td>-0.138245</td>\n",
       "      <td>...</td>\n",
       "      <td>0</td>\n",
       "      <td>0</td>\n",
       "      <td>0</td>\n",
       "      <td>0</td>\n",
       "      <td>0</td>\n",
       "      <td>0</td>\n",
       "      <td>0</td>\n",
       "      <td>1</td>\n",
       "      <td>0</td>\n",
       "      <td>2.788093</td>\n",
       "    </tr>\n",
       "    <tr>\n",
       "      <th>2</th>\n",
       "      <td>-0.104104</td>\n",
       "      <td>-0.519842</td>\n",
       "      <td>1</td>\n",
       "      <td>0.015916</td>\n",
       "      <td>-0.750547</td>\n",
       "      <td>1</td>\n",
       "      <td>-2.044141</td>\n",
       "      <td>-0.200364</td>\n",
       "      <td>1</td>\n",
       "      <td>0.008908</td>\n",
       "      <td>...</td>\n",
       "      <td>0</td>\n",
       "      <td>0</td>\n",
       "      <td>0</td>\n",
       "      <td>0</td>\n",
       "      <td>0</td>\n",
       "      <td>1</td>\n",
       "      <td>0</td>\n",
       "      <td>0</td>\n",
       "      <td>0</td>\n",
       "      <td>2.302585</td>\n",
       "    </tr>\n",
       "    <tr>\n",
       "      <th>3</th>\n",
       "      <td>0.274326</td>\n",
       "      <td>-0.604264</td>\n",
       "      <td>1</td>\n",
       "      <td>0.015916</td>\n",
       "      <td>-0.126324</td>\n",
       "      <td>1</td>\n",
       "      <td>0.319103</td>\n",
       "      <td>0.197856</td>\n",
       "      <td>1</td>\n",
       "      <td>0.713256</td>\n",
       "      <td>...</td>\n",
       "      <td>0</td>\n",
       "      <td>0</td>\n",
       "      <td>1</td>\n",
       "      <td>0</td>\n",
       "      <td>0</td>\n",
       "      <td>0</td>\n",
       "      <td>0</td>\n",
       "      <td>0</td>\n",
       "      <td>0</td>\n",
       "      <td>3.778492</td>\n",
       "    </tr>\n",
       "    <tr>\n",
       "      <th>4</th>\n",
       "      <td>-1.146907</td>\n",
       "      <td>3.258060</td>\n",
       "      <td>1</td>\n",
       "      <td>-0.465826</td>\n",
       "      <td>-0.380637</td>\n",
       "      <td>0</td>\n",
       "      <td>-0.237360</td>\n",
       "      <td>-0.623473</td>\n",
       "      <td>0</td>\n",
       "      <td>0.008908</td>\n",
       "      <td>...</td>\n",
       "      <td>0</td>\n",
       "      <td>0</td>\n",
       "      <td>0</td>\n",
       "      <td>0</td>\n",
       "      <td>0</td>\n",
       "      <td>1</td>\n",
       "      <td>0</td>\n",
       "      <td>0</td>\n",
       "      <td>0</td>\n",
       "      <td>3.993603</td>\n",
       "    </tr>\n",
       "  </tbody>\n",
       "</table>\n",
       "<p>5 rows × 89 columns</p>\n",
       "</div>"
      ],
      "text/plain": [
       "      AvgS1        M1 Co1     AvgS2        M2 Co2     AvgS3        M3 Co3  \\\n",
       "0 -0.040119 -0.266575   1  0.356382 -0.496234   0  0.732638 -0.374586   0   \n",
       "1 -2.341835 -0.308786   1 -0.465826 -0.681189   1 -0.237360  0.098301   0   \n",
       "2 -0.104104 -0.519842   1  0.015916 -0.750547   1 -2.044141 -0.200364   1   \n",
       "3  0.274326 -0.604264   1  0.015916 -0.126324   1  0.319103  0.197856   1   \n",
       "4 -1.146907  3.258060   1 -0.465826 -0.380637   0 -0.237360 -0.623473   0   \n",
       "\n",
       "      AvgS4  ...  Cat4_HR Cat4_IT  Cat4_Management  Cat4_Marketing  \\\n",
       "0  0.448848  ...        0       1                0               0   \n",
       "1 -0.138245  ...        0       0                0               0   \n",
       "2  0.008908  ...        0       0                0               0   \n",
       "3  0.713256  ...        0       0                1               0   \n",
       "4  0.008908  ...        0       0                0               0   \n",
       "\n",
       "   Cat4_Operations  Cat4_Other  Cat4_Sales  Cat4_Service  Cat4_Unemployed  \\\n",
       "0                0           0           0             0                0   \n",
       "1                0           0           0             1                0   \n",
       "2                0           1           0             0                0   \n",
       "3                0           0           0             0                0   \n",
       "4                0           1           0             0                0   \n",
       "\n",
       "    logAvgM  \n",
       "0  2.602690  \n",
       "1  2.788093  \n",
       "2  2.302585  \n",
       "3  3.778492  \n",
       "4  3.993603  \n",
       "\n",
       "[5 rows x 89 columns]"
      ]
     },
     "execution_count": 38,
     "metadata": {},
     "output_type": "execute_result"
    }
   ],
   "source": [
    "dummy.head()"
   ]
  },
  {
   "cell_type": "markdown",
   "metadata": {},
   "source": [
    "## Running the base model"
   ]
  },
  {
   "cell_type": "code",
   "execution_count": 39,
   "metadata": {},
   "outputs": [],
   "source": [
    "from sklearn import model_selection"
   ]
  },
  {
   "cell_type": "code",
   "execution_count": 40,
   "metadata": {},
   "outputs": [],
   "source": [
    "from sklearn.model_selection import train_test_split"
   ]
  },
  {
   "cell_type": "code",
   "execution_count": 41,
   "metadata": {},
   "outputs": [],
   "source": [
    "y = dummy.pop(\"logAvgM\")\n",
    "X = dummy.loc[:, dummy.columns != 'logAvgM']"
   ]
  },
  {
   "cell_type": "code",
   "execution_count": 50,
   "metadata": {},
   "outputs": [],
   "source": [
    "X = X.drop(columns=['AverageMonths'])"
   ]
  },
  {
   "cell_type": "markdown",
   "metadata": {},
   "source": [
    "Splitting data into train and test 75% 25%"
   ]
  },
  {
   "cell_type": "code",
   "execution_count": 51,
   "metadata": {},
   "outputs": [],
   "source": [
    "X_train, X_test, y_train, y_test = train_test_split(X, y)"
   ]
  },
  {
   "cell_type": "code",
   "execution_count": 52,
   "metadata": {},
   "outputs": [
    {
     "data": {
      "text/plain": [
       "(2634, 87)"
      ]
     },
     "execution_count": 52,
     "metadata": {},
     "output_type": "execute_result"
    }
   ],
   "source": [
    "X_train.shape"
   ]
  },
  {
   "cell_type": "code",
   "execution_count": 53,
   "metadata": {},
   "outputs": [
    {
     "data": {
      "text/html": [
       "<div>\n",
       "<style scoped>\n",
       "    .dataframe tbody tr th:only-of-type {\n",
       "        vertical-align: middle;\n",
       "    }\n",
       "\n",
       "    .dataframe tbody tr th {\n",
       "        vertical-align: top;\n",
       "    }\n",
       "\n",
       "    .dataframe thead th {\n",
       "        text-align: right;\n",
       "    }\n",
       "</style>\n",
       "<table border=\"1\" class=\"dataframe\">\n",
       "  <thead>\n",
       "    <tr style=\"text-align: right;\">\n",
       "      <th></th>\n",
       "      <th>AvgS1</th>\n",
       "      <th>M1</th>\n",
       "      <th>Co1</th>\n",
       "      <th>AvgS2</th>\n",
       "      <th>M2</th>\n",
       "      <th>Co2</th>\n",
       "      <th>AvgS3</th>\n",
       "      <th>M3</th>\n",
       "      <th>Co3</th>\n",
       "      <th>AvgS4</th>\n",
       "      <th>...</th>\n",
       "      <th>Cat4_Government</th>\n",
       "      <th>Cat4_HR</th>\n",
       "      <th>Cat4_IT</th>\n",
       "      <th>Cat4_Management</th>\n",
       "      <th>Cat4_Marketing</th>\n",
       "      <th>Cat4_Operations</th>\n",
       "      <th>Cat4_Other</th>\n",
       "      <th>Cat4_Sales</th>\n",
       "      <th>Cat4_Service</th>\n",
       "      <th>Cat4_Unemployed</th>\n",
       "    </tr>\n",
       "  </thead>\n",
       "  <tbody>\n",
       "    <tr>\n",
       "      <th>1496</th>\n",
       "      <td>-0.526090</td>\n",
       "      <td>-0.076624</td>\n",
       "      <td>1</td>\n",
       "      <td>-0.363736</td>\n",
       "      <td>-0.519353</td>\n",
       "      <td>1</td>\n",
       "      <td>-0.302109</td>\n",
       "      <td>-0.250142</td>\n",
       "      <td>1</td>\n",
       "      <td>0.008908</td>\n",
       "      <td>...</td>\n",
       "      <td>0</td>\n",
       "      <td>0</td>\n",
       "      <td>0</td>\n",
       "      <td>0</td>\n",
       "      <td>0</td>\n",
       "      <td>0</td>\n",
       "      <td>1</td>\n",
       "      <td>0</td>\n",
       "      <td>0</td>\n",
       "      <td>0</td>\n",
       "    </tr>\n",
       "    <tr>\n",
       "      <th>1440</th>\n",
       "      <td>-0.700568</td>\n",
       "      <td>-0.393208</td>\n",
       "      <td>0</td>\n",
       "      <td>-0.751271</td>\n",
       "      <td>-0.750547</td>\n",
       "      <td>0</td>\n",
       "      <td>-0.281289</td>\n",
       "      <td>-0.673251</td>\n",
       "      <td>1</td>\n",
       "      <td>-0.251768</td>\n",
       "      <td>...</td>\n",
       "      <td>0</td>\n",
       "      <td>0</td>\n",
       "      <td>0</td>\n",
       "      <td>0</td>\n",
       "      <td>0</td>\n",
       "      <td>0</td>\n",
       "      <td>0</td>\n",
       "      <td>0</td>\n",
       "      <td>0</td>\n",
       "      <td>0</td>\n",
       "    </tr>\n",
       "    <tr>\n",
       "      <th>1668</th>\n",
       "      <td>-0.386040</td>\n",
       "      <td>-0.667581</td>\n",
       "      <td>1</td>\n",
       "      <td>0.305448</td>\n",
       "      <td>-0.634950</td>\n",
       "      <td>1</td>\n",
       "      <td>-0.439612</td>\n",
       "      <td>-0.673251</td>\n",
       "      <td>1</td>\n",
       "      <td>-0.147653</td>\n",
       "      <td>...</td>\n",
       "      <td>0</td>\n",
       "      <td>0</td>\n",
       "      <td>0</td>\n",
       "      <td>0</td>\n",
       "      <td>0</td>\n",
       "      <td>0</td>\n",
       "      <td>0</td>\n",
       "      <td>1</td>\n",
       "      <td>0</td>\n",
       "      <td>0</td>\n",
       "    </tr>\n",
       "    <tr>\n",
       "      <th>1320</th>\n",
       "      <td>0.217713</td>\n",
       "      <td>-0.435419</td>\n",
       "      <td>1</td>\n",
       "      <td>-0.465826</td>\n",
       "      <td>-0.357518</td>\n",
       "      <td>1</td>\n",
       "      <td>-0.775850</td>\n",
       "      <td>-0.474141</td>\n",
       "      <td>1</td>\n",
       "      <td>0.008908</td>\n",
       "      <td>...</td>\n",
       "      <td>0</td>\n",
       "      <td>0</td>\n",
       "      <td>0</td>\n",
       "      <td>0</td>\n",
       "      <td>0</td>\n",
       "      <td>0</td>\n",
       "      <td>1</td>\n",
       "      <td>0</td>\n",
       "      <td>0</td>\n",
       "      <td>0</td>\n",
       "    </tr>\n",
       "    <tr>\n",
       "      <th>2139</th>\n",
       "      <td>-0.104104</td>\n",
       "      <td>0.113326</td>\n",
       "      <td>1</td>\n",
       "      <td>0.015916</td>\n",
       "      <td>-0.519353</td>\n",
       "      <td>0</td>\n",
       "      <td>0.672550</td>\n",
       "      <td>0.222745</td>\n",
       "      <td>1</td>\n",
       "      <td>0.713256</td>\n",
       "      <td>...</td>\n",
       "      <td>0</td>\n",
       "      <td>0</td>\n",
       "      <td>0</td>\n",
       "      <td>1</td>\n",
       "      <td>0</td>\n",
       "      <td>0</td>\n",
       "      <td>0</td>\n",
       "      <td>0</td>\n",
       "      <td>0</td>\n",
       "      <td>0</td>\n",
       "    </tr>\n",
       "  </tbody>\n",
       "</table>\n",
       "<p>5 rows × 87 columns</p>\n",
       "</div>"
      ],
      "text/plain": [
       "         AvgS1        M1 Co1     AvgS2        M2 Co2     AvgS3        M3 Co3  \\\n",
       "1496 -0.526090 -0.076624   1 -0.363736 -0.519353   1 -0.302109 -0.250142   1   \n",
       "1440 -0.700568 -0.393208   0 -0.751271 -0.750547   0 -0.281289 -0.673251   1   \n",
       "1668 -0.386040 -0.667581   1  0.305448 -0.634950   1 -0.439612 -0.673251   1   \n",
       "1320  0.217713 -0.435419   1 -0.465826 -0.357518   1 -0.775850 -0.474141   1   \n",
       "2139 -0.104104  0.113326   1  0.015916 -0.519353   0  0.672550  0.222745   1   \n",
       "\n",
       "         AvgS4  ...  Cat4_Government Cat4_HR  Cat4_IT  Cat4_Management  \\\n",
       "1496  0.008908  ...                0       0        0                0   \n",
       "1440 -0.251768  ...                0       0        0                0   \n",
       "1668 -0.147653  ...                0       0        0                0   \n",
       "1320  0.008908  ...                0       0        0                0   \n",
       "2139  0.713256  ...                0       0        0                1   \n",
       "\n",
       "      Cat4_Marketing  Cat4_Operations  Cat4_Other  Cat4_Sales  Cat4_Service  \\\n",
       "1496               0                0           1           0             0   \n",
       "1440               0                0           0           0             0   \n",
       "1668               0                0           0           1             0   \n",
       "1320               0                0           1           0             0   \n",
       "2139               0                0           0           0             0   \n",
       "\n",
       "      Cat4_Unemployed  \n",
       "1496                0  \n",
       "1440                0  \n",
       "1668                0  \n",
       "1320                0  \n",
       "2139                0  \n",
       "\n",
       "[5 rows x 87 columns]"
      ]
     },
     "execution_count": 53,
     "metadata": {},
     "output_type": "execute_result"
    }
   ],
   "source": [
    "X_train.head()"
   ]
  },
  {
   "cell_type": "code",
   "execution_count": 54,
   "metadata": {},
   "outputs": [
    {
     "data": {
      "text/plain": [
       "(2634,)"
      ]
     },
     "execution_count": 54,
     "metadata": {},
     "output_type": "execute_result"
    }
   ],
   "source": [
    "y_train.shape"
   ]
  },
  {
   "cell_type": "code",
   "execution_count": 55,
   "metadata": {},
   "outputs": [],
   "source": [
    "# define the model\n",
    "model = GradientBoostingRegressor()"
   ]
  },
  {
   "cell_type": "code",
   "execution_count": 56,
   "metadata": {},
   "outputs": [],
   "source": [
    "kfold = model_selection.KFold(n_splits=10, random_state=7, shuffle=True)"
   ]
  },
  {
   "cell_type": "code",
   "execution_count": 57,
   "metadata": {},
   "outputs": [
    {
     "name": "stdout",
     "output_type": "stream",
     "text": [
      "MAE: -0.066 (0.004)\n"
     ]
    }
   ],
   "source": [
    "scoring = 'neg_mean_absolute_error'\n",
    "results = model_selection.cross_val_score(model, X_train, y_train, cv=kfold, scoring=scoring)\n",
    "print(\"MAE: %.3f (%.3f)\" % (results.mean(), results.std()))"
   ]
  },
  {
   "cell_type": "code",
   "execution_count": 58,
   "metadata": {},
   "outputs": [
    {
     "name": "stdout",
     "output_type": "stream",
     "text": [
      "R^2: 0.987 (0.003)\n"
     ]
    }
   ],
   "source": [
    "scoring = 'r2'\n",
    "results = model_selection.cross_val_score(model, X_train, y_train, cv=kfold, scoring=scoring)\n",
    "print(\"R^2: %.3f (%.3f)\" % (results.mean(), results.std()))"
   ]
  },
  {
   "cell_type": "code",
   "execution_count": null,
   "metadata": {},
   "outputs": [],
   "source": []
  },
  {
   "cell_type": "code",
   "execution_count": 73,
   "metadata": {},
   "outputs": [],
   "source": [
    "from sklearn.model_selection import learning_curve"
   ]
  },
  {
   "cell_type": "code",
   "execution_count": 74,
   "metadata": {},
   "outputs": [],
   "source": [
    "train_sizes, train_scores, validation_scores = learning_curve(\n",
    "estimator = model,\n",
    "X = X_train,\n",
    "y = y_train, cv = 5,\n",
    "scoring = 'neg_mean_squared_error')"
   ]
  },
  {
   "cell_type": "code",
   "execution_count": 75,
   "metadata": {},
   "outputs": [
    {
     "name": "stdout",
     "output_type": "stream",
     "text": [
      "Mean training scores\n",
      "\n",
      " 210     0.001562\n",
      "684     0.003638\n",
      "1158    0.003829\n",
      "1632    0.004317\n",
      "2107    0.004553\n",
      "dtype: float64\n",
      "\n",
      " --------------------\n",
      "\n",
      "Mean validation scores\n",
      "\n",
      " 210     0.036064\n",
      "684     0.014340\n",
      "1158    0.011092\n",
      "1632    0.009379\n",
      "2107    0.008851\n",
      "dtype: float64\n"
     ]
    }
   ],
   "source": [
    "train_scores_mean = -train_scores.mean(axis = 1)\n",
    "validation_scores_mean = -validation_scores.mean(axis = 1)\n",
    "print('Mean training scores\\n\\n', pd.Series(train_scores_mean, index = train_sizes))\n",
    "print('\\n', '-' * 20) # separator\n",
    "print('\\nMean validation scores\\n\\n',pd.Series(validation_scores_mean, index = train_sizes))"
   ]
  },
  {
   "cell_type": "code",
   "execution_count": 76,
   "metadata": {},
   "outputs": [],
   "source": [
    "import matplotlib.pyplot as plt"
   ]
  },
  {
   "cell_type": "code",
   "execution_count": 78,
   "metadata": {},
   "outputs": [
    {
     "data": {
      "text/plain": [
       "(0, 0.035)"
      ]
     },
     "execution_count": 78,
     "metadata": {},
     "output_type": "execute_result"
    },
    {
     "data": {
      "image/png": "[encoded data removed]",
      "text/plain": [
       "<Figure size 576x396 with 1 Axes>"
      ]
     },
     "metadata": {},
     "output_type": "display_data"
    }
   ],
   "source": [
    "plt.style.use('seaborn')\n",
    "plt.plot(train_sizes, train_scores_mean, label = 'Training error')\n",
    "plt.plot(train_sizes, validation_scores_mean, label = 'Validation error')\n",
    "plt.ylabel('MSE', fontsize = 14)\n",
    "plt.xlabel('Training set size', fontsize = 14)\n",
    "plt.title('Learning curves for a gradient boost model', fontsize = 18, y = 1.03)\n",
    "plt.legend()\n",
    "plt.ylim(0,0.035)"
   ]
  },
  {
   "cell_type": "code",
   "execution_count": null,
   "metadata": {},
   "outputs": [],
   "source": []
  },
  {
   "cell_type": "code",
   "execution_count": null,
   "metadata": {},
   "outputs": [],
   "source": []
  },
  {
   "cell_type": "code",
   "execution_count": 59,
   "metadata": {},
   "outputs": [],
   "source": [
    "gbr_fit = model.fit(X_train, y_train)\n",
    "gbr_predict = model.predict(X_test)\n",
    "gbr_results = gbr_predict"
   ]
  },
  {
   "cell_type": "code",
   "execution_count": 60,
   "metadata": {},
   "outputs": [
    {
     "data": {
      "text/plain": [
       "array([3.02543477, 2.6182968 , 2.4449353 , 3.35993097, 2.79884817,\n",
       "       4.34222891, 3.97408155, 3.25158714, 2.6920172 , 2.77234191,\n",
       "       3.63635685, 2.80188936, 2.82869691, 1.82466191, 3.11400919,\n",
       "       4.5246723 , 3.01747562, 3.98731689, 3.74146342, 3.17984875,\n",
       "       1.70451892, 2.512102  , 2.34293297, 3.15111672, 2.03928599,\n",
       "       3.64024434, 2.34464671, 3.61765454, 0.25497156, 3.05294516,\n",
       "       3.21776669, 3.84982001, 3.25978675, 1.98014903, 2.9633539 ,\n",
       "       2.9503694 , 3.958611  , 2.29069941, 4.54675314, 2.89498005,\n",
       "       3.77069338, 4.76004721, 3.04159897, 2.83745659, 2.55003974,\n",
       "       3.89560383, 3.3302566 , 3.57261978, 3.57843431, 3.1150124 ,\n",
       "       3.39998167, 3.18283149, 3.04834809, 3.39553154, 4.06802247,\n",
       "       2.61862565, 1.29460314, 2.81187714, 2.25216682, 0.71403233,\n",
       "       3.895086  , 3.68338504, 3.36691148, 3.13956756, 2.9104513 ,\n",
       "       2.72137852, 2.56983317, 3.10520549, 3.3172165 , 3.64524235,\n",
       "       3.95886837, 3.59586399, 2.08209901, 1.74464673, 2.39498027,\n",
       "       3.20322639, 2.0873862 , 2.96107046, 3.35941784, 2.28634565,\n",
       "       2.8423727 , 3.03083901, 2.69915078, 2.94991342, 3.33980421,\n",
       "       3.37859819, 3.06834887, 2.82434204, 4.43187802, 3.8533147 ,\n",
       "       2.30036226, 2.7901394 , 4.7235913 , 2.32384357, 2.96371007,\n",
       "       3.27268206, 3.67868569, 3.70770074, 3.6011031 , 3.80401838,\n",
       "       3.17217769, 3.63672134, 3.49275324, 2.38356886, 2.70734196,\n",
       "       3.09728461, 3.50270805, 2.64417714, 2.96608341, 3.33465563,\n",
       "       3.49455946, 2.74076999, 3.36641572, 4.38881863, 2.96268174,\n",
       "       2.29481813, 1.17292479, 2.97437228, 3.48263556, 3.29875931,\n",
       "       4.37960409, 2.50677989, 2.77668778, 3.44234783, 4.48650239,\n",
       "       3.3504681 , 1.50442884, 2.90828407, 5.01882164, 3.64154952,\n",
       "       3.26972941, 2.90506305, 2.89498005, 2.90957192, 3.56255473,\n",
       "       3.46674562, 3.54083277, 3.5208622 , 3.70018627, 2.20510211,\n",
       "       3.6041874 , 3.86689559, 2.82317253, 2.66524704, 3.24042149,\n",
       "       2.43242411, 3.83490625, 3.62169077, 2.63016468, 3.5053145 ,\n",
       "       3.11774897, 2.61062827, 1.8633057 , 2.12111893, 2.70662578,\n",
       "       3.66391954, 2.96190688, 2.33965964, 4.26353618, 3.00080201,\n",
       "       3.12057901, 3.07391596, 2.71527211, 2.64131111, 3.24124357,\n",
       "       3.75514352, 3.91288744, 3.66435596, 3.53093264, 4.35480394,\n",
       "       2.97380957, 2.14945879, 4.08577558, 2.843543  , 4.27908393,\n",
       "       3.85837676, 3.61593378, 2.33720649, 4.36017505, 3.08536535,\n",
       "       3.27703004, 1.32419199, 2.11759405, 1.67348102, 4.19525796,\n",
       "       3.040681  , 3.62167735, 0.73494257, 4.11503357, 4.22289775,\n",
       "       4.21922369, 3.95545048, 4.0525451 , 2.78940649, 2.97021918,\n",
       "       3.43034171, 3.71551425, 3.75666284, 3.45882743, 4.35358952,\n",
       "       3.05901424, 2.69632566, 1.88915608, 2.94623427, 4.31210109,\n",
       "       4.05440274, 1.86142819, 2.69447283, 3.2631847 , 2.83662574,\n",
       "       3.90610959, 4.0929545 , 3.63879335, 4.08438508, 3.73107532,\n",
       "       2.07114284, 2.24457041, 2.79725548, 3.26747094, 2.34614177,\n",
       "       3.27431345, 3.24588472, 2.31832266, 3.48933617, 1.15657651,\n",
       "       2.19677791, 3.53994544, 3.8444815 , 3.27001178, 4.24632499,\n",
       "       3.99927504, 2.81830478, 2.92130544, 2.9802756 , 1.08764732,\n",
       "       3.94033883, 4.18817897, 2.56215952, 3.85107051, 3.70460444,\n",
       "       3.84162797, 2.68486372, 2.28921468, 3.42129375, 3.6027016 ,\n",
       "       3.01209541, 2.9569507 , 4.50610493, 2.19813353, 3.22188237,\n",
       "       1.98823195, 3.90123206, 3.60322675, 2.9668701 , 1.77481082,\n",
       "       3.69181484, 3.68305849, 4.05113804, 2.7699268 , 3.40881419,\n",
       "       2.79433093, 4.73477227, 4.09327032, 3.22839717, 2.59707829,\n",
       "       2.71078337, 2.60636155, 2.73435502, 4.38505457, 3.0238718 ,\n",
       "       3.36690593, 3.53529947, 3.10187395, 4.07700928, 2.01601311,\n",
       "       2.74859213, 2.29757655, 1.46856456, 3.89433155, 4.91306515,\n",
       "       3.27991097, 2.19836706, 2.80067515, 2.8396971 , 4.09998098,\n",
       "       2.22118351, 1.36682932, 2.37295949, 3.97722017, 2.30993165,\n",
       "       4.29706186, 2.11231507, 0.49697912, 4.01687627, 3.00389883,\n",
       "       3.07229298, 3.88257559, 3.87653064, 4.79533742, 2.62571352,\n",
       "       3.41350871, 3.16480905, 2.83794689, 4.15543816, 3.74408382,\n",
       "       2.65296131, 4.06781561, 3.3167198 , 4.6203867 , 2.81194989,\n",
       "       3.4089187 , 2.75541375, 4.36813682, 3.0264696 , 2.92090145,\n",
       "       3.66288226, 5.14219525, 4.68988536, 3.54358784, 1.80621533,\n",
       "       2.02010958, 3.29324406, 4.02163639, 3.28737654, 2.89498005,\n",
       "       1.31046935, 4.31399903, 3.80674363, 2.91227429, 2.76370321,\n",
       "       3.719712  , 1.79967956, 3.7041221 , 3.23113522, 4.79574763,\n",
       "       3.93318341, 3.85561408, 2.75850378, 1.96689048, 3.14666691,\n",
       "       3.60118013, 4.52210911, 3.76779894, 4.26773661, 3.58965519,\n",
       "       3.37015893, 2.45177098, 2.38947793, 3.11759016, 3.49455946,\n",
       "       2.51928906, 3.12421214, 1.64524034, 1.82267291, 4.02756742,\n",
       "       2.89066811, 2.95739173, 4.27341108, 2.70845973, 2.16916269,\n",
       "       4.42978549, 3.44375641, 4.5259448 , 3.2147556 , 3.44996219,\n",
       "       3.04940128, 1.17654619, 2.84636466, 2.84408376, 3.32099517,\n",
       "       2.40371668, 2.16018815, 2.02561337, 2.17268749, 1.80002944,\n",
       "       3.00327328, 1.51498883, 2.81976474, 2.9508673 , 3.05834044,\n",
       "       2.51636894, 3.01169227, 2.84499016, 2.73153178, 2.56574664,\n",
       "       3.15571529, 3.1797066 , 3.23645609, 2.3918545 , 3.27181734,\n",
       "       3.61221393, 4.49198725, 2.48574145, 2.91190367, 2.63151507,\n",
       "       3.97439738, 4.0401855 , 3.3585796 , 2.32656702, 1.71550655,\n",
       "       2.67929716, 1.59203188, 2.85131214, 2.78819366, 3.78774897,\n",
       "       2.79891293, 2.64906337, 2.94262908, 3.67018072, 2.98934363,\n",
       "       3.99466041, 2.09436626, 3.71556053, 3.01560708, 2.29464268,\n",
       "       3.42345737, 3.49878803, 4.13993408, 2.5387164 , 3.92335621,\n",
       "       3.56020754, 2.56585269, 1.65074038, 2.83873296, 3.97054158,\n",
       "       3.41172658, 3.39109038, 2.68636912, 3.21805496, 3.23744153,\n",
       "       2.14167405, 3.95775446, 3.00615492, 4.51878129, 3.28592361,\n",
       "       3.08184184, 4.24632499, 3.04963893, 3.99927504, 4.10693223,\n",
       "       3.70948732, 3.61245259, 3.47920896, 2.65695964, 3.42218932,\n",
       "       3.76539009, 2.96625851, 5.09408365, 3.03611549, 3.36415079,\n",
       "       4.1994698 , 2.93674183, 3.90516967, 4.23629516, 2.99796004,\n",
       "       3.41451187, 3.00314564, 2.96549243, 2.42613285, 2.87427191,\n",
       "       2.77711069, 2.08117781, 2.06588364, 3.95900099, 3.53239321,\n",
       "       2.76626254, 2.49590867, 2.51982237, 3.16518501, 2.73750694,\n",
       "       3.39583113, 3.34743087, 3.6314569 , 3.39383862, 3.88403169,\n",
       "       2.76410877, 3.31613613, 3.74659892, 2.63263501, 2.57756126,\n",
       "       3.31811848, 3.46424168, 1.65509129, 4.53783836, 1.75872631,\n",
       "       3.33328665, 3.45374055, 3.73714421, 2.00037906, 1.81005935,\n",
       "       2.96608341, 4.88597006, 3.87653064, 3.4364245 , 2.93240789,\n",
       "       3.3300797 , 3.92050274, 3.58508848, 3.5037126 , 3.78038397,\n",
       "       4.67198492, 3.75726985, 1.74039908, 3.24862827, 1.67830648,\n",
       "       3.38476533, 2.78248338, 2.200489  , 0.62733809, 3.45825259,\n",
       "       3.66117595, 1.58061652, 1.90997173, 3.26648985, 3.73972773,\n",
       "       2.49838123, 2.39860144, 2.64712183, 3.50967135, 3.42165779,\n",
       "       3.51038419, 2.4732676 , 3.41738165, 3.411463  , 2.64568644,\n",
       "       3.11761458, 2.8213181 , 3.50625349, 3.13040637, 3.97885132,\n",
       "       3.05117218, 3.60259948, 3.06001991, 3.34701676, 3.78837174,\n",
       "       2.42046032, 2.72100789, 1.16903517, 3.24722516, 2.67728197,\n",
       "       3.33465563, 2.8708391 , 2.62980087, 3.07187684, 1.00791073,\n",
       "       2.81691523, 3.69396593, 2.87382427, 3.82997706, 2.5779825 ,\n",
       "       4.4247137 , 2.25669927, 2.59418841, 2.10233141, 3.28164799,\n",
       "       4.21658172, 2.60276431, 3.83676568, 1.92152316, 2.61120369,\n",
       "       4.16439136, 2.5169915 , 2.7284662 , 3.18317858, 1.6910145 ,\n",
       "       2.86668755, 3.94882119, 3.40711024, 3.19397661, 1.33158115,\n",
       "       4.60302098, 3.03052501, 2.19063752, 3.85944398, 3.78957017,\n",
       "       4.29722343, 2.62436115, 4.40777508, 4.13954449, 3.44810108,\n",
       "       3.3986731 , 4.14976166, 4.42094463, 3.5875424 , 1.66251569,\n",
       "       4.40335612, 4.26341751, 3.91021379, 3.02205863, 3.33889868,\n",
       "       3.15490364, 2.04020506, 3.18213663, 1.52117252, 1.57547323,\n",
       "       1.61145429, 3.40803509, 3.40130553, 2.83238855, 3.70260531,\n",
       "       4.46196431, 2.70886439, 3.5954965 , 4.05238347, 2.89876028,\n",
       "       3.04632099, 1.79323505, 2.50047323, 3.46537358, 3.13203325,\n",
       "       3.05014147, 3.70144247, 3.59708066, 3.3274602 , 4.03464844,\n",
       "       4.30249455, 1.77888874, 4.65471131, 2.26388809, 3.48719284,\n",
       "       4.04981861, 1.76201666, 2.64160194, 4.18932545, 1.91617677,\n",
       "       3.34207843, 2.90441527, 2.85001073, 2.854588  , 2.34188353,\n",
       "       4.07652441, 3.56545562, 2.990669  , 2.70998768, 1.75108323,\n",
       "       3.62906814, 3.88215964, 2.71183067, 3.0066217 , 2.64329745,\n",
       "       3.04950454, 3.5613008 , 2.75311342, 2.1982623 , 3.66416823,\n",
       "       2.73679317, 4.36973825, 2.29455268, 3.37710791, 3.11953289,\n",
       "       2.34863002, 3.73911325, 4.2565847 , 3.59489219, 4.37453865,\n",
       "       3.25491605, 4.26216576, 3.48278866, 3.46455187, 3.55871048,\n",
       "       0.63355731, 3.61537728, 3.09962736, 3.11853388, 4.43597084,\n",
       "       2.36679445, 3.84956592, 4.11552657, 2.59008293, 2.91022608,\n",
       "       3.17463353, 2.34858473, 2.49612507, 2.64631322, 4.73158508,\n",
       "       3.11780751, 2.69871588, 3.08521978, 3.38930267, 3.62626077,\n",
       "       3.31482943, 3.24986213, 3.05266524, 2.37862045, 2.40893571,\n",
       "       3.08094779, 4.4196037 , 3.8424925 , 3.22131264, 1.15375895,\n",
       "       2.60830389, 4.37970487, 3.28061588, 3.71907312, 3.46654142,\n",
       "       3.62714593, 2.91855161, 2.89498005, 2.22611382, 3.31380907,\n",
       "       2.84588436, 3.23042777, 4.62061159, 4.26365102, 3.11795159,\n",
       "       3.19243839, 2.66528596, 2.82872179, 3.89684524, 4.20558473,\n",
       "       3.49906638, 2.27210263, 2.47989587, 4.38647996, 2.1406816 ,\n",
       "       3.20900812, 2.63011085, 3.00062303, 1.25530128, 2.98225759,\n",
       "       2.596502  , 2.85894493, 2.71728213, 3.38276287, 2.2353598 ,\n",
       "       3.52765751, 3.2323815 , 3.02052628, 3.52897625, 2.74139589,\n",
       "       3.93924785, 3.11447693, 4.36570475, 3.50498262, 2.01869553,\n",
       "       3.32338807, 1.54291978, 4.03265557, 3.88341496, 3.66181433,\n",
       "       3.05999087, 3.51921238, 3.65913547, 3.03823281, 3.09948718,\n",
       "       2.30065996, 2.74442938, 0.60772635, 1.74179185, 2.48642769,\n",
       "       3.35146442, 5.23391454, 3.95080657, 2.83562563, 2.92621601,\n",
       "       3.52181263, 3.80349303, 2.52423096, 3.21663018, 3.25069587,\n",
       "       2.55929106, 1.72631991, 2.40915125, 3.06061827, 2.98871322,\n",
       "       2.29812285, 2.38985306, 3.81413883, 4.17890947, 4.70575405,\n",
       "       3.04830199, 2.8493027 , 3.7646585 , 3.45384214, 3.05193357,\n",
       "       3.94557101, 1.44328248, 4.18615486, 3.87440774, 4.08172447,\n",
       "       4.17088137, 4.45293933, 2.52410455, 3.82996809, 4.08299625,\n",
       "       1.73616079, 2.96903465, 4.42477537, 4.72914888, 2.67347157,\n",
       "       5.20609694, 2.11514949, 3.75404053, 3.84982722, 2.80342379,\n",
       "       2.24056576, 2.73440904, 3.48623399, 4.19511327, 2.91905431,\n",
       "       3.94733012, 1.79980561, 4.14066147, 3.72711551, 3.74459912,\n",
       "       2.32998477, 2.6017993 , 2.18275074, 2.70908   , 3.84515287,\n",
       "       3.19509182, 4.05248354, 5.23391454, 4.00274936, 3.24732554,\n",
       "       2.75282937, 3.57917278, 4.18102572, 2.82078981, 3.09053517,\n",
       "       3.48468929, 4.941119  , 3.400265  , 2.74589239, 3.93879438,\n",
       "       3.91602926, 2.54288958, 4.35159297, 2.67437805, 3.67868569,\n",
       "       3.12051886, 1.11769849, 4.45297094, 4.5877217 , 3.28931439,\n",
       "       3.45537178, 2.95343456, 3.01073721, 3.19907578, 2.34137251,\n",
       "       2.80927149, 1.57904254, 1.74849342, 3.54828009, 3.97933499,\n",
       "       2.00963813, 2.92115873, 2.69310404, 2.68568621, 2.75166451,\n",
       "       4.23406242, 3.53490048, 4.05615942, 2.81710783, 2.75429204,\n",
       "       1.81368482, 2.99663396, 2.19275219, 2.22688013, 2.56716687,\n",
       "       4.08430658, 2.94654413, 3.22347977, 2.22825748, 1.51514675,\n",
       "       4.34074709, 3.29160392, 2.70581072, 2.75329108, 3.91692463,\n",
       "       3.53500161, 3.05222513, 1.14073414, 2.10956339, 2.64526889,\n",
       "       1.09754005, 3.4073636 , 3.93772749, 2.69159674])"
      ]
     },
     "execution_count": 60,
     "metadata": {},
     "output_type": "execute_result"
    }
   ],
   "source": [
    "gbr_results"
   ]
  },
  {
   "cell_type": "code",
   "execution_count": 61,
   "metadata": {},
   "outputs": [],
   "source": [
    "gbr_df = pd.DataFrame(gbr_results, columns = [\"logresults\"])"
   ]
  },
  {
   "cell_type": "code",
   "execution_count": 62,
   "metadata": {},
   "outputs": [
    {
     "data": {
      "text/html": [
       "<div>\n",
       "<style scoped>\n",
       "    .dataframe tbody tr th:only-of-type {\n",
       "        vertical-align: middle;\n",
       "    }\n",
       "\n",
       "    .dataframe tbody tr th {\n",
       "        vertical-align: top;\n",
       "    }\n",
       "\n",
       "    .dataframe thead th {\n",
       "        text-align: right;\n",
       "    }\n",
       "</style>\n",
       "<table border=\"1\" class=\"dataframe\">\n",
       "  <thead>\n",
       "    <tr style=\"text-align: right;\">\n",
       "      <th></th>\n",
       "      <th>logresults</th>\n",
       "    </tr>\n",
       "  </thead>\n",
       "  <tbody>\n",
       "    <tr>\n",
       "      <th>0</th>\n",
       "      <td>3.025435</td>\n",
       "    </tr>\n",
       "    <tr>\n",
       "      <th>1</th>\n",
       "      <td>2.618297</td>\n",
       "    </tr>\n",
       "    <tr>\n",
       "      <th>2</th>\n",
       "      <td>2.444935</td>\n",
       "    </tr>\n",
       "    <tr>\n",
       "      <th>3</th>\n",
       "      <td>3.359931</td>\n",
       "    </tr>\n",
       "    <tr>\n",
       "      <th>4</th>\n",
       "      <td>2.798848</td>\n",
       "    </tr>\n",
       "  </tbody>\n",
       "</table>\n",
       "</div>"
      ],
      "text/plain": [
       "   logresults\n",
       "0    3.025435\n",
       "1    2.618297\n",
       "2    2.444935\n",
       "3    3.359931\n",
       "4    2.798848"
      ]
     },
     "execution_count": 62,
     "metadata": {},
     "output_type": "execute_result"
    }
   ],
   "source": [
    "gbr_df.head()"
   ]
  },
  {
   "cell_type": "code",
   "execution_count": 63,
   "metadata": {},
   "outputs": [],
   "source": [
    "gbr_df['Avg'] = np.exp(gbr_df['logresults'])\n"
   ]
  },
  {
   "cell_type": "code",
   "execution_count": 64,
   "metadata": {},
   "outputs": [
    {
     "data": {
      "text/html": [
       "<div>\n",
       "<style scoped>\n",
       "    .dataframe tbody tr th:only-of-type {\n",
       "        vertical-align: middle;\n",
       "    }\n",
       "\n",
       "    .dataframe tbody tr th {\n",
       "        vertical-align: top;\n",
       "    }\n",
       "\n",
       "    .dataframe thead th {\n",
       "        text-align: right;\n",
       "    }\n",
       "</style>\n",
       "<table border=\"1\" class=\"dataframe\">\n",
       "  <thead>\n",
       "    <tr style=\"text-align: right;\">\n",
       "      <th></th>\n",
       "      <th>logresults</th>\n",
       "      <th>Avg</th>\n",
       "    </tr>\n",
       "  </thead>\n",
       "  <tbody>\n",
       "    <tr>\n",
       "      <th>0</th>\n",
       "      <td>3.025435</td>\n",
       "      <td>20.602960</td>\n",
       "    </tr>\n",
       "    <tr>\n",
       "      <th>1</th>\n",
       "      <td>2.618297</td>\n",
       "      <td>13.712349</td>\n",
       "    </tr>\n",
       "    <tr>\n",
       "      <th>2</th>\n",
       "      <td>2.444935</td>\n",
       "      <td>11.529804</td>\n",
       "    </tr>\n",
       "    <tr>\n",
       "      <th>3</th>\n",
       "      <td>3.359931</td>\n",
       "      <td>28.787204</td>\n",
       "    </tr>\n",
       "    <tr>\n",
       "      <th>4</th>\n",
       "      <td>2.798848</td>\n",
       "      <td>16.425716</td>\n",
       "    </tr>\n",
       "  </tbody>\n",
       "</table>\n",
       "</div>"
      ],
      "text/plain": [
       "   logresults        Avg\n",
       "0    3.025435  20.602960\n",
       "1    2.618297  13.712349\n",
       "2    2.444935  11.529804\n",
       "3    3.359931  28.787204\n",
       "4    2.798848  16.425716"
      ]
     },
     "execution_count": 64,
     "metadata": {},
     "output_type": "execute_result"
    }
   ],
   "source": [
    "gbr_df.head()"
   ]
  },
  {
   "cell_type": "code",
   "execution_count": 65,
   "metadata": {},
   "outputs": [],
   "source": [
    "from interpret import show\n",
    "from interpret.data import Marginal\n"
   ]
  },
  {
   "cell_type": "markdown",
   "metadata": {},
   "source": [
    "Expore Data"
   ]
  },
  {
   "cell_type": "code",
   "execution_count": 66,
   "metadata": {},
   "outputs": [
    {
     "data": {
      "text/html": [
       "<!-- http://127.0.0.1:7031/1881406064392/ -->\n",
       "<iframe src=\"http://127.0.0.1:7031/1881406064392/\" width=100% height=800 frameBorder=\"0\"></iframe>"
      ]
     },
     "metadata": {},
     "output_type": "display_data"
    }
   ],
   "source": [
    "marginal = Marginal().explain_data(X_train, y_train, name = 'Train Data')\n",
    "show(marginal)"
   ]
  },
  {
   "cell_type": "markdown",
   "metadata": {},
   "source": [
    "Train the Explainable Boosting Machine (EBM)"
   ]
  },
  {
   "cell_type": "code",
   "execution_count": 67,
   "metadata": {},
   "outputs": [
    {
     "data": {
      "text/plain": [
       "ExplainableBoostingRegressor(binning='quantile', early_stopping_rounds=50,\n",
       "                             early_stopping_tolerance=0,\n",
       "                             feature_names=['AvgS1', 'M1', 'Co1', 'AvgS2', 'M2',\n",
       "                                            'Co2', 'AvgS3', 'M3', 'Co3',\n",
       "                                            'AvgS4', 'M4', 'Co4', 'NumDeg',\n",
       "                                            'NumCertf', 'NumJobs',\n",
       "                                            'Cat1_Academia', 'Cat1_Admin',\n",
       "                                            'Cat1_Consultant',\n",
       "                                            'Cat1_Consultant ',\n",
       "                                            'Cat1_Engineering',\n",
       "                                            'Cat1_Entertainment',\n",
       "                                            'Cat1_Executive', 'Cat1_F...\n",
       "                                            'categorical', 'categorical',\n",
       "                                            'categorical', 'categorical',\n",
       "                                            'categorical', 'categorical',\n",
       "                                            'categorical', 'categorical',\n",
       "                                            'categorical', 'categorical',\n",
       "                                            'categorical', 'categorical', ...],\n",
       "                             inner_bags=0, interactions=0, learning_rate=0.01,\n",
       "                             mains='all', max_bins=255, max_leaves=3,\n",
       "                             max_rounds=5000, min_samples_leaf=2, n_jobs=-2,\n",
       "                             outer_bags=16, random_state=42,\n",
       "                             validation_size=0.15)"
      ]
     },
     "execution_count": 67,
     "metadata": {},
     "output_type": "execute_result"
    }
   ],
   "source": [
    "from interpret.glassbox import ExplainableBoostingRegressor, LinearRegression, RegressionTree, LogisticRegression\n",
    "\n",
    "lr = LinearRegression(random_state=42)\n",
    "lr.fit(X_train, y_train)\n",
    "\n",
    "rt = RegressionTree(random_state=42)\n",
    "rt.fit(X_train, y_train)\n",
    "\n",
    "ebm = ExplainableBoostingRegressor(random_state=42)\n",
    "ebm.fit(X_train, y_train)  \n",
    "# For Classifier, use ebm = ExplainableBoostingClassifier("
   ]
  },
  {
   "cell_type": "markdown",
   "metadata": {},
   "source": [
    "Performance of Model"
   ]
  },
  {
   "cell_type": "code",
   "execution_count": 68,
   "metadata": {},
   "outputs": [
    {
     "data": {
      "text/html": [
       "<!-- http://127.0.0.1:7031/1881558364808/ -->\n",
       "<iframe src=\"http://127.0.0.1:7031/1881558364808/\" width=100% height=800 frameBorder=\"0\"></iframe>"
      ]
     },
     "metadata": {},
     "output_type": "display_data"
    },
    {
     "data": {
      "text/html": [
       "<!-- http://127.0.0.1:7031/1881558308424/ -->\n",
       "<iframe src=\"http://127.0.0.1:7031/1881558308424/\" width=100% height=800 frameBorder=\"0\"></iframe>"
      ]
     },
     "metadata": {},
     "output_type": "display_data"
    },
    {
     "data": {
      "text/html": [
       "<!-- http://127.0.0.1:7031/1881558308232/ -->\n",
       "<iframe src=\"http://127.0.0.1:7031/1881558308232/\" width=100% height=800 frameBorder=\"0\"></iframe>"
      ]
     },
     "metadata": {},
     "output_type": "display_data"
    }
   ],
   "source": [
    "from interpret import show\n",
    "from interpret.perf import RegressionPerf\n",
    "\n",
    "ebm_perf = RegressionPerf(ebm.predict).explain_perf(X_test, y_test, name='EBM')\n",
    "lr_perf = RegressionPerf(lr.predict).explain_perf(X_test, y_test, name='Linear Regression')\n",
    "rt_perf = RegressionPerf(rt.predict).explain_perf(X_test, y_test, name='Regression Tree')\n",
    "show(ebm_perf)\n",
    "show(lr_perf)\n",
    "show(rt_perf)"
   ]
  },
  {
   "cell_type": "markdown",
   "metadata": {},
   "source": [
    "Global Interpretability"
   ]
  },
  {
   "cell_type": "code",
   "execution_count": 69,
   "metadata": {},
   "outputs": [
    {
     "data": {
      "text/html": [
       "<!-- http://127.0.0.1:7031/1881446233800/ -->\n",
       "<iframe src=\"http://127.0.0.1:7031/1881446233800/\" width=100% height=800 frameBorder=\"0\"></iframe>"
      ]
     },
     "metadata": {},
     "output_type": "display_data"
    }
   ],
   "source": [
    "ebm_global = ebm.explain_global(name='EBM')\n",
    "show(ebm_global)"
   ]
  },
  {
   "cell_type": "markdown",
   "metadata": {},
   "source": [
    "Local Interpretability"
   ]
  },
  {
   "cell_type": "code",
   "execution_count": 70,
   "metadata": {},
   "outputs": [
    {
     "data": {
      "text/html": [
       "<!-- http://127.0.0.1:7031/1881561615752/ -->\n",
       "<iframe src=\"http://127.0.0.1:7031/1881561615752/\" width=100% height=800 frameBorder=\"0\"></iframe>"
      ]
     },
     "metadata": {},
     "output_type": "display_data"
    }
   ],
   "source": [
    "ebm_local = ebm.explain_local(X_test[:15], y_test[:15], name='EBM')\n",
    "show(ebm_local)"
   ]
  },
  {
   "cell_type": "code",
   "execution_count": 71,
   "metadata": {},
   "outputs": [],
   "source": [
    "lr_global = lr.explain_global(name='Linear Regression')\n",
    "rt_global = rt.explain_global(name='Regression Tree')\n"
   ]
  },
  {
   "cell_type": "code",
   "execution_count": 72,
   "metadata": {},
   "outputs": [
    {
     "data": {
      "text/html": [
       "<!-- http://127.0.0.1:7031/1881561615880/ -->\n",
       "<a href=\"http://127.0.0.1:7031/1881561615880/\" target=\"_new\">Open in new window</a><iframe src=\"http://127.0.0.1:7031/1881561615880/\" width=100% height=800 frameBorder=\"0\"></iframe>"
      ]
     },
     "metadata": {},
     "output_type": "display_data"
    }
   ],
   "source": [
    "show([marginal, lr_global, lr_perf, rt_global, rt_perf, ebm_perf, ebm_global, ebm_local])"
   ]
  },
  {
   "cell_type": "code",
   "execution_count": null,
   "metadata": {},
   "outputs": [],
   "source": []
  },
  {
   "cell_type": "code",
   "execution_count": null,
   "metadata": {},
   "outputs": [],
   "source": []
  },
  {
   "cell_type": "code",
   "execution_count": null,
   "metadata": {},
   "outputs": [],
   "source": []
  }
 ],
 "metadata": {
  "kernelspec": {
   "display_name": "Python 3",
   "language": "python",
   "name": "python3"
  },
  "language_info": {
   "codemirror_mode": {
    "name": "ipython",
    "version": 3
   },
   "file_extension": ".py",
   "mimetype": "text/x-python",
   "name": "python",
   "nbconvert_exporter": "python",
   "pygments_lexer": "ipython3",
   "version": "3.7.6"
  }
 },
 "nbformat": 4,
 "nbformat_minor": 4
}
