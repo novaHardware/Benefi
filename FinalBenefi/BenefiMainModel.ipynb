{
 "cells": [
  {
   "cell_type": "code",
   "execution_count": null,
   "metadata": {},
   "outputs": [],
   "source": []
  },
  {
   "cell_type": "markdown",
   "metadata": {},
   "source": [
    "### Import Depencencies"
   ]
  },
  {
   "cell_type": "code",
   "execution_count": 1,
   "metadata": {},
   "outputs": [],
   "source": [
    "import pandas as pd\n",
    "import numpy as np\n",
    "from sklearn.datasets import make_regression "
   ]
  },
  {
   "cell_type": "code",
   "execution_count": 2,
   "metadata": {},
   "outputs": [],
   "source": [
    "import seaborn as sns\n",
    "import plotly\n",
    "%matplotlib inline\n",
    "import chart_studio.plotly as py\n",
    "import matplotlib.pyplot as plt\n",
    "from matplotlib import style"
   ]
  },
  {
   "cell_type": "code",
   "execution_count": 3,
   "metadata": {},
   "outputs": [],
   "source": [
    "from sklearn.preprocessing import StandardScaler"
   ]
  },
  {
   "cell_type": "code",
   "execution_count": 4,
   "metadata": {},
   "outputs": [
    {
     "name": "stderr",
     "output_type": "stream",
     "text": [
      "C:\\Users\\juanp\\anaconda3\\lib\\site-packages\\sklearn\\utils\\deprecation.py:144: FutureWarning: The sklearn.metrics.scorer module is  deprecated in version 0.22 and will be removed in version 0.24. The corresponding classes / functions should instead be imported from sklearn.metrics. Anything that cannot be imported from sklearn.metrics is now part of the private API.\n",
      "  warnings.warn(message, FutureWarning)\n",
      "C:\\Users\\juanp\\anaconda3\\lib\\site-packages\\sklearn\\utils\\deprecation.py:144: FutureWarning: The sklearn.feature_selection.base module is  deprecated in version 0.22 and will be removed in version 0.24. The corresponding classes / functions should instead be imported from sklearn.feature_selection. Anything that cannot be imported from sklearn.feature_selection is now part of the private API.\n",
      "  warnings.warn(message, FutureWarning)\n"
     ]
    }
   ],
   "source": [
    "from sklearn.model_selection import cross_val_score\n",
    "from sklearn.model_selection import RepeatedKFold\n",
    "from sklearn.ensemble import GradientBoostingRegressor\n",
    "import eli5 "
   ]
  },
  {
   "cell_type": "markdown",
   "metadata": {},
   "source": [
    "## Laod the data"
   ]
  },
  {
   "cell_type": "code",
   "execution_count": 5,
   "metadata": {},
   "outputs": [
    {
     "data": {
      "text/html": [
       "<div>\n",
       "<style scoped>\n",
       "    .dataframe tbody tr th:only-of-type {\n",
       "        vertical-align: middle;\n",
       "    }\n",
       "\n",
       "    .dataframe tbody tr th {\n",
       "        vertical-align: top;\n",
       "    }\n",
       "\n",
       "    .dataframe thead th {\n",
       "        text-align: right;\n",
       "    }\n",
       "</style>\n",
       "<table border=\"1\" class=\"dataframe\">\n",
       "  <thead>\n",
       "    <tr style=\"text-align: right;\">\n",
       "      <th></th>\n",
       "      <th>Cat1</th>\n",
       "      <th>AvgS1</th>\n",
       "      <th>M1</th>\n",
       "      <th>Co1</th>\n",
       "      <th>Cat2</th>\n",
       "      <th>AvgS2</th>\n",
       "      <th>M2</th>\n",
       "      <th>Co2</th>\n",
       "      <th>Cat3</th>\n",
       "      <th>AvgS3</th>\n",
       "      <th>M3</th>\n",
       "      <th>Co3</th>\n",
       "      <th>Cat4</th>\n",
       "      <th>AvgS4</th>\n",
       "      <th>M4</th>\n",
       "      <th>Co4</th>\n",
       "      <th>NumDeg</th>\n",
       "      <th>NumCertf</th>\n",
       "      <th>NumJobs</th>\n",
       "      <th>AverageMonths</th>\n",
       "    </tr>\n",
       "  </thead>\n",
       "  <tbody>\n",
       "    <tr>\n",
       "      <th>0</th>\n",
       "      <td>IT</td>\n",
       "      <td>71779.00000</td>\n",
       "      <td>23</td>\n",
       "      <td>1</td>\n",
       "      <td>Engineering</td>\n",
       "      <td>81584.97869</td>\n",
       "      <td>13</td>\n",
       "      <td>0</td>\n",
       "      <td>Engineering</td>\n",
       "      <td>81584.97869</td>\n",
       "      <td>14</td>\n",
       "      <td>0</td>\n",
       "      <td>IT</td>\n",
       "      <td>69783.63690</td>\n",
       "      <td>4</td>\n",
       "      <td>1</td>\n",
       "      <td>3</td>\n",
       "      <td>3</td>\n",
       "      <td>4</td>\n",
       "      <td>13.50</td>\n",
       "    </tr>\n",
       "    <tr>\n",
       "      <th>1</th>\n",
       "      <td>Unemployed</td>\n",
       "      <td>0.00000</td>\n",
       "      <td>21</td>\n",
       "      <td>1</td>\n",
       "      <td>Other</td>\n",
       "      <td>53085.31717</td>\n",
       "      <td>5</td>\n",
       "      <td>1</td>\n",
       "      <td>Other</td>\n",
       "      <td>53085.31717</td>\n",
       "      <td>33</td>\n",
       "      <td>0</td>\n",
       "      <td>Service</td>\n",
       "      <td>47500.00000</td>\n",
       "      <td>6</td>\n",
       "      <td>1</td>\n",
       "      <td>3</td>\n",
       "      <td>3</td>\n",
       "      <td>4</td>\n",
       "      <td>16.25</td>\n",
       "    </tr>\n",
       "    <tr>\n",
       "      <th>2</th>\n",
       "      <td>IT</td>\n",
       "      <td>69783.63690</td>\n",
       "      <td>11</td>\n",
       "      <td>1</td>\n",
       "      <td>IT</td>\n",
       "      <td>69783.63690</td>\n",
       "      <td>2</td>\n",
       "      <td>1</td>\n",
       "      <td>Unemployed</td>\n",
       "      <td>0.00000</td>\n",
       "      <td>21</td>\n",
       "      <td>1</td>\n",
       "      <td>Other</td>\n",
       "      <td>53085.31717</td>\n",
       "      <td>6</td>\n",
       "      <td>1</td>\n",
       "      <td>3</td>\n",
       "      <td>3</td>\n",
       "      <td>4</td>\n",
       "      <td>10.00</td>\n",
       "    </tr>\n",
       "    <tr>\n",
       "      <th>3</th>\n",
       "      <td>Engineering</td>\n",
       "      <td>81584.97869</td>\n",
       "      <td>7</td>\n",
       "      <td>1</td>\n",
       "      <td>IT</td>\n",
       "      <td>69783.63690</td>\n",
       "      <td>29</td>\n",
       "      <td>1</td>\n",
       "      <td>Operations</td>\n",
       "      <td>69434.83383</td>\n",
       "      <td>37</td>\n",
       "      <td>1</td>\n",
       "      <td>Management</td>\n",
       "      <td>79819.50204</td>\n",
       "      <td>102</td>\n",
       "      <td>1</td>\n",
       "      <td>3</td>\n",
       "      <td>3</td>\n",
       "      <td>4</td>\n",
       "      <td>43.75</td>\n",
       "    </tr>\n",
       "    <tr>\n",
       "      <th>4</th>\n",
       "      <td>Service</td>\n",
       "      <td>37263.83653</td>\n",
       "      <td>190</td>\n",
       "      <td>1</td>\n",
       "      <td>Other</td>\n",
       "      <td>53085.31717</td>\n",
       "      <td>18</td>\n",
       "      <td>0</td>\n",
       "      <td>Other</td>\n",
       "      <td>53085.31717</td>\n",
       "      <td>4</td>\n",
       "      <td>0</td>\n",
       "      <td>Other</td>\n",
       "      <td>53085.31717</td>\n",
       "      <td>5</td>\n",
       "      <td>0</td>\n",
       "      <td>3</td>\n",
       "      <td>3</td>\n",
       "      <td>4</td>\n",
       "      <td>54.25</td>\n",
       "    </tr>\n",
       "  </tbody>\n",
       "</table>\n",
       "</div>"
      ],
      "text/plain": [
       "          Cat1        AvgS1   M1  Co1         Cat2        AvgS2  M2  Co2  \\\n",
       "0           IT  71779.00000   23    1  Engineering  81584.97869  13    0   \n",
       "1   Unemployed      0.00000   21    1        Other  53085.31717   5    1   \n",
       "2           IT  69783.63690   11    1           IT  69783.63690   2    1   \n",
       "3  Engineering  81584.97869    7    1           IT  69783.63690  29    1   \n",
       "4      Service  37263.83653  190    1        Other  53085.31717  18    0   \n",
       "\n",
       "          Cat3        AvgS3  M3  Co3        Cat4        AvgS4   M4  Co4  \\\n",
       "0  Engineering  81584.97869  14    0          IT  69783.63690    4    1   \n",
       "1        Other  53085.31717  33    0     Service  47500.00000    6    1   \n",
       "2   Unemployed      0.00000  21    1       Other  53085.31717    6    1   \n",
       "3   Operations  69434.83383  37    1  Management  79819.50204  102    1   \n",
       "4        Other  53085.31717   4    0       Other  53085.31717    5    0   \n",
       "\n",
       "   NumDeg  NumCertf  NumJobs  AverageMonths  \n",
       "0       3         3        4          13.50  \n",
       "1       3         3        4          16.25  \n",
       "2       3         3        4          10.00  \n",
       "3       3         3        4          43.75  \n",
       "4       3         3        4          54.25  "
      ]
     },
     "execution_count": 5,
     "metadata": {},
     "output_type": "execute_result"
    }
   ],
   "source": [
    "df = pd.read_csv('finalBenefi9.csv')\n",
    "df.head()"
   ]
  },
  {
   "cell_type": "markdown",
   "metadata": {},
   "source": [
    "## Data visualization"
   ]
  },
  {
   "cell_type": "code",
   "execution_count": 6,
   "metadata": {},
   "outputs": [
    {
     "data": {
      "text/plain": [
       "3513"
      ]
     },
     "execution_count": 6,
     "metadata": {},
     "output_type": "execute_result"
    }
   ],
   "source": [
    "len(df)"
   ]
  },
  {
   "cell_type": "code",
   "execution_count": 7,
   "metadata": {},
   "outputs": [
    {
     "name": "stdout",
     "output_type": "stream",
     "text": [
      "<class 'pandas.core.frame.DataFrame'>\n",
      "RangeIndex: 3513 entries, 0 to 3512\n",
      "Data columns (total 20 columns):\n",
      " #   Column         Non-Null Count  Dtype  \n",
      "---  ------         --------------  -----  \n",
      " 0   Cat1           3513 non-null   object \n",
      " 1   AvgS1          3513 non-null   float64\n",
      " 2   M1             3513 non-null   int64  \n",
      " 3   Co1            3513 non-null   int64  \n",
      " 4   Cat2           3513 non-null   object \n",
      " 5   AvgS2          3513 non-null   float64\n",
      " 6   M2             3513 non-null   int64  \n",
      " 7   Co2            3513 non-null   int64  \n",
      " 8   Cat3           3513 non-null   object \n",
      " 9   AvgS3          3513 non-null   float64\n",
      " 10  M3             3513 non-null   int64  \n",
      " 11  Co3            3513 non-null   int64  \n",
      " 12  Cat4           3513 non-null   object \n",
      " 13  AvgS4          3513 non-null   float64\n",
      " 14  M4             3513 non-null   int64  \n",
      " 15  Co4            3513 non-null   int64  \n",
      " 16  NumDeg         3513 non-null   int64  \n",
      " 17  NumCertf       3513 non-null   int64  \n",
      " 18  NumJobs        3513 non-null   int64  \n",
      " 19  AverageMonths  3513 non-null   float64\n",
      "dtypes: float64(5), int64(11), object(4)\n",
      "memory usage: 549.0+ KB\n"
     ]
    }
   ],
   "source": [
    "df.info()"
   ]
  },
  {
   "cell_type": "code",
   "execution_count": 8,
   "metadata": {},
   "outputs": [
    {
     "data": {
      "text/plain": [
       "count           3513\n",
       "unique            22\n",
       "top       Management\n",
       "freq             797\n",
       "Name: Cat1, dtype: object"
      ]
     },
     "execution_count": 8,
     "metadata": {},
     "output_type": "execute_result"
    }
   ],
   "source": [
    "df['Cat1'].describe(include=np.object)"
   ]
  },
  {
   "cell_type": "code",
   "execution_count": 9,
   "metadata": {},
   "outputs": [
    {
     "data": {
      "text/plain": [
       "count      3513.000000\n",
       "mean      73030.117488\n",
       "std       31189.430311\n",
       "min           0.000000\n",
       "25%       51794.608330\n",
       "50%       69783.636900\n",
       "75%       79819.502040\n",
       "max      541524.500000\n",
       "Name: AvgS1, dtype: float64"
      ]
     },
     "execution_count": 9,
     "metadata": {},
     "output_type": "execute_result"
    }
   ],
   "source": [
    "df['AvgS1'].describe(include=np.object)"
   ]
  },
  {
   "cell_type": "code",
   "execution_count": 10,
   "metadata": {},
   "outputs": [
    {
     "data": {
      "text/plain": [
       "count    3513.000000\n",
       "mean       35.630515\n",
       "std        47.387537\n",
       "min         0.000000\n",
       "25%         8.000000\n",
       "50%        19.000000\n",
       "75%        42.000000\n",
       "max       515.000000\n",
       "Name: M1, dtype: float64"
      ]
     },
     "execution_count": 10,
     "metadata": {},
     "output_type": "execute_result"
    }
   ],
   "source": [
    "df['M1'].describe(include=np.object)"
   ]
  },
  {
   "cell_type": "code",
   "execution_count": 11,
   "metadata": {},
   "outputs": [
    {
     "data": {
      "text/plain": [
       "count    3513.000000\n",
       "mean       30.739325\n",
       "std        25.166030\n",
       "min         0.500000\n",
       "25%        13.500000\n",
       "50%        23.500000\n",
       "75%        40.250000\n",
       "max       184.750000\n",
       "Name: AverageMonths, dtype: float64"
      ]
     },
     "execution_count": 11,
     "metadata": {},
     "output_type": "execute_result"
    }
   ],
   "source": [
    "df['AverageMonths'].describe(include=np.object)"
   ]
  },
  {
   "cell_type": "code",
   "execution_count": 12,
   "metadata": {},
   "outputs": [
    {
     "data": {
      "text/plain": [
       "count    3513.000000\n",
       "mean        3.675206\n",
       "std         0.698683\n",
       "min         1.000000\n",
       "25%         4.000000\n",
       "50%         4.000000\n",
       "75%         4.000000\n",
       "max         4.000000\n",
       "Name: NumJobs, dtype: float64"
      ]
     },
     "execution_count": 12,
     "metadata": {},
     "output_type": "execute_result"
    }
   ],
   "source": [
    "df['NumJobs'].describe(include=np.object)"
   ]
  },
  {
   "cell_type": "markdown",
   "metadata": {},
   "source": [
    "## Convert Coountries columns from numerical to categorical"
   ]
  },
  {
   "cell_type": "code",
   "execution_count": 13,
   "metadata": {},
   "outputs": [],
   "source": [
    "df[\"Co1\"] = df[\"Co1\"].astype('category')"
   ]
  },
  {
   "cell_type": "code",
   "execution_count": 14,
   "metadata": {},
   "outputs": [
    {
     "data": {
      "text/plain": [
       "count     3513\n",
       "unique       2\n",
       "top          1\n",
       "freq      2554\n",
       "Name: Co1, dtype: int64"
      ]
     },
     "execution_count": 14,
     "metadata": {},
     "output_type": "execute_result"
    }
   ],
   "source": [
    "df['Co1'].describe(include=np.object)"
   ]
  },
  {
   "cell_type": "code",
   "execution_count": 15,
   "metadata": {},
   "outputs": [],
   "source": [
    "df[\"Co2\"] = df[\"Co2\"].astype('category')\n",
    "df[\"Co3\"] = df[\"Co3\"].astype('category')\n",
    "df[\"Co4\"] = df[\"Co4\"].astype('category')"
   ]
  },
  {
   "cell_type": "code",
   "execution_count": 16,
   "metadata": {},
   "outputs": [],
   "source": [
    "def plotFeatures(col_list,title):\n",
    "    plt.figure(figsize=(10, 14))\n",
    "    i = 0\n",
    "    print(len(col_list))\n",
    "    for col in col_list:\n",
    "        i+=1\n",
    "        plt.subplot(12,2,i)\n",
    "        plt.plot(df[col],df[\"AverageMonths\"],marker='.',linestyle='none')\n",
    "        plt.title(title % (col))   \n",
    "        plt.tight_layout()\n",
    "\n"
   ]
  },
  {
   "cell_type": "code",
   "execution_count": 17,
   "metadata": {},
   "outputs": [
    {
     "name": "stdout",
     "output_type": "stream",
     "text": [
      "20\n"
     ]
    },
    {
     "data": {
      "image/png": "[encoded data removed]",
      "text/plain": [
       "<Figure size 720x1008 with 20 Axes>"
      ]
     },
     "metadata": {
      "needs_background": "light"
     },
     "output_type": "display_data"
    }
   ],
   "source": [
    "colnames = ['Cat1', 'AvgS1', 'M1', 'Co1', 'Cat2', 'AvgS2', 'M2', 'Co2', 'Cat3', 'AvgS3', 'M3', 'Co3', 'Cat4', 'AvgS4', 'M4', 'Co4', 'NumDeg', 'NumCertf', 'NumJobs', 'AverageMonths']\n",
    "plotFeatures(colnames,\"Relationship bw %s and MonthAverage\")"
   ]
  },
  {
   "cell_type": "markdown",
   "metadata": {},
   "source": [
    "## Create dummy variables for jobs categories"
   ]
  },
  {
   "cell_type": "code",
   "execution_count": 18,
   "metadata": {},
   "outputs": [],
   "source": [
    "dummy=pd.get_dummies(df, columns=[\"Cat1\", \"Cat2\", \"Cat3\", \"Cat4\"], prefix=[\"Cat1\", \"Cat2\", \"Cat3\", \"Cat4\"])"
   ]
  },
  {
   "cell_type": "code",
   "execution_count": 19,
   "metadata": {},
   "outputs": [
    {
     "data": {
      "text/html": [
       "<div>\n",
       "<style scoped>\n",
       "    .dataframe tbody tr th:only-of-type {\n",
       "        vertical-align: middle;\n",
       "    }\n",
       "\n",
       "    .dataframe tbody tr th {\n",
       "        vertical-align: top;\n",
       "    }\n",
       "\n",
       "    .dataframe thead th {\n",
       "        text-align: right;\n",
       "    }\n",
       "</style>\n",
       "<table border=\"1\" class=\"dataframe\">\n",
       "  <thead>\n",
       "    <tr style=\"text-align: right;\">\n",
       "      <th></th>\n",
       "      <th>AvgS1</th>\n",
       "      <th>M1</th>\n",
       "      <th>Co1</th>\n",
       "      <th>AvgS2</th>\n",
       "      <th>M2</th>\n",
       "      <th>Co2</th>\n",
       "      <th>AvgS3</th>\n",
       "      <th>M3</th>\n",
       "      <th>Co3</th>\n",
       "      <th>AvgS4</th>\n",
       "      <th>...</th>\n",
       "      <th>Cat4_Government</th>\n",
       "      <th>Cat4_HR</th>\n",
       "      <th>Cat4_IT</th>\n",
       "      <th>Cat4_Management</th>\n",
       "      <th>Cat4_Marketing</th>\n",
       "      <th>Cat4_Operations</th>\n",
       "      <th>Cat4_Other</th>\n",
       "      <th>Cat4_Sales</th>\n",
       "      <th>Cat4_Service</th>\n",
       "      <th>Cat4_Unemployed</th>\n",
       "    </tr>\n",
       "  </thead>\n",
       "  <tbody>\n",
       "    <tr>\n",
       "      <th>0</th>\n",
       "      <td>71779.00000</td>\n",
       "      <td>23</td>\n",
       "      <td>1</td>\n",
       "      <td>81584.97869</td>\n",
       "      <td>13</td>\n",
       "      <td>0</td>\n",
       "      <td>81584.97869</td>\n",
       "      <td>14</td>\n",
       "      <td>0</td>\n",
       "      <td>69783.63690</td>\n",
       "      <td>...</td>\n",
       "      <td>0</td>\n",
       "      <td>0</td>\n",
       "      <td>1</td>\n",
       "      <td>0</td>\n",
       "      <td>0</td>\n",
       "      <td>0</td>\n",
       "      <td>0</td>\n",
       "      <td>0</td>\n",
       "      <td>0</td>\n",
       "      <td>0</td>\n",
       "    </tr>\n",
       "    <tr>\n",
       "      <th>1</th>\n",
       "      <td>0.00000</td>\n",
       "      <td>21</td>\n",
       "      <td>1</td>\n",
       "      <td>53085.31717</td>\n",
       "      <td>5</td>\n",
       "      <td>1</td>\n",
       "      <td>53085.31717</td>\n",
       "      <td>33</td>\n",
       "      <td>0</td>\n",
       "      <td>47500.00000</td>\n",
       "      <td>...</td>\n",
       "      <td>0</td>\n",
       "      <td>0</td>\n",
       "      <td>0</td>\n",
       "      <td>0</td>\n",
       "      <td>0</td>\n",
       "      <td>0</td>\n",
       "      <td>0</td>\n",
       "      <td>0</td>\n",
       "      <td>1</td>\n",
       "      <td>0</td>\n",
       "    </tr>\n",
       "    <tr>\n",
       "      <th>2</th>\n",
       "      <td>69783.63690</td>\n",
       "      <td>11</td>\n",
       "      <td>1</td>\n",
       "      <td>69783.63690</td>\n",
       "      <td>2</td>\n",
       "      <td>1</td>\n",
       "      <td>0.00000</td>\n",
       "      <td>21</td>\n",
       "      <td>1</td>\n",
       "      <td>53085.31717</td>\n",
       "      <td>...</td>\n",
       "      <td>0</td>\n",
       "      <td>0</td>\n",
       "      <td>0</td>\n",
       "      <td>0</td>\n",
       "      <td>0</td>\n",
       "      <td>0</td>\n",
       "      <td>1</td>\n",
       "      <td>0</td>\n",
       "      <td>0</td>\n",
       "      <td>0</td>\n",
       "    </tr>\n",
       "    <tr>\n",
       "      <th>3</th>\n",
       "      <td>81584.97869</td>\n",
       "      <td>7</td>\n",
       "      <td>1</td>\n",
       "      <td>69783.63690</td>\n",
       "      <td>29</td>\n",
       "      <td>1</td>\n",
       "      <td>69434.83383</td>\n",
       "      <td>37</td>\n",
       "      <td>1</td>\n",
       "      <td>79819.50204</td>\n",
       "      <td>...</td>\n",
       "      <td>0</td>\n",
       "      <td>0</td>\n",
       "      <td>0</td>\n",
       "      <td>1</td>\n",
       "      <td>0</td>\n",
       "      <td>0</td>\n",
       "      <td>0</td>\n",
       "      <td>0</td>\n",
       "      <td>0</td>\n",
       "      <td>0</td>\n",
       "    </tr>\n",
       "    <tr>\n",
       "      <th>4</th>\n",
       "      <td>37263.83653</td>\n",
       "      <td>190</td>\n",
       "      <td>1</td>\n",
       "      <td>53085.31717</td>\n",
       "      <td>18</td>\n",
       "      <td>0</td>\n",
       "      <td>53085.31717</td>\n",
       "      <td>4</td>\n",
       "      <td>0</td>\n",
       "      <td>53085.31717</td>\n",
       "      <td>...</td>\n",
       "      <td>0</td>\n",
       "      <td>0</td>\n",
       "      <td>0</td>\n",
       "      <td>0</td>\n",
       "      <td>0</td>\n",
       "      <td>0</td>\n",
       "      <td>1</td>\n",
       "      <td>0</td>\n",
       "      <td>0</td>\n",
       "      <td>0</td>\n",
       "    </tr>\n",
       "  </tbody>\n",
       "</table>\n",
       "<p>5 rows × 88 columns</p>\n",
       "</div>"
      ],
      "text/plain": [
       "         AvgS1   M1 Co1        AvgS2  M2 Co2        AvgS3  M3 Co3  \\\n",
       "0  71779.00000   23   1  81584.97869  13   0  81584.97869  14   0   \n",
       "1      0.00000   21   1  53085.31717   5   1  53085.31717  33   0   \n",
       "2  69783.63690   11   1  69783.63690   2   1      0.00000  21   1   \n",
       "3  81584.97869    7   1  69783.63690  29   1  69434.83383  37   1   \n",
       "4  37263.83653  190   1  53085.31717  18   0  53085.31717   4   0   \n",
       "\n",
       "         AvgS4  ...  Cat4_Government Cat4_HR  Cat4_IT  Cat4_Management  \\\n",
       "0  69783.63690  ...                0       0        1                0   \n",
       "1  47500.00000  ...                0       0        0                0   \n",
       "2  53085.31717  ...                0       0        0                0   \n",
       "3  79819.50204  ...                0       0        0                1   \n",
       "4  53085.31717  ...                0       0        0                0   \n",
       "\n",
       "   Cat4_Marketing  Cat4_Operations  Cat4_Other  Cat4_Sales  Cat4_Service  \\\n",
       "0               0                0           0           0             0   \n",
       "1               0                0           0           0             1   \n",
       "2               0                0           1           0             0   \n",
       "3               0                0           0           0             0   \n",
       "4               0                0           1           0             0   \n",
       "\n",
       "   Cat4_Unemployed  \n",
       "0                0  \n",
       "1                0  \n",
       "2                0  \n",
       "3                0  \n",
       "4                0  \n",
       "\n",
       "[5 rows x 88 columns]"
      ]
     },
     "execution_count": 19,
     "metadata": {},
     "output_type": "execute_result"
    }
   ],
   "source": [
    "dummy.head()"
   ]
  },
  {
   "cell_type": "code",
   "execution_count": 20,
   "metadata": {},
   "outputs": [
    {
     "name": "stdout",
     "output_type": "stream",
     "text": [
      "<class 'pandas.core.frame.DataFrame'>\n",
      "RangeIndex: 3513 entries, 0 to 3512\n",
      "Data columns (total 88 columns):\n",
      " #   Column              Non-Null Count  Dtype   \n",
      "---  ------              --------------  -----   \n",
      " 0   AvgS1               3513 non-null   float64 \n",
      " 1   M1                  3513 non-null   int64   \n",
      " 2   Co1                 3513 non-null   category\n",
      " 3   AvgS2               3513 non-null   float64 \n",
      " 4   M2                  3513 non-null   int64   \n",
      " 5   Co2                 3513 non-null   category\n",
      " 6   AvgS3               3513 non-null   float64 \n",
      " 7   M3                  3513 non-null   int64   \n",
      " 8   Co3                 3513 non-null   category\n",
      " 9   AvgS4               3513 non-null   float64 \n",
      " 10  M4                  3513 non-null   int64   \n",
      " 11  Co4                 3513 non-null   category\n",
      " 12  NumDeg              3513 non-null   int64   \n",
      " 13  NumCertf            3513 non-null   int64   \n",
      " 14  NumJobs             3513 non-null   int64   \n",
      " 15  AverageMonths       3513 non-null   float64 \n",
      " 16  Cat1_Academia       3513 non-null   uint8   \n",
      " 17  Cat1_Admin          3513 non-null   uint8   \n",
      " 18  Cat1_Consultant     3513 non-null   uint8   \n",
      " 19  Cat1_Consultant     3513 non-null   uint8   \n",
      " 20  Cat1_Engineering    3513 non-null   uint8   \n",
      " 21  Cat1_Entertainment  3513 non-null   uint8   \n",
      " 22  Cat1_Executive      3513 non-null   uint8   \n",
      " 23  Cat1_Finance        3513 non-null   uint8   \n",
      " 24  Cat1_Government     3513 non-null   uint8   \n",
      " 25  Cat1_HR             3513 non-null   uint8   \n",
      " 26  Cat1_Health         3513 non-null   uint8   \n",
      " 27  Cat1_IT             3513 non-null   uint8   \n",
      " 28  Cat1_IT             3513 non-null   uint8   \n",
      " 29  Cat1_It             3513 non-null   uint8   \n",
      " 30  Cat1_Law            3513 non-null   uint8   \n",
      " 31  Cat1_Management     3513 non-null   uint8   \n",
      " 32  Cat1_Marketing      3513 non-null   uint8   \n",
      " 33  Cat1_Operations     3513 non-null   uint8   \n",
      " 34  Cat1_Other          3513 non-null   uint8   \n",
      " 35  Cat1_Sales          3513 non-null   uint8   \n",
      " 36  Cat1_Service        3513 non-null   uint8   \n",
      " 37  Cat1_Unemployed     3513 non-null   uint8   \n",
      " 38  Cat2_Academia       3513 non-null   uint8   \n",
      " 39  Cat2_Admin          3513 non-null   uint8   \n",
      " 40  Cat2_Consultant     3513 non-null   uint8   \n",
      " 41  Cat2_Engineering    3513 non-null   uint8   \n",
      " 42  Cat2_Executive      3513 non-null   uint8   \n",
      " 43  Cat2_Finance        3513 non-null   uint8   \n",
      " 44  Cat2_Government     3513 non-null   uint8   \n",
      " 45  Cat2_HR             3513 non-null   uint8   \n",
      " 46  Cat2_Hr             3513 non-null   uint8   \n",
      " 47  Cat2_IT             3513 non-null   uint8   \n",
      " 48  Cat2_It             3513 non-null   uint8   \n",
      " 49  Cat2_Management     3513 non-null   uint8   \n",
      " 50  Cat2_Marketing      3513 non-null   uint8   \n",
      " 51  Cat2_Operations     3513 non-null   uint8   \n",
      " 52  Cat2_Other          3513 non-null   uint8   \n",
      " 53  Cat2_Sales          3513 non-null   uint8   \n",
      " 54  Cat2_Service        3513 non-null   uint8   \n",
      " 55  Cat2_Unemployed     3513 non-null   uint8   \n",
      " 56  Cat3_Academia       3513 non-null   uint8   \n",
      " 57  Cat3_Admin          3513 non-null   uint8   \n",
      " 58  Cat3_Consultant     3513 non-null   uint8   \n",
      " 59  Cat3_Engineering    3513 non-null   uint8   \n",
      " 60  Cat3_Executive      3513 non-null   uint8   \n",
      " 61  Cat3_Finance        3513 non-null   uint8   \n",
      " 62  Cat3_Government     3513 non-null   uint8   \n",
      " 63  Cat3_HR             3513 non-null   uint8   \n",
      " 64  Cat3_IT             3513 non-null   uint8   \n",
      " 65  Cat3_Management     3513 non-null   uint8   \n",
      " 66  Cat3_Marketing      3513 non-null   uint8   \n",
      " 67  Cat3_Operations     3513 non-null   uint8   \n",
      " 68  Cat3_Other          3513 non-null   uint8   \n",
      " 69  Cat3_Sales          3513 non-null   uint8   \n",
      " 70  Cat3_Service        3513 non-null   uint8   \n",
      " 71  Cat3_Unemployed     3513 non-null   uint8   \n",
      " 72  Cat4_Academia       3513 non-null   uint8   \n",
      " 73  Cat4_Admin          3513 non-null   uint8   \n",
      " 74  Cat4_Consultant     3513 non-null   uint8   \n",
      " 75  Cat4_Engineering    3513 non-null   uint8   \n",
      " 76  Cat4_Executive      3513 non-null   uint8   \n",
      " 77  Cat4_Finance        3513 non-null   uint8   \n",
      " 78  Cat4_Government     3513 non-null   uint8   \n",
      " 79  Cat4_HR             3513 non-null   uint8   \n",
      " 80  Cat4_IT             3513 non-null   uint8   \n",
      " 81  Cat4_Management     3513 non-null   uint8   \n",
      " 82  Cat4_Marketing      3513 non-null   uint8   \n",
      " 83  Cat4_Operations     3513 non-null   uint8   \n",
      " 84  Cat4_Other          3513 non-null   uint8   \n",
      " 85  Cat4_Sales          3513 non-null   uint8   \n",
      " 86  Cat4_Service        3513 non-null   uint8   \n",
      " 87  Cat4_Unemployed     3513 non-null   uint8   \n",
      "dtypes: category(4), float64(5), int64(7), uint8(72)\n",
      "memory usage: 590.6 KB\n"
     ]
    }
   ],
   "source": [
    "dummy.info()"
   ]
  },
  {
   "cell_type": "markdown",
   "metadata": {},
   "source": [
    "## Show Average salaries histogrmas"
   ]
  },
  {
   "cell_type": "code",
   "execution_count": 21,
   "metadata": {},
   "outputs": [
    {
     "data": {
      "text/plain": [
       "array([[<matplotlib.axes._subplots.AxesSubplot object at 0x000001C84B211788>]],\n",
       "      dtype=object)"
      ]
     },
     "execution_count": 21,
     "metadata": {},
     "output_type": "execute_result"
    },
    {
     "data": {
      "image/png": "[encoded data removed]",
      "text/plain": [
       "<Figure size 432x288 with 1 Axes>"
      ]
     },
     "metadata": {
      "needs_background": "light"
     },
     "output_type": "display_data"
    }
   ],
   "source": [
    "dummy.hist(column='AvgS1')"
   ]
  },
  {
   "cell_type": "code",
   "execution_count": 22,
   "metadata": {},
   "outputs": [
    {
     "data": {
      "text/plain": [
       "array([[<matplotlib.axes._subplots.AxesSubplot object at 0x000001C84A800548>]],\n",
       "      dtype=object)"
      ]
     },
     "execution_count": 22,
     "metadata": {},
     "output_type": "execute_result"
    },
    {
     "data": {
      "image/png": "[encoded data removed]",
      "text/plain": [
       "<Figure size 432x288 with 1 Axes>"
      ]
     },
     "metadata": {
      "needs_background": "light"
     },
     "output_type": "display_data"
    }
   ],
   "source": [
    "dummy.hist(column='AvgS2')"
   ]
  },
  {
   "cell_type": "code",
   "execution_count": 23,
   "metadata": {},
   "outputs": [
    {
     "data": {
      "text/plain": [
       "array([[<matplotlib.axes._subplots.AxesSubplot object at 0x000001C84AE98D48>]],\n",
       "      dtype=object)"
      ]
     },
     "execution_count": 23,
     "metadata": {},
     "output_type": "execute_result"
    },
    {
     "data": {
      "image/png": "[encoded data removed]",
      "text/plain": [
       "<Figure size 432x288 with 1 Axes>"
      ]
     },
     "metadata": {
      "needs_background": "light"
     },
     "output_type": "display_data"
    }
   ],
   "source": [
    "dummy.hist(column='AvgS3')"
   ]
  },
  {
   "cell_type": "code",
   "execution_count": 24,
   "metadata": {},
   "outputs": [
    {
     "data": {
      "text/plain": [
       "array([[<matplotlib.axes._subplots.AxesSubplot object at 0x000001C84AE35148>]],\n",
       "      dtype=object)"
      ]
     },
     "execution_count": 24,
     "metadata": {},
     "output_type": "execute_result"
    },
    {
     "data": {
      "image/png": "[encoded data removed]",
      "text/plain": [
       "<Figure size 432x288 with 1 Axes>"
      ]
     },
     "metadata": {
      "needs_background": "light"
     },
     "output_type": "display_data"
    }
   ],
   "source": [
    "dummy.hist(column='AvgS4')"
   ]
  },
  {
   "cell_type": "markdown",
   "metadata": {},
   "source": [
    "## Show Months of experience histograms"
   ]
  },
  {
   "cell_type": "code",
   "execution_count": 25,
   "metadata": {},
   "outputs": [
    {
     "data": {
      "text/plain": [
       "array([[<matplotlib.axes._subplots.AxesSubplot object at 0x000001C84AC44B88>]],\n",
       "      dtype=object)"
      ]
     },
     "execution_count": 25,
     "metadata": {},
     "output_type": "execute_result"
    },
    {
     "data": {
      "image/png": "[encoded data removed]",
      "text/plain": [
       "<Figure size 432x288 with 1 Axes>"
      ]
     },
     "metadata": {
      "needs_background": "light"
     },
     "output_type": "display_data"
    }
   ],
   "source": [
    "dummy.hist(column='M1')"
   ]
  },
  {
   "cell_type": "code",
   "execution_count": 26,
   "metadata": {},
   "outputs": [
    {
     "data": {
      "text/plain": [
       "array([[<matplotlib.axes._subplots.AxesSubplot object at 0x000001C84A035B48>]],\n",
       "      dtype=object)"
      ]
     },
     "execution_count": 26,
     "metadata": {},
     "output_type": "execute_result"
    },
    {
     "data": {
      "image/png": "[encoded data removed]",
      "text/plain": [
       "<Figure size 432x288 with 1 Axes>"
      ]
     },
     "metadata": {
      "needs_background": "light"
     },
     "output_type": "display_data"
    }
   ],
   "source": [
    "dummy.hist(column='M2')"
   ]
  },
  {
   "cell_type": "code",
   "execution_count": 27,
   "metadata": {},
   "outputs": [
    {
     "data": {
      "text/plain": [
       "array([[<matplotlib.axes._subplots.AxesSubplot object at 0x000001C84A03AB48>]],\n",
       "      dtype=object)"
      ]
     },
     "execution_count": 27,
     "metadata": {},
     "output_type": "execute_result"
    },
    {
     "data": {
      "image/png": "[encoded data removed]",
      "text/plain": [
       "<Figure size 432x288 with 1 Axes>"
      ]
     },
     "metadata": {
      "needs_background": "light"
     },
     "output_type": "display_data"
    }
   ],
   "source": [
    "dummy.hist(column='M3')"
   ]
  },
  {
   "cell_type": "code",
   "execution_count": 28,
   "metadata": {},
   "outputs": [
    {
     "data": {
      "text/plain": [
       "array([[<matplotlib.axes._subplots.AxesSubplot object at 0x000001C84B096A08>]],\n",
       "      dtype=object)"
      ]
     },
     "execution_count": 28,
     "metadata": {},
     "output_type": "execute_result"
    },
    {
     "data": {
      "image/png": "[encoded data removed]",
      "text/plain": [
       "<Figure size 432x288 with 1 Axes>"
      ]
     },
     "metadata": {
      "needs_background": "light"
     },
     "output_type": "display_data"
    }
   ],
   "source": [
    "dummy.hist(column='M4')"
   ]
  },
  {
   "cell_type": "markdown",
   "metadata": {},
   "source": [
    "## Number of jobs histogram"
   ]
  },
  {
   "cell_type": "code",
   "execution_count": 29,
   "metadata": {},
   "outputs": [
    {
     "data": {
      "text/plain": [
       "array([[<matplotlib.axes._subplots.AxesSubplot object at 0x000001C84AF01588>]],\n",
       "      dtype=object)"
      ]
     },
     "execution_count": 29,
     "metadata": {},
     "output_type": "execute_result"
    },
    {
     "data": {
      "image/png": "[encoded data removed]",
      "text/plain": [
       "<Figure size 432x288 with 1 Axes>"
      ]
     },
     "metadata": {
      "needs_background": "light"
     },
     "output_type": "display_data"
    }
   ],
   "source": [
    "dummy.hist(column='NumJobs')"
   ]
  },
  {
   "cell_type": "markdown",
   "metadata": {},
   "source": [
    "## Average months of experience "
   ]
  },
  {
   "cell_type": "code",
   "execution_count": 30,
   "metadata": {},
   "outputs": [
    {
     "data": {
      "text/plain": [
       "array([[<matplotlib.axes._subplots.AxesSubplot object at 0x000001C84AB893C8>]],\n",
       "      dtype=object)"
      ]
     },
     "execution_count": 30,
     "metadata": {},
     "output_type": "execute_result"
    },
    {
     "data": {
      "image/png": "[encoded data removed]",
      "text/plain": [
       "<Figure size 432x288 with 1 Axes>"
      ]
     },
     "metadata": {
      "needs_background": "light"
     },
     "output_type": "display_data"
    }
   ],
   "source": [
    "dummy.hist(column='AverageMonths')"
   ]
  },
  {
   "cell_type": "markdown",
   "metadata": {},
   "source": [
    "# Could be useful to standarize target variable using log function"
   ]
  },
  {
   "cell_type": "code",
   "execution_count": 31,
   "metadata": {},
   "outputs": [
    {
     "data": {
      "image/png": "[encoded data removed]",
      "text/plain": [
       "<Figure size 432x288 with 1 Axes>"
      ]
     },
     "metadata": {
      "needs_background": "light"
     },
     "output_type": "display_data"
    }
   ],
   "source": [
    "dummy[\"AverageMonths\"].apply(np.log).hist()\n",
    "plt.show()"
   ]
  },
  {
   "cell_type": "code",
   "execution_count": 32,
   "metadata": {},
   "outputs": [],
   "source": [
    "dummy['logAvgM']=np.log(dummy['AverageMonths'])"
   ]
  },
  {
   "cell_type": "code",
   "execution_count": 33,
   "metadata": {},
   "outputs": [
    {
     "data": {
      "text/html": [
       "<div>\n",
       "<style scoped>\n",
       "    .dataframe tbody tr th:only-of-type {\n",
       "        vertical-align: middle;\n",
       "    }\n",
       "\n",
       "    .dataframe tbody tr th {\n",
       "        vertical-align: top;\n",
       "    }\n",
       "\n",
       "    .dataframe thead th {\n",
       "        text-align: right;\n",
       "    }\n",
       "</style>\n",
       "<table border=\"1\" class=\"dataframe\">\n",
       "  <thead>\n",
       "    <tr style=\"text-align: right;\">\n",
       "      <th></th>\n",
       "      <th>AvgS1</th>\n",
       "      <th>M1</th>\n",
       "      <th>Co1</th>\n",
       "      <th>AvgS2</th>\n",
       "      <th>M2</th>\n",
       "      <th>Co2</th>\n",
       "      <th>AvgS3</th>\n",
       "      <th>M3</th>\n",
       "      <th>Co3</th>\n",
       "      <th>AvgS4</th>\n",
       "      <th>...</th>\n",
       "      <th>Cat4_HR</th>\n",
       "      <th>Cat4_IT</th>\n",
       "      <th>Cat4_Management</th>\n",
       "      <th>Cat4_Marketing</th>\n",
       "      <th>Cat4_Operations</th>\n",
       "      <th>Cat4_Other</th>\n",
       "      <th>Cat4_Sales</th>\n",
       "      <th>Cat4_Service</th>\n",
       "      <th>Cat4_Unemployed</th>\n",
       "      <th>logAvgM</th>\n",
       "    </tr>\n",
       "  </thead>\n",
       "  <tbody>\n",
       "    <tr>\n",
       "      <th>0</th>\n",
       "      <td>71779.00000</td>\n",
       "      <td>23</td>\n",
       "      <td>1</td>\n",
       "      <td>81584.97869</td>\n",
       "      <td>13</td>\n",
       "      <td>0</td>\n",
       "      <td>81584.97869</td>\n",
       "      <td>14</td>\n",
       "      <td>0</td>\n",
       "      <td>69783.63690</td>\n",
       "      <td>...</td>\n",
       "      <td>0</td>\n",
       "      <td>1</td>\n",
       "      <td>0</td>\n",
       "      <td>0</td>\n",
       "      <td>0</td>\n",
       "      <td>0</td>\n",
       "      <td>0</td>\n",
       "      <td>0</td>\n",
       "      <td>0</td>\n",
       "      <td>2.602690</td>\n",
       "    </tr>\n",
       "    <tr>\n",
       "      <th>1</th>\n",
       "      <td>0.00000</td>\n",
       "      <td>21</td>\n",
       "      <td>1</td>\n",
       "      <td>53085.31717</td>\n",
       "      <td>5</td>\n",
       "      <td>1</td>\n",
       "      <td>53085.31717</td>\n",
       "      <td>33</td>\n",
       "      <td>0</td>\n",
       "      <td>47500.00000</td>\n",
       "      <td>...</td>\n",
       "      <td>0</td>\n",
       "      <td>0</td>\n",
       "      <td>0</td>\n",
       "      <td>0</td>\n",
       "      <td>0</td>\n",
       "      <td>0</td>\n",
       "      <td>0</td>\n",
       "      <td>1</td>\n",
       "      <td>0</td>\n",
       "      <td>2.788093</td>\n",
       "    </tr>\n",
       "    <tr>\n",
       "      <th>2</th>\n",
       "      <td>69783.63690</td>\n",
       "      <td>11</td>\n",
       "      <td>1</td>\n",
       "      <td>69783.63690</td>\n",
       "      <td>2</td>\n",
       "      <td>1</td>\n",
       "      <td>0.00000</td>\n",
       "      <td>21</td>\n",
       "      <td>1</td>\n",
       "      <td>53085.31717</td>\n",
       "      <td>...</td>\n",
       "      <td>0</td>\n",
       "      <td>0</td>\n",
       "      <td>0</td>\n",
       "      <td>0</td>\n",
       "      <td>0</td>\n",
       "      <td>1</td>\n",
       "      <td>0</td>\n",
       "      <td>0</td>\n",
       "      <td>0</td>\n",
       "      <td>2.302585</td>\n",
       "    </tr>\n",
       "    <tr>\n",
       "      <th>3</th>\n",
       "      <td>81584.97869</td>\n",
       "      <td>7</td>\n",
       "      <td>1</td>\n",
       "      <td>69783.63690</td>\n",
       "      <td>29</td>\n",
       "      <td>1</td>\n",
       "      <td>69434.83383</td>\n",
       "      <td>37</td>\n",
       "      <td>1</td>\n",
       "      <td>79819.50204</td>\n",
       "      <td>...</td>\n",
       "      <td>0</td>\n",
       "      <td>0</td>\n",
       "      <td>1</td>\n",
       "      <td>0</td>\n",
       "      <td>0</td>\n",
       "      <td>0</td>\n",
       "      <td>0</td>\n",
       "      <td>0</td>\n",
       "      <td>0</td>\n",
       "      <td>3.778492</td>\n",
       "    </tr>\n",
       "    <tr>\n",
       "      <th>4</th>\n",
       "      <td>37263.83653</td>\n",
       "      <td>190</td>\n",
       "      <td>1</td>\n",
       "      <td>53085.31717</td>\n",
       "      <td>18</td>\n",
       "      <td>0</td>\n",
       "      <td>53085.31717</td>\n",
       "      <td>4</td>\n",
       "      <td>0</td>\n",
       "      <td>53085.31717</td>\n",
       "      <td>...</td>\n",
       "      <td>0</td>\n",
       "      <td>0</td>\n",
       "      <td>0</td>\n",
       "      <td>0</td>\n",
       "      <td>0</td>\n",
       "      <td>1</td>\n",
       "      <td>0</td>\n",
       "      <td>0</td>\n",
       "      <td>0</td>\n",
       "      <td>3.993603</td>\n",
       "    </tr>\n",
       "  </tbody>\n",
       "</table>\n",
       "<p>5 rows × 89 columns</p>\n",
       "</div>"
      ],
      "text/plain": [
       "         AvgS1   M1 Co1        AvgS2  M2 Co2        AvgS3  M3 Co3  \\\n",
       "0  71779.00000   23   1  81584.97869  13   0  81584.97869  14   0   \n",
       "1      0.00000   21   1  53085.31717   5   1  53085.31717  33   0   \n",
       "2  69783.63690   11   1  69783.63690   2   1      0.00000  21   1   \n",
       "3  81584.97869    7   1  69783.63690  29   1  69434.83383  37   1   \n",
       "4  37263.83653  190   1  53085.31717  18   0  53085.31717   4   0   \n",
       "\n",
       "         AvgS4  ...  Cat4_HR Cat4_IT  Cat4_Management  Cat4_Marketing  \\\n",
       "0  69783.63690  ...        0       1                0               0   \n",
       "1  47500.00000  ...        0       0                0               0   \n",
       "2  53085.31717  ...        0       0                0               0   \n",
       "3  79819.50204  ...        0       0                1               0   \n",
       "4  53085.31717  ...        0       0                0               0   \n",
       "\n",
       "   Cat4_Operations  Cat4_Other  Cat4_Sales  Cat4_Service  Cat4_Unemployed  \\\n",
       "0                0           0           0             0                0   \n",
       "1                0           0           0             1                0   \n",
       "2                0           1           0             0                0   \n",
       "3                0           0           0             0                0   \n",
       "4                0           1           0             0                0   \n",
       "\n",
       "    logAvgM  \n",
       "0  2.602690  \n",
       "1  2.788093  \n",
       "2  2.302585  \n",
       "3  3.778492  \n",
       "4  3.993603  \n",
       "\n",
       "[5 rows x 89 columns]"
      ]
     },
     "execution_count": 33,
     "metadata": {},
     "output_type": "execute_result"
    }
   ],
   "source": [
    "dummy.head()"
   ]
  },
  {
   "cell_type": "code",
   "execution_count": 34,
   "metadata": {},
   "outputs": [
    {
     "data": {
      "text/plain": [
       "count    3513.000000\n",
       "mean        3.111935\n",
       "std         0.836546\n",
       "min        -0.693147\n",
       "25%         2.602690\n",
       "50%         3.157000\n",
       "75%         3.695110\n",
       "max         5.219004\n",
       "Name: logAvgM, dtype: float64"
      ]
     },
     "execution_count": 34,
     "metadata": {},
     "output_type": "execute_result"
    }
   ],
   "source": [
    "dummy['logAvgM'].describe(include=np.object)"
   ]
  },
  {
   "cell_type": "markdown",
   "metadata": {},
   "source": [
    "## Standarize average salary, number of jobs, number of degrees, number of certification and average months of experience columns "
   ]
  },
  {
   "cell_type": "code",
   "execution_count": 35,
   "metadata": {},
   "outputs": [],
   "source": [
    "scaler = StandardScaler()\n",
    "cols_to_norm = ['AvgS1','AvgS2','AvgS3','AvgS4', 'M1', 'M2','M3','M4','NumJobs','NumDeg','NumCertf','AverageMonths']\n",
    "dummy[cols_to_norm] = StandardScaler().fit_transform(dummy[cols_to_norm])"
   ]
  },
  {
   "cell_type": "code",
   "execution_count": 36,
   "metadata": {},
   "outputs": [
    {
     "data": {
      "text/html": [
       "<div>\n",
       "<style scoped>\n",
       "    .dataframe tbody tr th:only-of-type {\n",
       "        vertical-align: middle;\n",
       "    }\n",
       "\n",
       "    .dataframe tbody tr th {\n",
       "        vertical-align: top;\n",
       "    }\n",
       "\n",
       "    .dataframe thead th {\n",
       "        text-align: right;\n",
       "    }\n",
       "</style>\n",
       "<table border=\"1\" class=\"dataframe\">\n",
       "  <thead>\n",
       "    <tr style=\"text-align: right;\">\n",
       "      <th></th>\n",
       "      <th>AvgS1</th>\n",
       "      <th>M1</th>\n",
       "      <th>Co1</th>\n",
       "      <th>AvgS2</th>\n",
       "      <th>M2</th>\n",
       "      <th>Co2</th>\n",
       "      <th>AvgS3</th>\n",
       "      <th>M3</th>\n",
       "      <th>Co3</th>\n",
       "      <th>AvgS4</th>\n",
       "      <th>...</th>\n",
       "      <th>Cat4_HR</th>\n",
       "      <th>Cat4_IT</th>\n",
       "      <th>Cat4_Management</th>\n",
       "      <th>Cat4_Marketing</th>\n",
       "      <th>Cat4_Operations</th>\n",
       "      <th>Cat4_Other</th>\n",
       "      <th>Cat4_Sales</th>\n",
       "      <th>Cat4_Service</th>\n",
       "      <th>Cat4_Unemployed</th>\n",
       "      <th>logAvgM</th>\n",
       "    </tr>\n",
       "  </thead>\n",
       "  <tbody>\n",
       "    <tr>\n",
       "      <th>0</th>\n",
       "      <td>-0.040119</td>\n",
       "      <td>-0.266575</td>\n",
       "      <td>1</td>\n",
       "      <td>0.356382</td>\n",
       "      <td>-0.496234</td>\n",
       "      <td>0</td>\n",
       "      <td>0.732638</td>\n",
       "      <td>-0.374586</td>\n",
       "      <td>0</td>\n",
       "      <td>0.448848</td>\n",
       "      <td>...</td>\n",
       "      <td>0</td>\n",
       "      <td>1</td>\n",
       "      <td>0</td>\n",
       "      <td>0</td>\n",
       "      <td>0</td>\n",
       "      <td>0</td>\n",
       "      <td>0</td>\n",
       "      <td>0</td>\n",
       "      <td>0</td>\n",
       "      <td>2.602690</td>\n",
       "    </tr>\n",
       "    <tr>\n",
       "      <th>1</th>\n",
       "      <td>-2.341835</td>\n",
       "      <td>-0.308786</td>\n",
       "      <td>1</td>\n",
       "      <td>-0.465826</td>\n",
       "      <td>-0.681189</td>\n",
       "      <td>1</td>\n",
       "      <td>-0.237360</td>\n",
       "      <td>0.098301</td>\n",
       "      <td>0</td>\n",
       "      <td>-0.138245</td>\n",
       "      <td>...</td>\n",
       "      <td>0</td>\n",
       "      <td>0</td>\n",
       "      <td>0</td>\n",
       "      <td>0</td>\n",
       "      <td>0</td>\n",
       "      <td>0</td>\n",
       "      <td>0</td>\n",
       "      <td>1</td>\n",
       "      <td>0</td>\n",
       "      <td>2.788093</td>\n",
       "    </tr>\n",
       "    <tr>\n",
       "      <th>2</th>\n",
       "      <td>-0.104104</td>\n",
       "      <td>-0.519842</td>\n",
       "      <td>1</td>\n",
       "      <td>0.015916</td>\n",
       "      <td>-0.750547</td>\n",
       "      <td>1</td>\n",
       "      <td>-2.044141</td>\n",
       "      <td>-0.200364</td>\n",
       "      <td>1</td>\n",
       "      <td>0.008908</td>\n",
       "      <td>...</td>\n",
       "      <td>0</td>\n",
       "      <td>0</td>\n",
       "      <td>0</td>\n",
       "      <td>0</td>\n",
       "      <td>0</td>\n",
       "      <td>1</td>\n",
       "      <td>0</td>\n",
       "      <td>0</td>\n",
       "      <td>0</td>\n",
       "      <td>2.302585</td>\n",
       "    </tr>\n",
       "    <tr>\n",
       "      <th>3</th>\n",
       "      <td>0.274326</td>\n",
       "      <td>-0.604264</td>\n",
       "      <td>1</td>\n",
       "      <td>0.015916</td>\n",
       "      <td>-0.126324</td>\n",
       "      <td>1</td>\n",
       "      <td>0.319103</td>\n",
       "      <td>0.197856</td>\n",
       "      <td>1</td>\n",
       "      <td>0.713256</td>\n",
       "      <td>...</td>\n",
       "      <td>0</td>\n",
       "      <td>0</td>\n",
       "      <td>1</td>\n",
       "      <td>0</td>\n",
       "      <td>0</td>\n",
       "      <td>0</td>\n",
       "      <td>0</td>\n",
       "      <td>0</td>\n",
       "      <td>0</td>\n",
       "      <td>3.778492</td>\n",
       "    </tr>\n",
       "    <tr>\n",
       "      <th>4</th>\n",
       "      <td>-1.146907</td>\n",
       "      <td>3.258060</td>\n",
       "      <td>1</td>\n",
       "      <td>-0.465826</td>\n",
       "      <td>-0.380637</td>\n",
       "      <td>0</td>\n",
       "      <td>-0.237360</td>\n",
       "      <td>-0.623473</td>\n",
       "      <td>0</td>\n",
       "      <td>0.008908</td>\n",
       "      <td>...</td>\n",
       "      <td>0</td>\n",
       "      <td>0</td>\n",
       "      <td>0</td>\n",
       "      <td>0</td>\n",
       "      <td>0</td>\n",
       "      <td>1</td>\n",
       "      <td>0</td>\n",
       "      <td>0</td>\n",
       "      <td>0</td>\n",
       "      <td>3.993603</td>\n",
       "    </tr>\n",
       "  </tbody>\n",
       "</table>\n",
       "<p>5 rows × 89 columns</p>\n",
       "</div>"
      ],
      "text/plain": [
       "      AvgS1        M1 Co1     AvgS2        M2 Co2     AvgS3        M3 Co3  \\\n",
       "0 -0.040119 -0.266575   1  0.356382 -0.496234   0  0.732638 -0.374586   0   \n",
       "1 -2.341835 -0.308786   1 -0.465826 -0.681189   1 -0.237360  0.098301   0   \n",
       "2 -0.104104 -0.519842   1  0.015916 -0.750547   1 -2.044141 -0.200364   1   \n",
       "3  0.274326 -0.604264   1  0.015916 -0.126324   1  0.319103  0.197856   1   \n",
       "4 -1.146907  3.258060   1 -0.465826 -0.380637   0 -0.237360 -0.623473   0   \n",
       "\n",
       "      AvgS4  ...  Cat4_HR Cat4_IT  Cat4_Management  Cat4_Marketing  \\\n",
       "0  0.448848  ...        0       1                0               0   \n",
       "1 -0.138245  ...        0       0                0               0   \n",
       "2  0.008908  ...        0       0                0               0   \n",
       "3  0.713256  ...        0       0                1               0   \n",
       "4  0.008908  ...        0       0                0               0   \n",
       "\n",
       "   Cat4_Operations  Cat4_Other  Cat4_Sales  Cat4_Service  Cat4_Unemployed  \\\n",
       "0                0           0           0             0                0   \n",
       "1                0           0           0             1                0   \n",
       "2                0           1           0             0                0   \n",
       "3                0           0           0             0                0   \n",
       "4                0           1           0             0                0   \n",
       "\n",
       "    logAvgM  \n",
       "0  2.602690  \n",
       "1  2.788093  \n",
       "2  2.302585  \n",
       "3  3.778492  \n",
       "4  3.993603  \n",
       "\n",
       "[5 rows x 89 columns]"
      ]
     },
     "execution_count": 36,
     "metadata": {},
     "output_type": "execute_result"
    }
   ],
   "source": [
    "dummy.head()"
   ]
  },
  {
   "cell_type": "markdown",
   "metadata": {},
   "source": [
    "## Running the base model"
   ]
  },
  {
   "cell_type": "code",
   "execution_count": 37,
   "metadata": {},
   "outputs": [],
   "source": [
    "from sklearn import model_selection"
   ]
  },
  {
   "cell_type": "code",
   "execution_count": 38,
   "metadata": {},
   "outputs": [],
   "source": [
    "from sklearn.model_selection import train_test_split"
   ]
  },
  {
   "cell_type": "code",
   "execution_count": 39,
   "metadata": {},
   "outputs": [],
   "source": [
    "y = dummy[\"logAvgM\"]\n",
    "X = dummy.loc[:, dummy.columns != 'logAvgM']"
   ]
  },
  {
   "cell_type": "code",
   "execution_count": 40,
   "metadata": {},
   "outputs": [],
   "source": [
    "X = X.drop(columns=['AverageMonths'])"
   ]
  },
  {
   "cell_type": "markdown",
   "metadata": {},
   "source": [
    "Splitting data into train and test 75% 25%"
   ]
  },
  {
   "cell_type": "code",
   "execution_count": 41,
   "metadata": {},
   "outputs": [],
   "source": [
    "X_train, X_test, y_train, y_test = train_test_split(X, y)"
   ]
  },
  {
   "cell_type": "code",
   "execution_count": 42,
   "metadata": {},
   "outputs": [
    {
     "data": {
      "text/plain": [
       "(2634, 87)"
      ]
     },
     "execution_count": 42,
     "metadata": {},
     "output_type": "execute_result"
    }
   ],
   "source": [
    "X_train.shape"
   ]
  },
  {
   "cell_type": "code",
   "execution_count": 43,
   "metadata": {},
   "outputs": [
    {
     "data": {
      "text/html": [
       "<div>\n",
       "<style scoped>\n",
       "    .dataframe tbody tr th:only-of-type {\n",
       "        vertical-align: middle;\n",
       "    }\n",
       "\n",
       "    .dataframe tbody tr th {\n",
       "        vertical-align: top;\n",
       "    }\n",
       "\n",
       "    .dataframe thead th {\n",
       "        text-align: right;\n",
       "    }\n",
       "</style>\n",
       "<table border=\"1\" class=\"dataframe\">\n",
       "  <thead>\n",
       "    <tr style=\"text-align: right;\">\n",
       "      <th></th>\n",
       "      <th>AvgS1</th>\n",
       "      <th>M1</th>\n",
       "      <th>Co1</th>\n",
       "      <th>AvgS2</th>\n",
       "      <th>M2</th>\n",
       "      <th>Co2</th>\n",
       "      <th>AvgS3</th>\n",
       "      <th>M3</th>\n",
       "      <th>Co3</th>\n",
       "      <th>AvgS4</th>\n",
       "      <th>...</th>\n",
       "      <th>Cat4_Government</th>\n",
       "      <th>Cat4_HR</th>\n",
       "      <th>Cat4_IT</th>\n",
       "      <th>Cat4_Management</th>\n",
       "      <th>Cat4_Marketing</th>\n",
       "      <th>Cat4_Operations</th>\n",
       "      <th>Cat4_Other</th>\n",
       "      <th>Cat4_Sales</th>\n",
       "      <th>Cat4_Service</th>\n",
       "      <th>Cat4_Unemployed</th>\n",
       "    </tr>\n",
       "  </thead>\n",
       "  <tbody>\n",
       "    <tr>\n",
       "      <th>1595</th>\n",
       "      <td>-1.567905</td>\n",
       "      <td>-0.709792</td>\n",
       "      <td>0</td>\n",
       "      <td>1.576967</td>\n",
       "      <td>-0.565592</td>\n",
       "      <td>1</td>\n",
       "      <td>0.732638</td>\n",
       "      <td>-0.648362</td>\n",
       "      <td>0</td>\n",
       "      <td>0.448848</td>\n",
       "      <td>...</td>\n",
       "      <td>0</td>\n",
       "      <td>0</td>\n",
       "      <td>1</td>\n",
       "      <td>0</td>\n",
       "      <td>0</td>\n",
       "      <td>0</td>\n",
       "      <td>0</td>\n",
       "      <td>0</td>\n",
       "      <td>0</td>\n",
       "      <td>0</td>\n",
       "    </tr>\n",
       "    <tr>\n",
       "      <th>1380</th>\n",
       "      <td>-0.574960</td>\n",
       "      <td>-0.350997</td>\n",
       "      <td>0</td>\n",
       "      <td>-1.385796</td>\n",
       "      <td>-0.241921</td>\n",
       "      <td>1</td>\n",
       "      <td>2.172620</td>\n",
       "      <td>-0.374586</td>\n",
       "      <td>0</td>\n",
       "      <td>0.282277</td>\n",
       "      <td>...</td>\n",
       "      <td>0</td>\n",
       "      <td>0</td>\n",
       "      <td>0</td>\n",
       "      <td>0</td>\n",
       "      <td>0</td>\n",
       "      <td>0</td>\n",
       "      <td>0</td>\n",
       "      <td>0</td>\n",
       "      <td>0</td>\n",
       "      <td>0</td>\n",
       "    </tr>\n",
       "    <tr>\n",
       "      <th>1534</th>\n",
       "      <td>-0.830117</td>\n",
       "      <td>0.261065</td>\n",
       "      <td>0</td>\n",
       "      <td>-1.997324</td>\n",
       "      <td>0.197347</td>\n",
       "      <td>0</td>\n",
       "      <td>-0.237360</td>\n",
       "      <td>-0.548807</td>\n",
       "      <td>1</td>\n",
       "      <td>0.282277</td>\n",
       "      <td>...</td>\n",
       "      <td>0</td>\n",
       "      <td>0</td>\n",
       "      <td>0</td>\n",
       "      <td>0</td>\n",
       "      <td>0</td>\n",
       "      <td>0</td>\n",
       "      <td>0</td>\n",
       "      <td>0</td>\n",
       "      <td>0</td>\n",
       "      <td>0</td>\n",
       "    </tr>\n",
       "    <tr>\n",
       "      <th>262</th>\n",
       "      <td>-0.386040</td>\n",
       "      <td>-0.583159</td>\n",
       "      <td>1</td>\n",
       "      <td>-0.237736</td>\n",
       "      <td>-0.704308</td>\n",
       "      <td>1</td>\n",
       "      <td>-2.044141</td>\n",
       "      <td>-0.723028</td>\n",
       "      <td>0</td>\n",
       "      <td>-1.389697</td>\n",
       "      <td>...</td>\n",
       "      <td>0</td>\n",
       "      <td>0</td>\n",
       "      <td>0</td>\n",
       "      <td>0</td>\n",
       "      <td>0</td>\n",
       "      <td>0</td>\n",
       "      <td>0</td>\n",
       "      <td>0</td>\n",
       "      <td>0</td>\n",
       "      <td>1</td>\n",
       "    </tr>\n",
       "    <tr>\n",
       "      <th>176</th>\n",
       "      <td>0.217713</td>\n",
       "      <td>-0.329891</td>\n",
       "      <td>1</td>\n",
       "      <td>0.015916</td>\n",
       "      <td>-0.519353</td>\n",
       "      <td>1</td>\n",
       "      <td>0.672550</td>\n",
       "      <td>-0.449252</td>\n",
       "      <td>1</td>\n",
       "      <td>0.713256</td>\n",
       "      <td>...</td>\n",
       "      <td>0</td>\n",
       "      <td>0</td>\n",
       "      <td>0</td>\n",
       "      <td>1</td>\n",
       "      <td>0</td>\n",
       "      <td>0</td>\n",
       "      <td>0</td>\n",
       "      <td>0</td>\n",
       "      <td>0</td>\n",
       "      <td>0</td>\n",
       "    </tr>\n",
       "  </tbody>\n",
       "</table>\n",
       "<p>5 rows × 87 columns</p>\n",
       "</div>"
      ],
      "text/plain": [
       "         AvgS1        M1 Co1     AvgS2        M2 Co2     AvgS3        M3 Co3  \\\n",
       "1595 -1.567905 -0.709792   0  1.576967 -0.565592   1  0.732638 -0.648362   0   \n",
       "1380 -0.574960 -0.350997   0 -1.385796 -0.241921   1  2.172620 -0.374586   0   \n",
       "1534 -0.830117  0.261065   0 -1.997324  0.197347   0 -0.237360 -0.548807   1   \n",
       "262  -0.386040 -0.583159   1 -0.237736 -0.704308   1 -2.044141 -0.723028   0   \n",
       "176   0.217713 -0.329891   1  0.015916 -0.519353   1  0.672550 -0.449252   1   \n",
       "\n",
       "         AvgS4  ...  Cat4_Government Cat4_HR  Cat4_IT  Cat4_Management  \\\n",
       "1595  0.448848  ...                0       0        1                0   \n",
       "1380  0.282277  ...                0       0        0                0   \n",
       "1534  0.282277  ...                0       0        0                0   \n",
       "262  -1.389697  ...                0       0        0                0   \n",
       "176   0.713256  ...                0       0        0                1   \n",
       "\n",
       "      Cat4_Marketing  Cat4_Operations  Cat4_Other  Cat4_Sales  Cat4_Service  \\\n",
       "1595               0                0           0           0             0   \n",
       "1380               0                0           0           0             0   \n",
       "1534               0                0           0           0             0   \n",
       "262                0                0           0           0             0   \n",
       "176                0                0           0           0             0   \n",
       "\n",
       "      Cat4_Unemployed  \n",
       "1595                0  \n",
       "1380                0  \n",
       "1534                0  \n",
       "262                 1  \n",
       "176                 0  \n",
       "\n",
       "[5 rows x 87 columns]"
      ]
     },
     "execution_count": 43,
     "metadata": {},
     "output_type": "execute_result"
    }
   ],
   "source": [
    "X_train.head()"
   ]
  },
  {
   "cell_type": "code",
   "execution_count": 44,
   "metadata": {},
   "outputs": [
    {
     "data": {
      "text/plain": [
       "(2634,)"
      ]
     },
     "execution_count": 44,
     "metadata": {},
     "output_type": "execute_result"
    }
   ],
   "source": [
    "y_train.shape"
   ]
  },
  {
   "cell_type": "code",
   "execution_count": 45,
   "metadata": {},
   "outputs": [],
   "source": [
    "# define the model\n",
    "model = GradientBoostingRegressor()"
   ]
  },
  {
   "cell_type": "code",
   "execution_count": 46,
   "metadata": {},
   "outputs": [],
   "source": [
    "kfold = model_selection.KFold(n_splits=10, random_state=7, shuffle=True)"
   ]
  },
  {
   "cell_type": "code",
   "execution_count": 47,
   "metadata": {},
   "outputs": [
    {
     "name": "stdout",
     "output_type": "stream",
     "text": [
      "MAE: -0.064 (0.005)\n"
     ]
    }
   ],
   "source": [
    "scoring = 'neg_mean_absolute_error'\n",
    "results = model_selection.cross_val_score(model, X_train, y_train, cv=kfold, scoring=scoring)\n",
    "print(\"MAE: %.3f (%.3f)\" % (results.mean(), results.std()))"
   ]
  },
  {
   "cell_type": "code",
   "execution_count": 48,
   "metadata": {},
   "outputs": [
    {
     "name": "stdout",
     "output_type": "stream",
     "text": [
      "R^2: 0.988 (0.003)\n"
     ]
    }
   ],
   "source": [
    "scoring = 'r2'\n",
    "results = model_selection.cross_val_score(model, X_train, y_train, cv=kfold, scoring=scoring)\n",
    "print(\"R^2: %.3f (%.3f)\" % (results.mean(), results.std()))"
   ]
  },
  {
   "cell_type": "code",
   "execution_count": null,
   "metadata": {},
   "outputs": [],
   "source": []
  },
  {
   "cell_type": "code",
   "execution_count": 49,
   "metadata": {},
   "outputs": [],
   "source": [
    "from sklearn.model_selection import learning_curve"
   ]
  },
  {
   "cell_type": "code",
   "execution_count": 50,
   "metadata": {},
   "outputs": [],
   "source": [
    "train_sizes, train_scores, validation_scores = learning_curve(\n",
    "estimator = model,\n",
    "X = X_train,\n",
    "y = y_train, cv = 5,\n",
    "scoring = 'neg_mean_squared_error')"
   ]
  },
  {
   "cell_type": "code",
   "execution_count": 51,
   "metadata": {},
   "outputs": [
    {
     "name": "stdout",
     "output_type": "stream",
     "text": [
      "Mean training scores\n",
      "\n",
      " 210     0.002058\n",
      "684     0.003503\n",
      "1158    0.004165\n",
      "1632    0.004311\n",
      "2107    0.004453\n",
      "dtype: float64\n",
      "\n",
      " --------------------\n",
      "\n",
      "Mean validation scores\n",
      "\n",
      " 210     0.034558\n",
      "684     0.014824\n",
      "1158    0.011317\n",
      "1632    0.009664\n",
      "2107    0.008888\n",
      "dtype: float64\n"
     ]
    }
   ],
   "source": [
    "train_scores_mean = -train_scores.mean(axis = 1)\n",
    "validation_scores_mean = -validation_scores.mean(axis = 1)\n",
    "print('Mean training scores\\n\\n', pd.Series(train_scores_mean, index = train_sizes))\n",
    "print('\\n', '-' * 20) # separator\n",
    "print('\\nMean validation scores\\n\\n',pd.Series(validation_scores_mean, index = train_sizes))"
   ]
  },
  {
   "cell_type": "code",
   "execution_count": 52,
   "metadata": {},
   "outputs": [],
   "source": [
    "import matplotlib.pyplot as plt"
   ]
  },
  {
   "cell_type": "code",
   "execution_count": 53,
   "metadata": {},
   "outputs": [
    {
     "data": {
      "text/plain": [
       "(0, 0.035)"
      ]
     },
     "execution_count": 53,
     "metadata": {},
     "output_type": "execute_result"
    },
    {
     "data": {
      "image/png": "[encoded data removed]",
      "text/plain": [
       "<Figure size 576x396 with 1 Axes>"
      ]
     },
     "metadata": {},
     "output_type": "display_data"
    }
   ],
   "source": [
    "plt.style.use('seaborn')\n",
    "plt.plot(train_sizes, train_scores_mean, label = 'Training error')\n",
    "plt.plot(train_sizes, validation_scores_mean, label = 'Validation error')\n",
    "plt.ylabel('MSE', fontsize = 14)\n",
    "plt.xlabel('Training set size', fontsize = 14)\n",
    "plt.title('Learning curves for a gradient boost model', fontsize = 18, y = 1.03)\n",
    "plt.legend()\n",
    "plt.ylim(0,0.035)"
   ]
  },
  {
   "cell_type": "code",
   "execution_count": 72,
   "metadata": {},
   "outputs": [
    {
     "data": {
      "image/png": "[encoded data removed]",
      "text/plain": [
       "<Figure size 576x684 with 1 Axes>"
      ]
     },
     "metadata": {},
     "output_type": "display_data"
    }
   ],
   "source": [
    "import shap\n",
    "shap_values = shap.TreeExplainer(model).shap_values(X_train)\n",
    "shap.summary_plot(shap_values, X_train, plot_type=\"bar\")"
   ]
  },
  {
   "cell_type": "code",
   "execution_count": null,
   "metadata": {},
   "outputs": [],
   "source": []
  },
  {
   "cell_type": "code",
   "execution_count": 57,
   "metadata": {},
   "outputs": [],
   "source": [
    "gbr_fit = model.fit(X_train, y_train)\n",
    "gbr_predict = model.predict(X_test)\n",
    "gbr_results = gbr_predict"
   ]
  },
  {
   "cell_type": "code",
   "execution_count": 58,
   "metadata": {},
   "outputs": [
    {
     "data": {
      "text/plain": [
       "array([3.7465898 , 3.07617685, 2.6799849 , 4.89019656, 2.63080338,\n",
       "       4.48917728, 2.21662219, 2.23377757, 1.84964701, 3.00677856,\n",
       "       3.25965151, 4.13743962, 2.31534378, 1.61928729, 2.62232254,\n",
       "       1.34060748, 3.82835736, 3.79241808, 2.48156329, 1.84035887,\n",
       "       3.73249735, 3.65422035, 3.29686504, 2.5940493 , 2.63747738,\n",
       "       4.33005508, 4.06818219, 3.48309082, 3.51569275, 3.27456021,\n",
       "       1.80689798, 2.80054321, 2.65952771, 1.85095094, 1.34155949,\n",
       "       1.17116975, 2.90964993, 3.9260547 , 3.10835653, 3.97738499,\n",
       "       2.27652499, 4.22689366, 3.81399935, 3.2474563 , 3.5626435 ,\n",
       "       2.68990569, 3.18199637, 2.16824702, 3.8820268 , 2.81873404,\n",
       "       2.88543603, 4.49020375, 2.49413354, 2.84010255, 3.9751018 ,\n",
       "       2.31309575, 2.2458573 , 3.39129814, 2.64522744, 1.9720011 ,\n",
       "       3.36313228, 4.14626771, 4.1073397 , 2.62243854, 2.22783464,\n",
       "       3.46408064, 2.42003599, 3.54357194, 2.40140252, 2.43957036,\n",
       "       2.88528747, 2.10064346, 2.55089756, 3.53594308, 2.29143454,\n",
       "       3.40116312, 4.10164079, 4.20428754, 3.17201024, 3.59752678,\n",
       "       3.85486115, 4.34861767, 2.92651037, 2.13093232, 4.06630795,\n",
       "       4.6687178 , 2.70280707, 2.71963558, 4.26176153, 2.32634232,\n",
       "       4.65292336, 2.85211419, 2.67343884, 2.83295808, 4.45938142,\n",
       "       3.53318197, 3.74509137, 3.03837238, 2.83039211, 3.36406255,\n",
       "       0.85713609, 3.1132231 , 2.47423262, 2.00967453, 3.12998914,\n",
       "       3.81073818, 2.8433501 , 2.45994653, 2.96863101, 1.84757032,\n",
       "       2.79934866, 3.4940025 , 3.04195869, 3.75698915, 1.05212295,\n",
       "       4.3753    , 2.96449238, 2.14520145, 2.51938718, 2.30347936,\n",
       "       3.48786047, 4.02104873, 2.24320257, 2.23183841, 2.95425938,\n",
       "       3.33602529, 2.54312904, 3.03454769, 4.94814427, 4.01661224,\n",
       "       3.01513066, 3.38412741, 1.90125792, 4.15434574, 2.99797437,\n",
       "       3.21426187, 4.52661406, 2.98897286, 3.56768174, 3.34094448,\n",
       "       1.27153997, 3.03759966, 4.33539582, 2.3268245 , 2.36825612,\n",
       "       3.13854834, 3.31206871, 2.94140925, 3.77794981, 2.37506319,\n",
       "       2.78927307, 3.01565707, 3.86952989, 3.74615762, 3.45485084,\n",
       "       2.03210634, 3.29327085, 1.82402456, 3.13091579, 3.4829575 ,\n",
       "       3.52043423, 2.76558109, 3.21759126, 3.92290721, 3.95748739,\n",
       "       2.77981223, 3.73160348, 3.90239028, 4.20027929, 3.75985939,\n",
       "       3.0625473 , 3.62538958, 2.39544533, 3.3715415 , 3.84660559,\n",
       "       2.82246992, 2.32935388, 2.3110934 , 2.89613869, 3.07713966,\n",
       "       2.34307728, 2.67791567, 2.99456494, 3.42209886, 2.59652509,\n",
       "       3.64221758, 3.10691203, 3.43660729, 4.31886228, 2.82426623,\n",
       "       2.61521643, 2.89514362, 2.72449501, 3.89251251, 2.71643656,\n",
       "       2.82441479, 2.81096526, 2.55103754, 2.91649723, 4.40240843,\n",
       "       2.91724621, 3.05982324, 4.1186811 , 4.15064519, 3.65035606,\n",
       "       3.51028352, 1.54625463, 3.86487934, 3.46093463, 1.81839836,\n",
       "       4.42784737, 3.59503267, 2.88881594, 2.73436508, 1.80705888,\n",
       "       3.20910826, 2.71689458, 2.65128168, 1.21238911, 4.07033348,\n",
       "       1.16904525, 2.40859688, 3.36099311, 3.40751575, 3.42750078,\n",
       "       3.02907912, 2.64009606, 2.21474226, 2.84491263, 2.66043075,\n",
       "       0.4931545 , 1.95230893, 3.92604039, 2.48565384, 3.08935763,\n",
       "       2.93765116, 4.17137191, 4.05407701, 4.13179425, 2.94144986,\n",
       "       3.90038293, 3.81869423, 3.55020527, 1.74639828, 3.24895206,\n",
       "       3.24761161, 2.79190393, 3.69787586, 4.87260821, 2.70715603,\n",
       "       3.94144354, 3.54605424, 3.20745754, 3.07017838, 2.3214845 ,\n",
       "       2.3534021 , 3.71559148, 4.01789033, 1.04295137, 3.78813042,\n",
       "       3.87171523, 1.80934909, 3.08304593, 4.07249732, 3.28255683,\n",
       "       2.90867241, 2.75195901, 2.12068582, 2.85186133, 2.07478899,\n",
       "       3.11720666, 3.27643453, 4.41575022, 4.33482907, 3.39200324,\n",
       "       3.55013024, 3.18684996, 2.83454558, 2.87492812, 3.18420268,\n",
       "       3.0640087 , 3.94612348, 3.96478295, 2.87724921, 3.24556282,\n",
       "       2.01303023, 1.13009688, 2.10018756, 2.80240573, 3.42811455,\n",
       "       3.13924063, 3.73211641, 2.08543674, 3.27646094, 2.60844731,\n",
       "       3.77037779, 2.29504619, 3.43020351, 3.20193763, 2.96398273,\n",
       "       4.22328444, 3.24276485, 2.74845709, 2.6589293 , 3.8092837 ,\n",
       "       2.69392809, 2.30829825, 4.12055065, 3.0857014 , 2.92981151,\n",
       "       3.91308644, 2.31824487, 3.40059409, 3.45094809, 3.31876185,\n",
       "       3.84613613, 2.05761966, 4.01717205, 3.64773759, 2.18965227,\n",
       "       2.41200649, 3.93528384, 2.97354436, 2.99188337, 4.41501974,\n",
       "       4.0021116 , 1.34823576, 2.07973283, 2.88753125, 3.91288761,\n",
       "       3.19264106, 3.72958276, 3.50620286, 2.5818395 , 2.92493394,\n",
       "       3.43450743, 3.23766014, 1.28959153, 3.07382934, 2.81660554,\n",
       "       2.8456741 , 3.70659621, 4.14364199, 2.49195853, 1.42162753,\n",
       "       2.62869252, 2.87157692, 2.00445214, 2.80945522, 3.41151361,\n",
       "       3.58768807, 2.44650285, 2.66817976, 3.91663003, 3.06577991,\n",
       "       3.65933655, 4.31365297, 4.76172397, 4.22492234, 3.72129884,\n",
       "       4.93535103, 2.92875261, 2.20064918, 2.04798141, 3.55206984,\n",
       "       4.16360695, 2.63451619, 3.0780769 , 2.99551187, 1.58622126,\n",
       "       2.29628481, 1.27940155, 2.17465761, 1.31071366, 1.77475669,\n",
       "       3.50436492, 2.50361589, 2.53617637, 3.44736093, 2.13971989,\n",
       "       2.80054321, 3.4852185 , 2.87981091, 2.80385636, 2.17666716,\n",
       "       2.67529678, 2.21549275, 2.75967389, 3.20568223, 3.78395043,\n",
       "       1.91398616, 2.12850525, 2.96637395, 1.96323091, 2.19690038,\n",
       "       3.89828365, 2.65545574, 2.8922095 , 2.82373987, 2.56475578,\n",
       "       3.07665106, 2.97237058, 3.09956362, 2.02814937, 4.22396485,\n",
       "       4.38366513, 3.021318  , 2.32722509, 2.51002517, 2.92330897,\n",
       "       3.96136616, 3.14866937, 2.7478813 , 4.01298217, 0.37887148,\n",
       "       4.93724091, 3.62691549, 1.04476408, 3.3993558 , 2.75518122,\n",
       "       3.83460183, 1.9885363 , 0.59889399, 3.02229601, 2.60994926,\n",
       "       4.41020266, 3.99727408, 2.71669461, 3.4048407 , 4.07649318,\n",
       "       2.00082951, 3.28468893, 2.73399083, 3.74618426, 4.23572142,\n",
       "       2.40324118, 3.83968085, 2.33881084, 3.77359146, 4.04120603,\n",
       "       4.39277198, 2.706013  , 3.07232735, 3.29819083, 3.25226936,\n",
       "       3.95983224, 3.9721297 , 3.28233162, 2.51213992, 4.02066086,\n",
       "       2.59372436, 2.66141385, 3.84663589, 3.21564189, 2.7918141 ,\n",
       "       3.92102866, 4.19281275, 2.49392523, 3.44203513, 2.23014293,\n",
       "       3.49860464, 3.02594335, 2.63444968, 3.56220936, 2.94898234,\n",
       "       2.53758073, 2.34626413, 3.36408555, 3.32563678, 1.91731606,\n",
       "       3.00955667, 2.48320507, 2.02396908, 4.72425227, 2.30536091,\n",
       "       4.2537144 , 2.69707213, 3.72367012, 4.14992273, 3.03445093,\n",
       "       2.1445732 , 2.07478899, 2.47171744, 3.49199177, 4.07259287,\n",
       "       4.04161041, 3.67314516, 1.59209339, 4.25364042, 1.22444814,\n",
       "       3.25265177, 4.30004612, 3.07433051, 3.40583234, 2.11576645,\n",
       "       4.20500163, 2.31176427, 3.43556933, 3.09673175, 2.55227366,\n",
       "       2.62938408, 3.79745548, 1.22463095, 3.30403911, 3.5102534 ,\n",
       "       2.82594024, 3.26498155, 1.73376335, 2.9349605 , 4.53590703,\n",
       "       1.92303392, 2.47285189, 3.16650268, 2.32997877, 3.45852477,\n",
       "       2.85357933, 3.51915757, 3.66926268, 4.05359525, 2.61195266,\n",
       "       1.80736027, 2.18237552, 2.2044905 , 2.84466883, 4.4568223 ,\n",
       "       3.78971462, 3.48636151, 4.18064041, 3.59784643, 3.39084374,\n",
       "       3.1864524 , 2.74626674, 3.91159977, 4.42311434, 0.59889399,\n",
       "       2.59204973, 4.06818219, 3.15623741, 4.11026137, 4.0174456 ,\n",
       "       2.9188095 , 3.3299965 , 3.32254527, 1.87432977, 3.81284343,\n",
       "       3.47508028, 3.70786459, 2.77480328, 4.06818219, 2.67710817,\n",
       "       2.3268245 , 3.91115118, 2.80563734, 2.83899861, 3.8806607 ,\n",
       "       3.3450328 , 0.85713609, 3.69089345, 1.97796308, 3.11473312,\n",
       "       2.70282675, 2.41575169, 3.17833691, 4.01789033, 1.89079975,\n",
       "       2.90776989, 3.6134675 , 3.3843454 , 0.92854218, 4.73260049,\n",
       "       3.23108695, 3.63213688, 0.81497242, 3.55442646, 4.38617329,\n",
       "       2.8444682 , 3.22644844, 2.73399083, 2.35852203, 3.7258786 ,\n",
       "       3.01101885, 4.0748869 , 3.11690354, 3.33060317, 2.76071414,\n",
       "       5.04503758, 2.63173444, 3.60536933, 2.74916666, 2.90228984,\n",
       "       3.13571457, 3.38475206, 3.48395518, 3.07278726, 2.96327202,\n",
       "       1.11722713, 4.24158309, 3.04121967, 2.36184938, 2.549826  ,\n",
       "       2.49149586, 2.75576957, 3.82916941, 4.21239984, 3.59824701,\n",
       "       2.95859918, 2.78728162, 4.18702559, 2.7186778 , 2.54591481,\n",
       "       3.77257802, 2.86542846, 1.32492115, 3.42628173, 3.7590572 ,\n",
       "       3.42808775, 2.68595464, 4.09329597, 3.49803918, 3.39211087,\n",
       "       3.14370028, 3.38054645, 3.0001914 , 3.64467352, 4.55870222,\n",
       "       2.47175238, 2.04761358, 3.36423895, 2.7035448 , 3.03871708,\n",
       "       3.72160815, 4.17592594, 1.68345754, 2.94982754, 4.81059547,\n",
       "       3.86134562, 4.22307978, 2.73510379, 1.17116975, 2.99447067,\n",
       "       2.84318579, 4.42269324, 2.84509937, 2.98952997, 3.3929708 ,\n",
       "       4.70062917, 3.52943569, 3.23724829, 4.53794674, 3.3183767 ,\n",
       "       2.01251891, 4.22576547, 3.66759681, 2.54676973, 4.20859278,\n",
       "       2.0671997 , 4.36915076, 3.7217606 , 2.49063862, 4.42064968,\n",
       "       2.57712352, 3.77359146, 3.14726052, 3.3283025 , 2.0666807 ,\n",
       "       3.73428492, 2.87010726, 1.93534977, 3.17908606, 3.91155829,\n",
       "       2.18092936, 3.43734677, 3.48043791, 3.59199574, 1.70641867,\n",
       "       2.85401028, 2.09704875, 2.52845925, 2.97969195, 2.53673904,\n",
       "       3.43183573, 3.6418222 , 3.37886577, 1.41261816, 3.03987378,\n",
       "       4.14754312, 2.92225572, 1.84876184, 3.71410957, 3.15695522,\n",
       "       2.83899421, 3.41096375, 3.55424669, 2.44275756, 3.10553015,\n",
       "       3.43046222, 3.39797965, 3.1049073 , 2.99223738, 2.64052424,\n",
       "       3.26720731, 3.19296021, 3.89716752, 3.54259527, 2.85842988,\n",
       "       3.29735613, 2.70901792, 3.24443039, 3.85453023, 2.61102321,\n",
       "       2.58870107, 4.41847906, 3.84126965, 0.60121799, 3.67896443,\n",
       "       3.12917783, 3.69828421, 3.48336114, 3.3416631 , 3.60113356,\n",
       "       1.5698721 , 2.4275177 , 3.81212561, 4.23574846, 3.71665396,\n",
       "       3.04762952, 1.57843129, 2.68865719, 1.17116975, 2.29143454,\n",
       "       3.33255769, 3.66400985, 3.95675763, 2.49523296, 3.40450095,\n",
       "       2.44830738, 3.51462534, 2.53423648, 3.82960826, 3.80368881,\n",
       "       2.83563962, 3.91054198, 2.34850443, 3.62938048, 2.05132974,\n",
       "       3.79783762, 2.72594502, 3.96722052, 2.00804557, 3.39461324,\n",
       "       1.68020737, 2.97350486, 3.00744172, 3.41118877, 4.01008786,\n",
       "       3.57771728, 2.53074171, 3.37281655, 1.90176257, 3.11228014,\n",
       "       1.17116975, 3.02682392, 2.69208998, 2.59264858, 4.41646095,\n",
       "       2.44524158, 3.75823188, 2.19106139, 2.78888019, 3.12008892,\n",
       "       4.07581821, 3.06014634, 3.21794927, 2.77998512, 3.79780157,\n",
       "       3.77657885, 2.13202495, 1.89709545, 3.51917996, 3.09237062,\n",
       "       3.25805738, 2.43279859, 2.72943775, 3.12242239, 3.38671208,\n",
       "       1.32415378, 2.69653055, 1.75562305, 2.93862844, 3.56163291,\n",
       "       2.3268245 , 3.66795427, 3.39931855, 4.68802273, 3.42281025,\n",
       "       3.31924634, 3.38114949, 2.54672533, 4.17583824, 2.95737411,\n",
       "       3.63764627, 2.44134804, 3.12708634, 3.13338586, 3.48883386,\n",
       "       3.30004131, 3.10691203, 1.65295217, 3.23513066, 2.65865876,\n",
       "       3.81073818, 4.0355588 , 4.0433497 , 3.53594308, 3.20885936,\n",
       "       4.17099258, 4.79464785, 2.76229223, 2.88805315, 2.92225572,\n",
       "       2.87957321, 2.40889637, 4.81805086, 3.95774987, 3.79077301,\n",
       "       3.18844792, 4.16489013, 3.96464692, 1.76381885, 3.78460591,\n",
       "       2.3268245 , 2.9452661 , 4.34308984, 2.44845101, 2.64851602,\n",
       "       3.94634213, 3.4303522 , 3.31768151, 2.57508754, 2.37784376,\n",
       "       1.57067274, 2.87429741, 4.22616438, 3.17793298, 3.17999401,\n",
       "       3.2358662 , 3.24106313, 2.98362135, 2.85309701, 4.27344842,\n",
       "       1.12473728, 2.87082787, 3.19103499, 3.28618159, 1.73757631,\n",
       "       2.80228092, 1.23403533, 1.89332084, 3.34467023, 4.08427031,\n",
       "       3.20680666, 3.47267347, 1.49295345, 3.58003625, 2.67223652,\n",
       "       2.2164774 , 3.58320438, 3.46605576, 3.52695114, 2.41876534,\n",
       "       3.19307768, 1.03939393, 4.75834248, 3.67895796, 2.35122943,\n",
       "       3.65940156, 2.17085439, 2.62182529, 4.52969714])"
      ]
     },
     "execution_count": 58,
     "metadata": {},
     "output_type": "execute_result"
    }
   ],
   "source": [
    "gbr_results"
   ]
  },
  {
   "cell_type": "code",
   "execution_count": 59,
   "metadata": {},
   "outputs": [],
   "source": [
    "gbr_df = pd.DataFrame(gbr_results, columns = [\"logresults\"])"
   ]
  },
  {
   "cell_type": "code",
   "execution_count": 60,
   "metadata": {},
   "outputs": [
    {
     "data": {
      "text/html": [
       "<div>\n",
       "<style scoped>\n",
       "    .dataframe tbody tr th:only-of-type {\n",
       "        vertical-align: middle;\n",
       "    }\n",
       "\n",
       "    .dataframe tbody tr th {\n",
       "        vertical-align: top;\n",
       "    }\n",
       "\n",
       "    .dataframe thead th {\n",
       "        text-align: right;\n",
       "    }\n",
       "</style>\n",
       "<table border=\"1\" class=\"dataframe\">\n",
       "  <thead>\n",
       "    <tr style=\"text-align: right;\">\n",
       "      <th></th>\n",
       "      <th>logresults</th>\n",
       "    </tr>\n",
       "  </thead>\n",
       "  <tbody>\n",
       "    <tr>\n",
       "      <th>0</th>\n",
       "      <td>3.746590</td>\n",
       "    </tr>\n",
       "    <tr>\n",
       "      <th>1</th>\n",
       "      <td>3.076177</td>\n",
       "    </tr>\n",
       "    <tr>\n",
       "      <th>2</th>\n",
       "      <td>2.679985</td>\n",
       "    </tr>\n",
       "    <tr>\n",
       "      <th>3</th>\n",
       "      <td>4.890197</td>\n",
       "    </tr>\n",
       "    <tr>\n",
       "      <th>4</th>\n",
       "      <td>2.630803</td>\n",
       "    </tr>\n",
       "  </tbody>\n",
       "</table>\n",
       "</div>"
      ],
      "text/plain": [
       "   logresults\n",
       "0    3.746590\n",
       "1    3.076177\n",
       "2    2.679985\n",
       "3    4.890197\n",
       "4    2.630803"
      ]
     },
     "execution_count": 60,
     "metadata": {},
     "output_type": "execute_result"
    }
   ],
   "source": [
    "gbr_df.head()"
   ]
  },
  {
   "cell_type": "code",
   "execution_count": 61,
   "metadata": {},
   "outputs": [],
   "source": [
    "gbr_df['Avg'] = np.exp(gbr_df['logresults'])\n"
   ]
  },
  {
   "cell_type": "code",
   "execution_count": 62,
   "metadata": {},
   "outputs": [
    {
     "data": {
      "text/html": [
       "<div>\n",
       "<style scoped>\n",
       "    .dataframe tbody tr th:only-of-type {\n",
       "        vertical-align: middle;\n",
       "    }\n",
       "\n",
       "    .dataframe tbody tr th {\n",
       "        vertical-align: top;\n",
       "    }\n",
       "\n",
       "    .dataframe thead th {\n",
       "        text-align: right;\n",
       "    }\n",
       "</style>\n",
       "<table border=\"1\" class=\"dataframe\">\n",
       "  <thead>\n",
       "    <tr style=\"text-align: right;\">\n",
       "      <th></th>\n",
       "      <th>logresults</th>\n",
       "      <th>Avg</th>\n",
       "    </tr>\n",
       "  </thead>\n",
       "  <tbody>\n",
       "    <tr>\n",
       "      <th>0</th>\n",
       "      <td>3.746590</td>\n",
       "      <td>42.376323</td>\n",
       "    </tr>\n",
       "    <tr>\n",
       "      <th>1</th>\n",
       "      <td>3.076177</td>\n",
       "      <td>21.675376</td>\n",
       "    </tr>\n",
       "    <tr>\n",
       "      <th>2</th>\n",
       "      <td>2.679985</td>\n",
       "      <td>14.584873</td>\n",
       "    </tr>\n",
       "    <tr>\n",
       "      <th>3</th>\n",
       "      <td>4.890197</td>\n",
       "      <td>132.979711</td>\n",
       "    </tr>\n",
       "    <tr>\n",
       "      <th>4</th>\n",
       "      <td>2.630803</td>\n",
       "      <td>13.884920</td>\n",
       "    </tr>\n",
       "  </tbody>\n",
       "</table>\n",
       "</div>"
      ],
      "text/plain": [
       "   logresults         Avg\n",
       "0    3.746590   42.376323\n",
       "1    3.076177   21.675376\n",
       "2    2.679985   14.584873\n",
       "3    4.890197  132.979711\n",
       "4    2.630803   13.884920"
      ]
     },
     "execution_count": 62,
     "metadata": {},
     "output_type": "execute_result"
    }
   ],
   "source": [
    "gbr_df.head()"
   ]
  },
  {
   "cell_type": "code",
   "execution_count": 63,
   "metadata": {},
   "outputs": [],
   "source": [
    "from interpret import show\n",
    "from interpret.data import Marginal\n"
   ]
  },
  {
   "cell_type": "markdown",
   "metadata": {},
   "source": [
    "Expore Data"
   ]
  },
  {
   "cell_type": "code",
   "execution_count": 64,
   "metadata": {},
   "outputs": [
    {
     "data": {
      "text/html": [
       "<!-- http://127.0.0.1:7469/1959647399304/ -->\n",
       "<iframe src=\"http://127.0.0.1:7469/1959647399304/\" width=100% height=800 frameBorder=\"0\"></iframe>"
      ]
     },
     "metadata": {},
     "output_type": "display_data"
    }
   ],
   "source": [
    "marginal = Marginal().explain_data(X_train, y_train, name = 'Train Data')\n",
    "show(marginal)"
   ]
  },
  {
   "cell_type": "markdown",
   "metadata": {},
   "source": [
    "Train the Explainable Boosting Machine (EBM)"
   ]
  },
  {
   "cell_type": "code",
   "execution_count": 65,
   "metadata": {},
   "outputs": [
    {
     "data": {
      "text/plain": [
       "ExplainableBoostingRegressor(binning='quantile', early_stopping_rounds=50,\n",
       "                             early_stopping_tolerance=0,\n",
       "                             feature_names=['AvgS1', 'M1', 'Co1', 'AvgS2', 'M2',\n",
       "                                            'Co2', 'AvgS3', 'M3', 'Co3',\n",
       "                                            'AvgS4', 'M4', 'Co4', 'NumDeg',\n",
       "                                            'NumCertf', 'NumJobs',\n",
       "                                            'Cat1_Academia', 'Cat1_Admin',\n",
       "                                            'Cat1_Consultant',\n",
       "                                            'Cat1_Consultant ',\n",
       "                                            'Cat1_Engineering',\n",
       "                                            'Cat1_Entertainment',\n",
       "                                            'Cat1_Executive', 'Cat1_F...\n",
       "                                            'categorical', 'categorical',\n",
       "                                            'categorical', 'categorical',\n",
       "                                            'categorical', 'categorical',\n",
       "                                            'categorical', 'categorical',\n",
       "                                            'categorical', 'categorical',\n",
       "                                            'categorical', 'categorical', ...],\n",
       "                             inner_bags=0, interactions=0, learning_rate=0.01,\n",
       "                             mains='all', max_bins=255, max_leaves=3,\n",
       "                             max_rounds=5000, min_samples_leaf=2, n_jobs=-2,\n",
       "                             outer_bags=16, random_state=42,\n",
       "                             validation_size=0.15)"
      ]
     },
     "execution_count": 65,
     "metadata": {},
     "output_type": "execute_result"
    }
   ],
   "source": [
    "from interpret.glassbox import ExplainableBoostingRegressor, LinearRegression, RegressionTree, LogisticRegression\n",
    "\n",
    "lr = LinearRegression(random_state=42)\n",
    "lr.fit(X_train, y_train)\n",
    "\n",
    "rt = RegressionTree(random_state=42)\n",
    "rt.fit(X_train, y_train)\n",
    "\n",
    "ebm = ExplainableBoostingRegressor(random_state=42)\n",
    "ebm.fit(X_train, y_train)  \n",
    "# For Classifier, use ebm = ExplainableBoostingClassifier("
   ]
  },
  {
   "cell_type": "markdown",
   "metadata": {},
   "source": [
    "Performance of Model"
   ]
  },
  {
   "cell_type": "code",
   "execution_count": 66,
   "metadata": {},
   "outputs": [
    {
     "data": {
      "text/html": [
       "<!-- http://127.0.0.1:7469/1959837527752/ -->\n",
       "<iframe src=\"http://127.0.0.1:7469/1959837527752/\" width=100% height=800 frameBorder=\"0\"></iframe>"
      ]
     },
     "metadata": {},
     "output_type": "display_data"
    },
    {
     "data": {
      "text/html": [
       "<!-- http://127.0.0.1:7469/1959837569096/ -->\n",
       "<iframe src=\"http://127.0.0.1:7469/1959837569096/\" width=100% height=800 frameBorder=\"0\"></iframe>"
      ]
     },
     "metadata": {},
     "output_type": "display_data"
    },
    {
     "data": {
      "text/html": [
       "<!-- http://127.0.0.1:7469/1959837569800/ -->\n",
       "<iframe src=\"http://127.0.0.1:7469/1959837569800/\" width=100% height=800 frameBorder=\"0\"></iframe>"
      ]
     },
     "metadata": {},
     "output_type": "display_data"
    }
   ],
   "source": [
    "from interpret import show\n",
    "from interpret.perf import RegressionPerf\n",
    "\n",
    "ebm_perf = RegressionPerf(ebm.predict).explain_perf(X_test, y_test, name='EBM')\n",
    "lr_perf = RegressionPerf(lr.predict).explain_perf(X_test, y_test, name='Linear Regression')\n",
    "rt_perf = RegressionPerf(rt.predict).explain_perf(X_test, y_test, name='Regression Tree')\n",
    "show(ebm_perf)\n",
    "show(lr_perf)\n",
    "show(rt_perf)"
   ]
  },
  {
   "cell_type": "markdown",
   "metadata": {},
   "source": [
    "Global Interpretability"
   ]
  },
  {
   "cell_type": "code",
   "execution_count": 67,
   "metadata": {},
   "outputs": [
    {
     "data": {
      "text/html": [
       "<!-- http://127.0.0.1:7469/1959799430344/ -->\n",
       "<iframe src=\"http://127.0.0.1:7469/1959799430344/\" width=100% height=800 frameBorder=\"0\"></iframe>"
      ]
     },
     "metadata": {},
     "output_type": "display_data"
    }
   ],
   "source": [
    "ebm_global = ebm.explain_global(name='EBM')\n",
    "show(ebm_global)"
   ]
  },
  {
   "cell_type": "markdown",
   "metadata": {},
   "source": [
    "Local Interpretability"
   ]
  },
  {
   "cell_type": "code",
   "execution_count": 68,
   "metadata": {},
   "outputs": [
    {
     "data": {
      "text/html": [
       "<!-- http://127.0.0.1:7469/1959837768072/ -->\n",
       "<iframe src=\"http://127.0.0.1:7469/1959837768072/\" width=100% height=800 frameBorder=\"0\"></iframe>"
      ]
     },
     "metadata": {},
     "output_type": "display_data"
    }
   ],
   "source": [
    "ebm_local = ebm.explain_local(X_test[:15], y_test[:15], name='EBM')\n",
    "show(ebm_local)"
   ]
  },
  {
   "cell_type": "code",
   "execution_count": 69,
   "metadata": {},
   "outputs": [],
   "source": [
    "lr_global = lr.explain_global(name='Linear Regression')\n",
    "rt_global = rt.explain_global(name='Regression Tree')\n"
   ]
  },
  {
   "cell_type": "code",
   "execution_count": 70,
   "metadata": {},
   "outputs": [
    {
     "data": {
      "text/html": [
       "<!-- http://127.0.0.1:7469/1959835525896/ -->\n",
       "<a href=\"http://127.0.0.1:7469/1959835525896/\" target=\"_new\">Open in new window</a><iframe src=\"http://127.0.0.1:7469/1959835525896/\" width=100% height=800 frameBorder=\"0\"></iframe>"
      ]
     },
     "metadata": {},
     "output_type": "display_data"
    }
   ],
   "source": [
    "show([marginal, lr_global, lr_perf, rt_global, rt_perf, ebm_perf, ebm_global, ebm_local])"
   ]
  },
  {
   "cell_type": "code",
   "execution_count": null,
   "metadata": {},
   "outputs": [],
   "source": []
  },
  {
   "cell_type": "code",
   "execution_count": 71,
   "metadata": {},
   "outputs": [
    {
     "data": {
      "text/plain": [
       "1629    3.806662\n",
       "2959    3.157000\n",
       "2991    2.545531\n",
       "58      4.921804\n",
       "1498    2.420368\n",
       "          ...   \n",
       "1616    2.302585\n",
       "2449    3.676301\n",
       "1349    2.197225\n",
       "989     2.639057\n",
       "2946    4.760035\n",
       "Name: logAvgM, Length: 879, dtype: float64"
      ]
     },
     "execution_count": 71,
     "metadata": {},
     "output_type": "execute_result"
    }
   ],
   "source": [
    "y_test"
   ]
  },
  {
   "cell_type": "code",
   "execution_count": null,
   "metadata": {},
   "outputs": [],
   "source": []
  }
 ],
 "metadata": {
  "kernelspec": {
   "display_name": "Python 3",
   "language": "python",
   "name": "python3"
  },
  "language_info": {
   "codemirror_mode": {
    "name": "ipython",
    "version": 3
   },
   "file_extension": ".py",
   "mimetype": "text/x-python",
   "name": "python",
   "nbconvert_exporter": "python",
   "pygments_lexer": "ipython3",
   "version": "3.7.6"
  }
 },
 "nbformat": 4,
 "nbformat_minor": 4
}
